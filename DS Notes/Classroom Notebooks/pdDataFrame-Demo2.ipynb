{
 "cells": [
  {
   "cell_type": "markdown",
   "id": "e71050aa",
   "metadata": {},
   "source": [
    "# Filtering the data"
   ]
  },
  {
   "cell_type": "code",
   "execution_count": 177,
   "id": "d1839cbc",
   "metadata": {},
   "outputs": [],
   "source": [
    "import pandas as pd"
   ]
  },
  {
   "cell_type": "code",
   "execution_count": 178,
   "id": "f165c75f",
   "metadata": {},
   "outputs": [
    {
     "data": {
      "application/vnd.microsoft.datawrangler.viewer.v0+json": {
       "columns": [
        {
         "name": "index",
         "rawType": "int64",
         "type": "integer"
        },
        {
         "name": "Price",
         "rawType": "int64",
         "type": "integer"
        },
        {
         "name": "Age",
         "rawType": "float64",
         "type": "float"
        },
        {
         "name": "KM",
         "rawType": "float64",
         "type": "float"
        },
        {
         "name": "FuelType",
         "rawType": "object",
         "type": "string"
        },
        {
         "name": "HP",
         "rawType": "float64",
         "type": "float"
        },
        {
         "name": "MetColor",
         "rawType": "float64",
         "type": "float"
        },
        {
         "name": "Automatic",
         "rawType": "int64",
         "type": "integer"
        },
        {
         "name": "CC",
         "rawType": "int64",
         "type": "integer"
        },
        {
         "name": "Doors",
         "rawType": "object",
         "type": "string"
        },
        {
         "name": "Weight",
         "rawType": "int64",
         "type": "integer"
        }
       ],
       "ref": "88686517-78bb-4044-8172-430d20eb629d",
       "rows": [
        [
         "0",
         "13500",
         "23.0",
         "46986.0",
         "Diesel",
         "90.0",
         "1.0",
         "0",
         "2000",
         "three",
         "1165"
        ],
        [
         "1",
         "13750",
         "23.0",
         "72937.0",
         "Diesel",
         "90.0",
         "1.0",
         "0",
         "2000",
         "3",
         "1165"
        ],
        [
         "2",
         "13950",
         "24.0",
         "41711.0",
         "Diesel",
         "90.0",
         null,
         "0",
         "2000",
         "3",
         "1165"
        ],
        [
         "3",
         "14950",
         "26.0",
         "48000.0",
         "Diesel",
         "90.0",
         "0.0",
         "0",
         "2000",
         "3",
         "1165"
        ],
        [
         "4",
         "13750",
         "30.0",
         "38500.0",
         "Diesel",
         "90.0",
         "0.0",
         "0",
         "2000",
         "3",
         "1170"
        ]
       ],
       "shape": {
        "columns": 10,
        "rows": 5
       }
      },
      "text/html": [
       "<div>\n",
       "<style scoped>\n",
       "    .dataframe tbody tr th:only-of-type {\n",
       "        vertical-align: middle;\n",
       "    }\n",
       "\n",
       "    .dataframe tbody tr th {\n",
       "        vertical-align: top;\n",
       "    }\n",
       "\n",
       "    .dataframe thead th {\n",
       "        text-align: right;\n",
       "    }\n",
       "</style>\n",
       "<table border=\"1\" class=\"dataframe\">\n",
       "  <thead>\n",
       "    <tr style=\"text-align: right;\">\n",
       "      <th></th>\n",
       "      <th>Price</th>\n",
       "      <th>Age</th>\n",
       "      <th>KM</th>\n",
       "      <th>FuelType</th>\n",
       "      <th>HP</th>\n",
       "      <th>MetColor</th>\n",
       "      <th>Automatic</th>\n",
       "      <th>CC</th>\n",
       "      <th>Doors</th>\n",
       "      <th>Weight</th>\n",
       "    </tr>\n",
       "  </thead>\n",
       "  <tbody>\n",
       "    <tr>\n",
       "      <th>0</th>\n",
       "      <td>13500</td>\n",
       "      <td>23.0</td>\n",
       "      <td>46986.0</td>\n",
       "      <td>Diesel</td>\n",
       "      <td>90.0</td>\n",
       "      <td>1.0</td>\n",
       "      <td>0</td>\n",
       "      <td>2000</td>\n",
       "      <td>three</td>\n",
       "      <td>1165</td>\n",
       "    </tr>\n",
       "    <tr>\n",
       "      <th>1</th>\n",
       "      <td>13750</td>\n",
       "      <td>23.0</td>\n",
       "      <td>72937.0</td>\n",
       "      <td>Diesel</td>\n",
       "      <td>90.0</td>\n",
       "      <td>1.0</td>\n",
       "      <td>0</td>\n",
       "      <td>2000</td>\n",
       "      <td>3</td>\n",
       "      <td>1165</td>\n",
       "    </tr>\n",
       "    <tr>\n",
       "      <th>2</th>\n",
       "      <td>13950</td>\n",
       "      <td>24.0</td>\n",
       "      <td>41711.0</td>\n",
       "      <td>Diesel</td>\n",
       "      <td>90.0</td>\n",
       "      <td>NaN</td>\n",
       "      <td>0</td>\n",
       "      <td>2000</td>\n",
       "      <td>3</td>\n",
       "      <td>1165</td>\n",
       "    </tr>\n",
       "    <tr>\n",
       "      <th>3</th>\n",
       "      <td>14950</td>\n",
       "      <td>26.0</td>\n",
       "      <td>48000.0</td>\n",
       "      <td>Diesel</td>\n",
       "      <td>90.0</td>\n",
       "      <td>0.0</td>\n",
       "      <td>0</td>\n",
       "      <td>2000</td>\n",
       "      <td>3</td>\n",
       "      <td>1165</td>\n",
       "    </tr>\n",
       "    <tr>\n",
       "      <th>4</th>\n",
       "      <td>13750</td>\n",
       "      <td>30.0</td>\n",
       "      <td>38500.0</td>\n",
       "      <td>Diesel</td>\n",
       "      <td>90.0</td>\n",
       "      <td>0.0</td>\n",
       "      <td>0</td>\n",
       "      <td>2000</td>\n",
       "      <td>3</td>\n",
       "      <td>1170</td>\n",
       "    </tr>\n",
       "  </tbody>\n",
       "</table>\n",
       "</div>"
      ],
      "text/plain": [
       "   Price   Age       KM FuelType    HP  MetColor  Automatic    CC  Doors  \\\n",
       "0  13500  23.0  46986.0   Diesel  90.0       1.0          0  2000  three   \n",
       "1  13750  23.0  72937.0   Diesel  90.0       1.0          0  2000      3   \n",
       "2  13950  24.0  41711.0   Diesel  90.0       NaN          0  2000      3   \n",
       "3  14950  26.0  48000.0   Diesel  90.0       0.0          0  2000      3   \n",
       "4  13750  30.0  38500.0   Diesel  90.0       0.0          0  2000      3   \n",
       "\n",
       "   Weight  \n",
       "0    1165  \n",
       "1    1165  \n",
       "2    1165  \n",
       "3    1165  \n",
       "4    1170  "
      ]
     },
     "execution_count": 178,
     "metadata": {},
     "output_type": "execute_result"
    }
   ],
   "source": [
    "df=pd.read_csv('Toyota.csv', na_values=[\"??\",\"????\"], index_col=[0])\n",
    "df.head()"
   ]
  },
  {
   "cell_type": "code",
   "execution_count": 179,
   "id": "cbab4551",
   "metadata": {},
   "outputs": [
    {
     "data": {
      "application/vnd.microsoft.datawrangler.viewer.v0+json": {
       "columns": [
        {
         "name": "index",
         "rawType": "int64",
         "type": "integer"
        },
        {
         "name": "Age",
         "rawType": "float64",
         "type": "float"
        }
       ],
       "ref": "310cdc04-aeac-45d7-9af0-ae1d3e0a21ef",
       "rows": [
        [
         "3",
         "26.0"
        ],
        [
         "4",
         "30.0"
        ],
        [
         "5",
         "32.0"
        ],
        [
         "6",
         "27.0"
        ],
        [
         "7",
         "30.0"
        ]
       ],
       "shape": {
        "columns": 1,
        "rows": 5
       }
      },
      "text/html": [
       "<div>\n",
       "<style scoped>\n",
       "    .dataframe tbody tr th:only-of-type {\n",
       "        vertical-align: middle;\n",
       "    }\n",
       "\n",
       "    .dataframe tbody tr th {\n",
       "        vertical-align: top;\n",
       "    }\n",
       "\n",
       "    .dataframe thead th {\n",
       "        text-align: right;\n",
       "    }\n",
       "</style>\n",
       "<table border=\"1\" class=\"dataframe\">\n",
       "  <thead>\n",
       "    <tr style=\"text-align: right;\">\n",
       "      <th></th>\n",
       "      <th>Age</th>\n",
       "    </tr>\n",
       "  </thead>\n",
       "  <tbody>\n",
       "    <tr>\n",
       "      <th>3</th>\n",
       "      <td>26.0</td>\n",
       "    </tr>\n",
       "    <tr>\n",
       "      <th>4</th>\n",
       "      <td>30.0</td>\n",
       "    </tr>\n",
       "    <tr>\n",
       "      <th>5</th>\n",
       "      <td>32.0</td>\n",
       "    </tr>\n",
       "    <tr>\n",
       "      <th>6</th>\n",
       "      <td>27.0</td>\n",
       "    </tr>\n",
       "    <tr>\n",
       "      <th>7</th>\n",
       "      <td>30.0</td>\n",
       "    </tr>\n",
       "  </tbody>\n",
       "</table>\n",
       "</div>"
      ],
      "text/plain": [
       "    Age\n",
       "3  26.0\n",
       "4  30.0\n",
       "5  32.0\n",
       "6  27.0\n",
       "7  30.0"
      ]
     },
     "execution_count": 179,
     "metadata": {},
     "output_type": "execute_result"
    }
   ],
   "source": [
    "#Filter first 5 rows whose ‘Age’ column is greater than 25\n",
    "df.filter(items=['Age']).loc[df['Age'] > 25].head(5)"
   ]
  },
  {
   "cell_type": "code",
   "execution_count": 180,
   "id": "c688625f",
   "metadata": {},
   "outputs": [
    {
     "data": {
      "application/vnd.microsoft.datawrangler.viewer.v0+json": {
       "columns": [
        {
         "name": "index",
         "rawType": "int64",
         "type": "integer"
        },
        {
         "name": "FuelType",
         "rawType": "object",
         "type": "string"
        }
       ],
       "ref": "9f0bc201-45f2-4164-a542-10287f578c48",
       "rows": [
        [
         "8",
         "Petrol"
        ],
        [
         "10",
         "Petrol"
        ],
        [
         "11",
         "Petrol"
        ],
        [
         "12",
         "Petrol"
        ],
        [
         "13",
         "Petrol"
        ]
       ],
       "shape": {
        "columns": 1,
        "rows": 5
       }
      },
      "text/html": [
       "<div>\n",
       "<style scoped>\n",
       "    .dataframe tbody tr th:only-of-type {\n",
       "        vertical-align: middle;\n",
       "    }\n",
       "\n",
       "    .dataframe tbody tr th {\n",
       "        vertical-align: top;\n",
       "    }\n",
       "\n",
       "    .dataframe thead th {\n",
       "        text-align: right;\n",
       "    }\n",
       "</style>\n",
       "<table border=\"1\" class=\"dataframe\">\n",
       "  <thead>\n",
       "    <tr style=\"text-align: right;\">\n",
       "      <th></th>\n",
       "      <th>FuelType</th>\n",
       "    </tr>\n",
       "  </thead>\n",
       "  <tbody>\n",
       "    <tr>\n",
       "      <th>8</th>\n",
       "      <td>Petrol</td>\n",
       "    </tr>\n",
       "    <tr>\n",
       "      <th>10</th>\n",
       "      <td>Petrol</td>\n",
       "    </tr>\n",
       "    <tr>\n",
       "      <th>11</th>\n",
       "      <td>Petrol</td>\n",
       "    </tr>\n",
       "    <tr>\n",
       "      <th>12</th>\n",
       "      <td>Petrol</td>\n",
       "    </tr>\n",
       "    <tr>\n",
       "      <th>13</th>\n",
       "      <td>Petrol</td>\n",
       "    </tr>\n",
       "  </tbody>\n",
       "</table>\n",
       "</div>"
      ],
      "text/plain": [
       "   FuelType\n",
       "8    Petrol\n",
       "10   Petrol\n",
       "11   Petrol\n",
       "12   Petrol\n",
       "13   Petrol"
      ]
     },
     "execution_count": 180,
     "metadata": {},
     "output_type": "execute_result"
    }
   ],
   "source": [
    "#Filter first 5 rows whose ‘FuelType’ column value is \"Petrol\"\n",
    "df.filter(items=['FuelType']).loc[df['FuelType'] == 'Petrol'].head(5)"
   ]
  },
  {
   "cell_type": "code",
   "execution_count": 181,
   "id": "c1dd6ce6",
   "metadata": {},
   "outputs": [
    {
     "data": {
      "application/vnd.microsoft.datawrangler.viewer.v0+json": {
       "columns": [
        {
         "name": "index",
         "rawType": "int64",
         "type": "integer"
        },
        {
         "name": "FuelType",
         "rawType": "object",
         "type": "string"
        },
        {
         "name": "Age",
         "rawType": "float64",
         "type": "float"
        }
       ],
       "ref": "8f526273-9208-427b-8171-b289677390fa",
       "rows": [
        [
         "8",
         "Petrol",
         "27.0"
        ],
        [
         "13",
         "Petrol",
         "31.0"
        ],
        [
         "14",
         "Petrol",
         "32.0"
        ],
        [
         "15",
         "Petrol",
         "28.0"
        ],
        [
         "16",
         "Petrol",
         "30.0"
        ]
       ],
       "shape": {
        "columns": 2,
        "rows": 5
       }
      },
      "text/html": [
       "<div>\n",
       "<style scoped>\n",
       "    .dataframe tbody tr th:only-of-type {\n",
       "        vertical-align: middle;\n",
       "    }\n",
       "\n",
       "    .dataframe tbody tr th {\n",
       "        vertical-align: top;\n",
       "    }\n",
       "\n",
       "    .dataframe thead th {\n",
       "        text-align: right;\n",
       "    }\n",
       "</style>\n",
       "<table border=\"1\" class=\"dataframe\">\n",
       "  <thead>\n",
       "    <tr style=\"text-align: right;\">\n",
       "      <th></th>\n",
       "      <th>FuelType</th>\n",
       "      <th>Age</th>\n",
       "    </tr>\n",
       "  </thead>\n",
       "  <tbody>\n",
       "    <tr>\n",
       "      <th>8</th>\n",
       "      <td>Petrol</td>\n",
       "      <td>27.0</td>\n",
       "    </tr>\n",
       "    <tr>\n",
       "      <th>13</th>\n",
       "      <td>Petrol</td>\n",
       "      <td>31.0</td>\n",
       "    </tr>\n",
       "    <tr>\n",
       "      <th>14</th>\n",
       "      <td>Petrol</td>\n",
       "      <td>32.0</td>\n",
       "    </tr>\n",
       "    <tr>\n",
       "      <th>15</th>\n",
       "      <td>Petrol</td>\n",
       "      <td>28.0</td>\n",
       "    </tr>\n",
       "    <tr>\n",
       "      <th>16</th>\n",
       "      <td>Petrol</td>\n",
       "      <td>30.0</td>\n",
       "    </tr>\n",
       "  </tbody>\n",
       "</table>\n",
       "</div>"
      ],
      "text/plain": [
       "   FuelType   Age\n",
       "8    Petrol  27.0\n",
       "13   Petrol  31.0\n",
       "14   Petrol  32.0\n",
       "15   Petrol  28.0\n",
       "16   Petrol  30.0"
      ]
     },
     "execution_count": 181,
     "metadata": {},
     "output_type": "execute_result"
    }
   ],
   "source": [
    "#Filter first 5 rows whose ‘FuelType’ column value is \"Petrol\" and 'Age' greater than 25\n",
    "df.filter(items=['FuelType', 'Age']).loc[(df['FuelType'] == 'Petrol') & (df['Age'] > 25)].head(5)"
   ]
  },
  {
   "cell_type": "code",
   "execution_count": 182,
   "id": "645e5403",
   "metadata": {},
   "outputs": [
    {
     "data": {
      "application/vnd.microsoft.datawrangler.viewer.v0+json": {
       "columns": [
        {
         "name": "index",
         "rawType": "int64",
         "type": "integer"
        },
        {
         "name": "Age",
         "rawType": "float64",
         "type": "float"
        }
       ],
       "ref": "3a6b8fe4-e0c8-48a6-8755-84d5a2ef4c60",
       "rows": [
        [
         "10",
         "25.0"
        ],
        [
         "12",
         "25.0"
        ],
        [
         "25",
         "25.0"
        ],
        [
         "36",
         "25.0"
        ],
        [
         "54",
         "25.0"
        ]
       ],
       "shape": {
        "columns": 1,
        "rows": 5
       }
      },
      "text/html": [
       "<div>\n",
       "<style scoped>\n",
       "    .dataframe tbody tr th:only-of-type {\n",
       "        vertical-align: middle;\n",
       "    }\n",
       "\n",
       "    .dataframe tbody tr th {\n",
       "        vertical-align: top;\n",
       "    }\n",
       "\n",
       "    .dataframe thead th {\n",
       "        text-align: right;\n",
       "    }\n",
       "</style>\n",
       "<table border=\"1\" class=\"dataframe\">\n",
       "  <thead>\n",
       "    <tr style=\"text-align: right;\">\n",
       "      <th></th>\n",
       "      <th>Age</th>\n",
       "    </tr>\n",
       "  </thead>\n",
       "  <tbody>\n",
       "    <tr>\n",
       "      <th>10</th>\n",
       "      <td>25.0</td>\n",
       "    </tr>\n",
       "    <tr>\n",
       "      <th>12</th>\n",
       "      <td>25.0</td>\n",
       "    </tr>\n",
       "    <tr>\n",
       "      <th>25</th>\n",
       "      <td>25.0</td>\n",
       "    </tr>\n",
       "    <tr>\n",
       "      <th>36</th>\n",
       "      <td>25.0</td>\n",
       "    </tr>\n",
       "    <tr>\n",
       "      <th>54</th>\n",
       "      <td>25.0</td>\n",
       "    </tr>\n",
       "  </tbody>\n",
       "</table>\n",
       "</div>"
      ],
      "text/plain": [
       "     Age\n",
       "10  25.0\n",
       "12  25.0\n",
       "25  25.0\n",
       "36  25.0\n",
       "54  25.0"
      ]
     },
     "execution_count": 182,
     "metadata": {},
     "output_type": "execute_result"
    }
   ],
   "source": [
    "# Filter rows where Age is either 25 or 45\n",
    "df.filter(items=['Age']).loc[(df['Age'] == 25) | (df['Age'] == 45)].head(5)"
   ]
  },
  {
   "cell_type": "code",
   "execution_count": 183,
   "id": "320eaf4a",
   "metadata": {},
   "outputs": [
    {
     "data": {
      "application/vnd.microsoft.datawrangler.viewer.v0+json": {
       "columns": [
        {
         "name": "index",
         "rawType": "int64",
         "type": "integer"
        },
        {
         "name": "Price",
         "rawType": "int64",
         "type": "integer"
        },
        {
         "name": "Age",
         "rawType": "float64",
         "type": "float"
        },
        {
         "name": "KM",
         "rawType": "float64",
         "type": "float"
        },
        {
         "name": "FuelType",
         "rawType": "object",
         "type": "unknown"
        },
        {
         "name": "HP",
         "rawType": "float64",
         "type": "float"
        },
        {
         "name": "MetColor",
         "rawType": "float64",
         "type": "float"
        },
        {
         "name": "Automatic",
         "rawType": "int64",
         "type": "integer"
        },
        {
         "name": "CC",
         "rawType": "int64",
         "type": "integer"
        },
        {
         "name": "Doors",
         "rawType": "object",
         "type": "string"
        },
        {
         "name": "Weight",
         "rawType": "int64",
         "type": "integer"
        }
       ],
       "ref": "ad5d9657-9c0f-4fc3-acf4-ed530d3b5425",
       "rows": [
        [
         "3",
         "14950",
         "26.0",
         "48000.0",
         "Diesel",
         "90.0",
         "0.0",
         "0",
         "2000",
         "3",
         "1165"
        ],
        [
         "4",
         "13750",
         "30.0",
         "38500.0",
         "Diesel",
         "90.0",
         "0.0",
         "0",
         "2000",
         "3",
         "1170"
        ],
        [
         "5",
         "12950",
         "32.0",
         "61000.0",
         "Diesel",
         "90.0",
         "0.0",
         "0",
         "2000",
         "3",
         "1170"
        ],
        [
         "6",
         "16900",
         "27.0",
         null,
         "Diesel",
         null,
         null,
         "0",
         "2000",
         "3",
         "1245"
        ],
        [
         "7",
         "18600",
         "30.0",
         "75889.0",
         null,
         "90.0",
         "1.0",
         "0",
         "2000",
         "3",
         "1245"
        ]
       ],
       "shape": {
        "columns": 10,
        "rows": 5
       }
      },
      "text/html": [
       "<div>\n",
       "<style scoped>\n",
       "    .dataframe tbody tr th:only-of-type {\n",
       "        vertical-align: middle;\n",
       "    }\n",
       "\n",
       "    .dataframe tbody tr th {\n",
       "        vertical-align: top;\n",
       "    }\n",
       "\n",
       "    .dataframe thead th {\n",
       "        text-align: right;\n",
       "    }\n",
       "</style>\n",
       "<table border=\"1\" class=\"dataframe\">\n",
       "  <thead>\n",
       "    <tr style=\"text-align: right;\">\n",
       "      <th></th>\n",
       "      <th>Price</th>\n",
       "      <th>Age</th>\n",
       "      <th>KM</th>\n",
       "      <th>FuelType</th>\n",
       "      <th>HP</th>\n",
       "      <th>MetColor</th>\n",
       "      <th>Automatic</th>\n",
       "      <th>CC</th>\n",
       "      <th>Doors</th>\n",
       "      <th>Weight</th>\n",
       "    </tr>\n",
       "  </thead>\n",
       "  <tbody>\n",
       "    <tr>\n",
       "      <th>3</th>\n",
       "      <td>14950</td>\n",
       "      <td>26.0</td>\n",
       "      <td>48000.0</td>\n",
       "      <td>Diesel</td>\n",
       "      <td>90.0</td>\n",
       "      <td>0.0</td>\n",
       "      <td>0</td>\n",
       "      <td>2000</td>\n",
       "      <td>3</td>\n",
       "      <td>1165</td>\n",
       "    </tr>\n",
       "    <tr>\n",
       "      <th>4</th>\n",
       "      <td>13750</td>\n",
       "      <td>30.0</td>\n",
       "      <td>38500.0</td>\n",
       "      <td>Diesel</td>\n",
       "      <td>90.0</td>\n",
       "      <td>0.0</td>\n",
       "      <td>0</td>\n",
       "      <td>2000</td>\n",
       "      <td>3</td>\n",
       "      <td>1170</td>\n",
       "    </tr>\n",
       "    <tr>\n",
       "      <th>5</th>\n",
       "      <td>12950</td>\n",
       "      <td>32.0</td>\n",
       "      <td>61000.0</td>\n",
       "      <td>Diesel</td>\n",
       "      <td>90.0</td>\n",
       "      <td>0.0</td>\n",
       "      <td>0</td>\n",
       "      <td>2000</td>\n",
       "      <td>3</td>\n",
       "      <td>1170</td>\n",
       "    </tr>\n",
       "    <tr>\n",
       "      <th>6</th>\n",
       "      <td>16900</td>\n",
       "      <td>27.0</td>\n",
       "      <td>NaN</td>\n",
       "      <td>Diesel</td>\n",
       "      <td>NaN</td>\n",
       "      <td>NaN</td>\n",
       "      <td>0</td>\n",
       "      <td>2000</td>\n",
       "      <td>3</td>\n",
       "      <td>1245</td>\n",
       "    </tr>\n",
       "    <tr>\n",
       "      <th>7</th>\n",
       "      <td>18600</td>\n",
       "      <td>30.0</td>\n",
       "      <td>75889.0</td>\n",
       "      <td>NaN</td>\n",
       "      <td>90.0</td>\n",
       "      <td>1.0</td>\n",
       "      <td>0</td>\n",
       "      <td>2000</td>\n",
       "      <td>3</td>\n",
       "      <td>1245</td>\n",
       "    </tr>\n",
       "  </tbody>\n",
       "</table>\n",
       "</div>"
      ],
      "text/plain": [
       "   Price   Age       KM FuelType    HP  MetColor  Automatic    CC Doors  \\\n",
       "3  14950  26.0  48000.0   Diesel  90.0       0.0          0  2000     3   \n",
       "4  13750  30.0  38500.0   Diesel  90.0       0.0          0  2000     3   \n",
       "5  12950  32.0  61000.0   Diesel  90.0       0.0          0  2000     3   \n",
       "6  16900  27.0      NaN   Diesel   NaN       NaN          0  2000     3   \n",
       "7  18600  30.0  75889.0      NaN  90.0       1.0          0  2000     3   \n",
       "\n",
       "   Weight  \n",
       "3    1165  \n",
       "4    1170  \n",
       "5    1170  \n",
       "6    1245  \n",
       "7    1245  "
      ]
     },
     "execution_count": 183,
     "metadata": {},
     "output_type": "execute_result"
    }
   ],
   "source": [
    "#use query() function - Age > 25 \n",
    "df.query('Age > 25').head(5)"
   ]
  },
  {
   "cell_type": "code",
   "execution_count": 184,
   "id": "666166b6",
   "metadata": {},
   "outputs": [
    {
     "data": {
      "application/vnd.microsoft.datawrangler.viewer.v0+json": {
       "columns": [
        {
         "name": "index",
         "rawType": "int64",
         "type": "integer"
        },
        {
         "name": "Price",
         "rawType": "int64",
         "type": "integer"
        },
        {
         "name": "Age",
         "rawType": "float64",
         "type": "float"
        },
        {
         "name": "KM",
         "rawType": "float64",
         "type": "float"
        },
        {
         "name": "FuelType",
         "rawType": "object",
         "type": "string"
        },
        {
         "name": "HP",
         "rawType": "float64",
         "type": "float"
        },
        {
         "name": "MetColor",
         "rawType": "float64",
         "type": "float"
        },
        {
         "name": "Automatic",
         "rawType": "int64",
         "type": "integer"
        },
        {
         "name": "CC",
         "rawType": "int64",
         "type": "integer"
        },
        {
         "name": "Doors",
         "rawType": "object",
         "type": "string"
        },
        {
         "name": "Weight",
         "rawType": "int64",
         "type": "integer"
        }
       ],
       "ref": "8c115d4e-360a-453b-bcc2-06e77fa338b6",
       "rows": [
        [
         "8",
         "21500",
         "27.0",
         "19700.0",
         "Petrol",
         "192.0",
         "0.0",
         "0",
         "1800",
         "3",
         "1185"
        ],
        [
         "13",
         "21500",
         "31.0",
         "23000.0",
         "Petrol",
         "192.0",
         "1.0",
         "0",
         "1800",
         "3",
         "1185"
        ],
        [
         "14",
         "22500",
         "32.0",
         "34131.0",
         "Petrol",
         "192.0",
         "1.0",
         "0",
         "1800",
         "3",
         "1185"
        ],
        [
         "15",
         "22000",
         "28.0",
         "18739.0",
         "Petrol",
         null,
         "0.0",
         "0",
         "1800",
         "3",
         "1185"
        ],
        [
         "16",
         "22750",
         "30.0",
         "34000.0",
         "Petrol",
         "192.0",
         "1.0",
         "0",
         "1800",
         "3",
         "1185"
        ]
       ],
       "shape": {
        "columns": 10,
        "rows": 5
       }
      },
      "text/html": [
       "<div>\n",
       "<style scoped>\n",
       "    .dataframe tbody tr th:only-of-type {\n",
       "        vertical-align: middle;\n",
       "    }\n",
       "\n",
       "    .dataframe tbody tr th {\n",
       "        vertical-align: top;\n",
       "    }\n",
       "\n",
       "    .dataframe thead th {\n",
       "        text-align: right;\n",
       "    }\n",
       "</style>\n",
       "<table border=\"1\" class=\"dataframe\">\n",
       "  <thead>\n",
       "    <tr style=\"text-align: right;\">\n",
       "      <th></th>\n",
       "      <th>Price</th>\n",
       "      <th>Age</th>\n",
       "      <th>KM</th>\n",
       "      <th>FuelType</th>\n",
       "      <th>HP</th>\n",
       "      <th>MetColor</th>\n",
       "      <th>Automatic</th>\n",
       "      <th>CC</th>\n",
       "      <th>Doors</th>\n",
       "      <th>Weight</th>\n",
       "    </tr>\n",
       "  </thead>\n",
       "  <tbody>\n",
       "    <tr>\n",
       "      <th>8</th>\n",
       "      <td>21500</td>\n",
       "      <td>27.0</td>\n",
       "      <td>19700.0</td>\n",
       "      <td>Petrol</td>\n",
       "      <td>192.0</td>\n",
       "      <td>0.0</td>\n",
       "      <td>0</td>\n",
       "      <td>1800</td>\n",
       "      <td>3</td>\n",
       "      <td>1185</td>\n",
       "    </tr>\n",
       "    <tr>\n",
       "      <th>13</th>\n",
       "      <td>21500</td>\n",
       "      <td>31.0</td>\n",
       "      <td>23000.0</td>\n",
       "      <td>Petrol</td>\n",
       "      <td>192.0</td>\n",
       "      <td>1.0</td>\n",
       "      <td>0</td>\n",
       "      <td>1800</td>\n",
       "      <td>3</td>\n",
       "      <td>1185</td>\n",
       "    </tr>\n",
       "    <tr>\n",
       "      <th>14</th>\n",
       "      <td>22500</td>\n",
       "      <td>32.0</td>\n",
       "      <td>34131.0</td>\n",
       "      <td>Petrol</td>\n",
       "      <td>192.0</td>\n",
       "      <td>1.0</td>\n",
       "      <td>0</td>\n",
       "      <td>1800</td>\n",
       "      <td>3</td>\n",
       "      <td>1185</td>\n",
       "    </tr>\n",
       "    <tr>\n",
       "      <th>15</th>\n",
       "      <td>22000</td>\n",
       "      <td>28.0</td>\n",
       "      <td>18739.0</td>\n",
       "      <td>Petrol</td>\n",
       "      <td>NaN</td>\n",
       "      <td>0.0</td>\n",
       "      <td>0</td>\n",
       "      <td>1800</td>\n",
       "      <td>3</td>\n",
       "      <td>1185</td>\n",
       "    </tr>\n",
       "    <tr>\n",
       "      <th>16</th>\n",
       "      <td>22750</td>\n",
       "      <td>30.0</td>\n",
       "      <td>34000.0</td>\n",
       "      <td>Petrol</td>\n",
       "      <td>192.0</td>\n",
       "      <td>1.0</td>\n",
       "      <td>0</td>\n",
       "      <td>1800</td>\n",
       "      <td>3</td>\n",
       "      <td>1185</td>\n",
       "    </tr>\n",
       "  </tbody>\n",
       "</table>\n",
       "</div>"
      ],
      "text/plain": [
       "    Price   Age       KM FuelType     HP  MetColor  Automatic    CC Doors  \\\n",
       "8   21500  27.0  19700.0   Petrol  192.0       0.0          0  1800     3   \n",
       "13  21500  31.0  23000.0   Petrol  192.0       1.0          0  1800     3   \n",
       "14  22500  32.0  34131.0   Petrol  192.0       1.0          0  1800     3   \n",
       "15  22000  28.0  18739.0   Petrol    NaN       0.0          0  1800     3   \n",
       "16  22750  30.0  34000.0   Petrol  192.0       1.0          0  1800     3   \n",
       "\n",
       "    Weight  \n",
       "8     1185  \n",
       "13    1185  \n",
       "14    1185  \n",
       "15    1185  \n",
       "16    1185  "
      ]
     },
     "execution_count": 184,
     "metadata": {},
     "output_type": "execute_result"
    }
   ],
   "source": [
    "#use query() function - Age > 25 and FuelType==\"Petrol\"\n",
    "df.query('Age > 25 and FuelType == \"Petrol\"').head(5)"
   ]
  },
  {
   "cell_type": "code",
   "execution_count": 185,
   "id": "f09e59c3",
   "metadata": {},
   "outputs": [
    {
     "data": {
      "application/vnd.microsoft.datawrangler.viewer.v0+json": {
       "columns": [
        {
         "name": "index",
         "rawType": "int64",
         "type": "integer"
        },
        {
         "name": "Price",
         "rawType": "int64",
         "type": "integer"
        },
        {
         "name": "Age",
         "rawType": "float64",
         "type": "float"
        },
        {
         "name": "KM",
         "rawType": "float64",
         "type": "float"
        },
        {
         "name": "FuelType",
         "rawType": "object",
         "type": "unknown"
        },
        {
         "name": "HP",
         "rawType": "float64",
         "type": "float"
        },
        {
         "name": "MetColor",
         "rawType": "float64",
         "type": "float"
        },
        {
         "name": "Automatic",
         "rawType": "int64",
         "type": "integer"
        },
        {
         "name": "CC",
         "rawType": "int64",
         "type": "integer"
        },
        {
         "name": "Doors",
         "rawType": "object",
         "type": "string"
        },
        {
         "name": "Weight",
         "rawType": "int64",
         "type": "integer"
        }
       ],
       "ref": "82b148e8-2673-44db-bf94-806589bf2cef",
       "rows": [
        [
         "3",
         "14950",
         "26.0",
         "48000.0",
         "Diesel",
         "90.0",
         "0.0",
         "0",
         "2000",
         "3",
         "1165"
        ],
        [
         "4",
         "13750",
         "30.0",
         "38500.0",
         "Diesel",
         "90.0",
         "0.0",
         "0",
         "2000",
         "3",
         "1170"
        ],
        [
         "5",
         "12950",
         "32.0",
         "61000.0",
         "Diesel",
         "90.0",
         "0.0",
         "0",
         "2000",
         "3",
         "1170"
        ],
        [
         "6",
         "16900",
         "27.0",
         null,
         "Diesel",
         null,
         null,
         "0",
         "2000",
         "3",
         "1245"
        ],
        [
         "7",
         "18600",
         "30.0",
         "75889.0",
         null,
         "90.0",
         "1.0",
         "0",
         "2000",
         "3",
         "1245"
        ]
       ],
       "shape": {
        "columns": 10,
        "rows": 5
       }
      },
      "text/html": [
       "<div>\n",
       "<style scoped>\n",
       "    .dataframe tbody tr th:only-of-type {\n",
       "        vertical-align: middle;\n",
       "    }\n",
       "\n",
       "    .dataframe tbody tr th {\n",
       "        vertical-align: top;\n",
       "    }\n",
       "\n",
       "    .dataframe thead th {\n",
       "        text-align: right;\n",
       "    }\n",
       "</style>\n",
       "<table border=\"1\" class=\"dataframe\">\n",
       "  <thead>\n",
       "    <tr style=\"text-align: right;\">\n",
       "      <th></th>\n",
       "      <th>Price</th>\n",
       "      <th>Age</th>\n",
       "      <th>KM</th>\n",
       "      <th>FuelType</th>\n",
       "      <th>HP</th>\n",
       "      <th>MetColor</th>\n",
       "      <th>Automatic</th>\n",
       "      <th>CC</th>\n",
       "      <th>Doors</th>\n",
       "      <th>Weight</th>\n",
       "    </tr>\n",
       "  </thead>\n",
       "  <tbody>\n",
       "    <tr>\n",
       "      <th>3</th>\n",
       "      <td>14950</td>\n",
       "      <td>26.0</td>\n",
       "      <td>48000.0</td>\n",
       "      <td>Diesel</td>\n",
       "      <td>90.0</td>\n",
       "      <td>0.0</td>\n",
       "      <td>0</td>\n",
       "      <td>2000</td>\n",
       "      <td>3</td>\n",
       "      <td>1165</td>\n",
       "    </tr>\n",
       "    <tr>\n",
       "      <th>4</th>\n",
       "      <td>13750</td>\n",
       "      <td>30.0</td>\n",
       "      <td>38500.0</td>\n",
       "      <td>Diesel</td>\n",
       "      <td>90.0</td>\n",
       "      <td>0.0</td>\n",
       "      <td>0</td>\n",
       "      <td>2000</td>\n",
       "      <td>3</td>\n",
       "      <td>1170</td>\n",
       "    </tr>\n",
       "    <tr>\n",
       "      <th>5</th>\n",
       "      <td>12950</td>\n",
       "      <td>32.0</td>\n",
       "      <td>61000.0</td>\n",
       "      <td>Diesel</td>\n",
       "      <td>90.0</td>\n",
       "      <td>0.0</td>\n",
       "      <td>0</td>\n",
       "      <td>2000</td>\n",
       "      <td>3</td>\n",
       "      <td>1170</td>\n",
       "    </tr>\n",
       "    <tr>\n",
       "      <th>6</th>\n",
       "      <td>16900</td>\n",
       "      <td>27.0</td>\n",
       "      <td>NaN</td>\n",
       "      <td>Diesel</td>\n",
       "      <td>NaN</td>\n",
       "      <td>NaN</td>\n",
       "      <td>0</td>\n",
       "      <td>2000</td>\n",
       "      <td>3</td>\n",
       "      <td>1245</td>\n",
       "    </tr>\n",
       "    <tr>\n",
       "      <th>7</th>\n",
       "      <td>18600</td>\n",
       "      <td>30.0</td>\n",
       "      <td>75889.0</td>\n",
       "      <td>NaN</td>\n",
       "      <td>90.0</td>\n",
       "      <td>1.0</td>\n",
       "      <td>0</td>\n",
       "      <td>2000</td>\n",
       "      <td>3</td>\n",
       "      <td>1245</td>\n",
       "    </tr>\n",
       "  </tbody>\n",
       "</table>\n",
       "</div>"
      ],
      "text/plain": [
       "   Price   Age       KM FuelType    HP  MetColor  Automatic    CC Doors  \\\n",
       "3  14950  26.0  48000.0   Diesel  90.0       0.0          0  2000     3   \n",
       "4  13750  30.0  38500.0   Diesel  90.0       0.0          0  2000     3   \n",
       "5  12950  32.0  61000.0   Diesel  90.0       0.0          0  2000     3   \n",
       "6  16900  27.0      NaN   Diesel   NaN       NaN          0  2000     3   \n",
       "7  18600  30.0  75889.0      NaN  90.0       1.0          0  2000     3   \n",
       "\n",
       "   Weight  \n",
       "3    1165  \n",
       "4    1170  \n",
       "5    1170  \n",
       "6    1245  \n",
       "7    1245  "
      ]
     },
     "execution_count": 185,
     "metadata": {},
     "output_type": "execute_result"
    }
   ],
   "source": [
    "#use loc - Age > 25 \n",
    "df.loc[df['Age'] > 25].head(5)"
   ]
  },
  {
   "cell_type": "code",
   "execution_count": 186,
   "id": "7d8b1d11",
   "metadata": {},
   "outputs": [
    {
     "data": {
      "application/vnd.microsoft.datawrangler.viewer.v0+json": {
       "columns": [
        {
         "name": "index",
         "rawType": "int64",
         "type": "integer"
        },
        {
         "name": "Age",
         "rawType": "float64",
         "type": "float"
        },
        {
         "name": "FuelType",
         "rawType": "object",
         "type": "string"
        }
       ],
       "ref": "5c991816-c855-46dd-9e1b-073bb62309aa",
       "rows": [
        [
         "8",
         "27.0",
         "Petrol"
        ],
        [
         "13",
         "31.0",
         "Petrol"
        ],
        [
         "14",
         "32.0",
         "Petrol"
        ],
        [
         "15",
         "28.0",
         "Petrol"
        ],
        [
         "16",
         "30.0",
         "Petrol"
        ]
       ],
       "shape": {
        "columns": 2,
        "rows": 5
       }
      },
      "text/html": [
       "<div>\n",
       "<style scoped>\n",
       "    .dataframe tbody tr th:only-of-type {\n",
       "        vertical-align: middle;\n",
       "    }\n",
       "\n",
       "    .dataframe tbody tr th {\n",
       "        vertical-align: top;\n",
       "    }\n",
       "\n",
       "    .dataframe thead th {\n",
       "        text-align: right;\n",
       "    }\n",
       "</style>\n",
       "<table border=\"1\" class=\"dataframe\">\n",
       "  <thead>\n",
       "    <tr style=\"text-align: right;\">\n",
       "      <th></th>\n",
       "      <th>Age</th>\n",
       "      <th>FuelType</th>\n",
       "    </tr>\n",
       "  </thead>\n",
       "  <tbody>\n",
       "    <tr>\n",
       "      <th>8</th>\n",
       "      <td>27.0</td>\n",
       "      <td>Petrol</td>\n",
       "    </tr>\n",
       "    <tr>\n",
       "      <th>13</th>\n",
       "      <td>31.0</td>\n",
       "      <td>Petrol</td>\n",
       "    </tr>\n",
       "    <tr>\n",
       "      <th>14</th>\n",
       "      <td>32.0</td>\n",
       "      <td>Petrol</td>\n",
       "    </tr>\n",
       "    <tr>\n",
       "      <th>15</th>\n",
       "      <td>28.0</td>\n",
       "      <td>Petrol</td>\n",
       "    </tr>\n",
       "    <tr>\n",
       "      <th>16</th>\n",
       "      <td>30.0</td>\n",
       "      <td>Petrol</td>\n",
       "    </tr>\n",
       "  </tbody>\n",
       "</table>\n",
       "</div>"
      ],
      "text/plain": [
       "     Age FuelType\n",
       "8   27.0   Petrol\n",
       "13  31.0   Petrol\n",
       "14  32.0   Petrol\n",
       "15  28.0   Petrol\n",
       "16  30.0   Petrol"
      ]
     },
     "execution_count": 186,
     "metadata": {},
     "output_type": "execute_result"
    }
   ],
   "source": [
    "#use loc - Age > 25 and FuelType==\"Petrol\", extract ['Age', 'FuelType'] column\n",
    "df.loc[(df['Age'] > 25) & (df['FuelType'] == 'Petrol'), ['Age', 'FuelType']].head(5)"
   ]
  },
  {
   "cell_type": "code",
   "execution_count": 187,
   "id": "6b8c8089",
   "metadata": {},
   "outputs": [
    {
     "data": {
      "application/vnd.microsoft.datawrangler.viewer.v0+json": {
       "columns": [
        {
         "name": "index",
         "rawType": "int64",
         "type": "integer"
        },
        {
         "name": "Price",
         "rawType": "int64",
         "type": "integer"
        },
        {
         "name": "Age",
         "rawType": "float64",
         "type": "float"
        },
        {
         "name": "KM",
         "rawType": "float64",
         "type": "float"
        },
        {
         "name": "FuelType",
         "rawType": "object",
         "type": "string"
        },
        {
         "name": "HP",
         "rawType": "float64",
         "type": "float"
        },
        {
         "name": "MetColor",
         "rawType": "float64",
         "type": "float"
        },
        {
         "name": "Automatic",
         "rawType": "int64",
         "type": "integer"
        },
        {
         "name": "CC",
         "rawType": "int64",
         "type": "integer"
        },
        {
         "name": "Doors",
         "rawType": "object",
         "type": "string"
        },
        {
         "name": "Weight",
         "rawType": "int64",
         "type": "integer"
        }
       ],
       "ref": "a918beca-655b-4725-8490-047e74a5a202",
       "rows": [
        [
         "10",
         "20950",
         "25.0",
         "31461.0",
         "Petrol",
         "192.0",
         "0.0",
         "0",
         "1800",
         "3",
         "1185"
        ],
        [
         "12",
         "19600",
         "25.0",
         "32189.0",
         "Petrol",
         "192.0",
         "0.0",
         "0",
         "1800",
         "3",
         "1185"
        ],
        [
         "25",
         "15950",
         "25.0",
         "28450.0",
         "Petrol",
         "110.0",
         "1.0",
         "0",
         "1600",
         "3",
         "1120"
        ],
        [
         "36",
         "15950",
         "25.0",
         "25000.0",
         "Petrol",
         "97.0",
         "0.0",
         "0",
         "1400",
         "3",
         "1100"
        ],
        [
         "54",
         "15500",
         "25.0",
         "49163.0",
         "Petrol",
         "110.0",
         "0.0",
         "1",
         "1600",
         "5",
         "1165"
        ]
       ],
       "shape": {
        "columns": 10,
        "rows": 5
       }
      },
      "text/html": [
       "<div>\n",
       "<style scoped>\n",
       "    .dataframe tbody tr th:only-of-type {\n",
       "        vertical-align: middle;\n",
       "    }\n",
       "\n",
       "    .dataframe tbody tr th {\n",
       "        vertical-align: top;\n",
       "    }\n",
       "\n",
       "    .dataframe thead th {\n",
       "        text-align: right;\n",
       "    }\n",
       "</style>\n",
       "<table border=\"1\" class=\"dataframe\">\n",
       "  <thead>\n",
       "    <tr style=\"text-align: right;\">\n",
       "      <th></th>\n",
       "      <th>Price</th>\n",
       "      <th>Age</th>\n",
       "      <th>KM</th>\n",
       "      <th>FuelType</th>\n",
       "      <th>HP</th>\n",
       "      <th>MetColor</th>\n",
       "      <th>Automatic</th>\n",
       "      <th>CC</th>\n",
       "      <th>Doors</th>\n",
       "      <th>Weight</th>\n",
       "    </tr>\n",
       "  </thead>\n",
       "  <tbody>\n",
       "    <tr>\n",
       "      <th>10</th>\n",
       "      <td>20950</td>\n",
       "      <td>25.0</td>\n",
       "      <td>31461.0</td>\n",
       "      <td>Petrol</td>\n",
       "      <td>192.0</td>\n",
       "      <td>0.0</td>\n",
       "      <td>0</td>\n",
       "      <td>1800</td>\n",
       "      <td>3</td>\n",
       "      <td>1185</td>\n",
       "    </tr>\n",
       "    <tr>\n",
       "      <th>12</th>\n",
       "      <td>19600</td>\n",
       "      <td>25.0</td>\n",
       "      <td>32189.0</td>\n",
       "      <td>Petrol</td>\n",
       "      <td>192.0</td>\n",
       "      <td>0.0</td>\n",
       "      <td>0</td>\n",
       "      <td>1800</td>\n",
       "      <td>3</td>\n",
       "      <td>1185</td>\n",
       "    </tr>\n",
       "    <tr>\n",
       "      <th>25</th>\n",
       "      <td>15950</td>\n",
       "      <td>25.0</td>\n",
       "      <td>28450.0</td>\n",
       "      <td>Petrol</td>\n",
       "      <td>110.0</td>\n",
       "      <td>1.0</td>\n",
       "      <td>0</td>\n",
       "      <td>1600</td>\n",
       "      <td>3</td>\n",
       "      <td>1120</td>\n",
       "    </tr>\n",
       "    <tr>\n",
       "      <th>36</th>\n",
       "      <td>15950</td>\n",
       "      <td>25.0</td>\n",
       "      <td>25000.0</td>\n",
       "      <td>Petrol</td>\n",
       "      <td>97.0</td>\n",
       "      <td>0.0</td>\n",
       "      <td>0</td>\n",
       "      <td>1400</td>\n",
       "      <td>3</td>\n",
       "      <td>1100</td>\n",
       "    </tr>\n",
       "    <tr>\n",
       "      <th>54</th>\n",
       "      <td>15500</td>\n",
       "      <td>25.0</td>\n",
       "      <td>49163.0</td>\n",
       "      <td>Petrol</td>\n",
       "      <td>110.0</td>\n",
       "      <td>0.0</td>\n",
       "      <td>1</td>\n",
       "      <td>1600</td>\n",
       "      <td>5</td>\n",
       "      <td>1165</td>\n",
       "    </tr>\n",
       "  </tbody>\n",
       "</table>\n",
       "</div>"
      ],
      "text/plain": [
       "    Price   Age       KM FuelType     HP  MetColor  Automatic    CC Doors  \\\n",
       "10  20950  25.0  31461.0   Petrol  192.0       0.0          0  1800     3   \n",
       "12  19600  25.0  32189.0   Petrol  192.0       0.0          0  1800     3   \n",
       "25  15950  25.0  28450.0   Petrol  110.0       1.0          0  1600     3   \n",
       "36  15950  25.0  25000.0   Petrol   97.0       0.0          0  1400     3   \n",
       "54  15500  25.0  49163.0   Petrol  110.0       0.0          1  1600     5   \n",
       "\n",
       "    Weight  \n",
       "10    1185  \n",
       "12    1185  \n",
       "25    1120  \n",
       "36    1100  \n",
       "54    1165  "
      ]
     },
     "execution_count": 187,
     "metadata": {},
     "output_type": "execute_result"
    }
   ],
   "source": [
    "# use insin() - Filter rows where Age is either 25 or 45\n",
    "df.loc[df['Age'].isin([25, 45])].head(5)"
   ]
  },
  {
   "cell_type": "markdown",
   "id": "212cb140",
   "metadata": {},
   "source": [
    "# Filtering the null values"
   ]
  },
  {
   "cell_type": "code",
   "execution_count": 188,
   "id": "558fc607",
   "metadata": {},
   "outputs": [
    {
     "data": {
      "application/vnd.microsoft.datawrangler.viewer.v0+json": {
       "columns": [
        {
         "name": "index",
         "rawType": "int64",
         "type": "integer"
        },
        {
         "name": "Price",
         "rawType": "bool",
         "type": "boolean"
        },
        {
         "name": "Age",
         "rawType": "bool",
         "type": "boolean"
        },
        {
         "name": "KM",
         "rawType": "bool",
         "type": "boolean"
        },
        {
         "name": "FuelType",
         "rawType": "bool",
         "type": "boolean"
        },
        {
         "name": "HP",
         "rawType": "bool",
         "type": "boolean"
        },
        {
         "name": "MetColor",
         "rawType": "bool",
         "type": "boolean"
        },
        {
         "name": "Automatic",
         "rawType": "bool",
         "type": "boolean"
        },
        {
         "name": "CC",
         "rawType": "bool",
         "type": "boolean"
        },
        {
         "name": "Doors",
         "rawType": "bool",
         "type": "boolean"
        },
        {
         "name": "Weight",
         "rawType": "bool",
         "type": "boolean"
        }
       ],
       "ref": "f974ef19-5b03-4ab7-8e55-8a4e043a4e95",
       "rows": [
        [
         "0",
         "False",
         "False",
         "False",
         "False",
         "False",
         "False",
         "False",
         "False",
         "False",
         "False"
        ],
        [
         "1",
         "False",
         "False",
         "False",
         "False",
         "False",
         "False",
         "False",
         "False",
         "False",
         "False"
        ],
        [
         "2",
         "False",
         "False",
         "False",
         "False",
         "False",
         "True",
         "False",
         "False",
         "False",
         "False"
        ],
        [
         "3",
         "False",
         "False",
         "False",
         "False",
         "False",
         "False",
         "False",
         "False",
         "False",
         "False"
        ],
        [
         "4",
         "False",
         "False",
         "False",
         "False",
         "False",
         "False",
         "False",
         "False",
         "False",
         "False"
        ],
        [
         "5",
         "False",
         "False",
         "False",
         "False",
         "False",
         "False",
         "False",
         "False",
         "False",
         "False"
        ],
        [
         "6",
         "False",
         "False",
         "True",
         "False",
         "True",
         "True",
         "False",
         "False",
         "False",
         "False"
        ],
        [
         "7",
         "False",
         "False",
         "False",
         "True",
         "False",
         "False",
         "False",
         "False",
         "False",
         "False"
        ],
        [
         "8",
         "False",
         "False",
         "False",
         "False",
         "False",
         "False",
         "False",
         "False",
         "False",
         "False"
        ],
        [
         "9",
         "False",
         "False",
         "False",
         "False",
         "True",
         "True",
         "False",
         "False",
         "False",
         "False"
        ],
        [
         "10",
         "False",
         "False",
         "False",
         "False",
         "False",
         "False",
         "False",
         "False",
         "False",
         "False"
        ],
        [
         "11",
         "False",
         "False",
         "False",
         "False",
         "False",
         "False",
         "False",
         "False",
         "False",
         "False"
        ],
        [
         "12",
         "False",
         "False",
         "False",
         "False",
         "False",
         "False",
         "False",
         "False",
         "False",
         "False"
        ],
        [
         "13",
         "False",
         "False",
         "False",
         "False",
         "False",
         "False",
         "False",
         "False",
         "False",
         "False"
        ],
        [
         "14",
         "False",
         "False",
         "False",
         "False",
         "False",
         "False",
         "False",
         "False",
         "False",
         "False"
        ],
        [
         "15",
         "False",
         "False",
         "False",
         "False",
         "True",
         "False",
         "False",
         "False",
         "False",
         "False"
        ],
        [
         "16",
         "False",
         "False",
         "False",
         "False",
         "False",
         "False",
         "False",
         "False",
         "False",
         "False"
        ],
        [
         "17",
         "False",
         "False",
         "False",
         "False",
         "False",
         "False",
         "False",
         "False",
         "False",
         "False"
        ],
        [
         "18",
         "False",
         "False",
         "False",
         "False",
         "False",
         "False",
         "False",
         "False",
         "False",
         "False"
        ],
        [
         "19",
         "False",
         "False",
         "False",
         "False",
         "False",
         "False",
         "False",
         "False",
         "False",
         "False"
        ],
        [
         "20",
         "False",
         "False",
         "False",
         "False",
         "False",
         "False",
         "False",
         "False",
         "False",
         "False"
        ],
        [
         "21",
         "False",
         "False",
         "False",
         "True",
         "False",
         "False",
         "False",
         "False",
         "False",
         "False"
        ],
        [
         "22",
         "False",
         "False",
         "False",
         "False",
         "False",
         "False",
         "False",
         "False",
         "False",
         "False"
        ],
        [
         "23",
         "False",
         "False",
         "False",
         "False",
         "False",
         "False",
         "False",
         "False",
         "False",
         "False"
        ],
        [
         "24",
         "False",
         "False",
         "False",
         "False",
         "False",
         "False",
         "False",
         "False",
         "False",
         "False"
        ],
        [
         "25",
         "False",
         "False",
         "False",
         "False",
         "False",
         "False",
         "False",
         "False",
         "False",
         "False"
        ],
        [
         "26",
         "False",
         "False",
         "False",
         "True",
         "False",
         "False",
         "False",
         "False",
         "False",
         "False"
        ],
        [
         "27",
         "False",
         "False",
         "False",
         "False",
         "False",
         "False",
         "False",
         "False",
         "False",
         "False"
        ],
        [
         "28",
         "False",
         "False",
         "False",
         "False",
         "False",
         "False",
         "False",
         "False",
         "False",
         "False"
        ],
        [
         "29",
         "False",
         "False",
         "False",
         "True",
         "False",
         "True",
         "False",
         "False",
         "False",
         "False"
        ],
        [
         "30",
         "False",
         "False",
         "False",
         "False",
         "False",
         "False",
         "False",
         "False",
         "False",
         "False"
        ],
        [
         "31",
         "False",
         "False",
         "False",
         "False",
         "False",
         "False",
         "False",
         "False",
         "False",
         "False"
        ],
        [
         "32",
         "False",
         "False",
         "False",
         "False",
         "False",
         "False",
         "False",
         "False",
         "False",
         "False"
        ],
        [
         "33",
         "False",
         "True",
         "False",
         "False",
         "False",
         "False",
         "False",
         "False",
         "False",
         "False"
        ],
        [
         "34",
         "False",
         "False",
         "False",
         "False",
         "False",
         "False",
         "False",
         "False",
         "False",
         "False"
        ],
        [
         "35",
         "False",
         "False",
         "False",
         "False",
         "False",
         "False",
         "False",
         "False",
         "False",
         "False"
        ],
        [
         "36",
         "False",
         "False",
         "False",
         "False",
         "False",
         "False",
         "False",
         "False",
         "False",
         "False"
        ],
        [
         "37",
         "False",
         "False",
         "False",
         "False",
         "False",
         "False",
         "False",
         "False",
         "False",
         "False"
        ],
        [
         "38",
         "False",
         "False",
         "False",
         "False",
         "False",
         "False",
         "False",
         "False",
         "False",
         "False"
        ],
        [
         "39",
         "False",
         "False",
         "False",
         "False",
         "False",
         "False",
         "False",
         "False",
         "False",
         "False"
        ],
        [
         "40",
         "False",
         "False",
         "False",
         "False",
         "False",
         "False",
         "False",
         "False",
         "False",
         "False"
        ],
        [
         "41",
         "False",
         "False",
         "False",
         "False",
         "False",
         "False",
         "False",
         "False",
         "False",
         "False"
        ],
        [
         "42",
         "False",
         "False",
         "False",
         "False",
         "False",
         "False",
         "False",
         "False",
         "False",
         "False"
        ],
        [
         "43",
         "False",
         "False",
         "False",
         "False",
         "False",
         "True",
         "False",
         "False",
         "False",
         "False"
        ],
        [
         "44",
         "False",
         "False",
         "False",
         "True",
         "False",
         "False",
         "False",
         "False",
         "False",
         "False"
        ],
        [
         "45",
         "False",
         "False",
         "False",
         "False",
         "False",
         "True",
         "False",
         "False",
         "False",
         "False"
        ],
        [
         "46",
         "False",
         "False",
         "False",
         "False",
         "False",
         "False",
         "False",
         "False",
         "False",
         "False"
        ],
        [
         "47",
         "False",
         "False",
         "False",
         "False",
         "False",
         "False",
         "False",
         "False",
         "False",
         "False"
        ],
        [
         "48",
         "False",
         "False",
         "False",
         "False",
         "False",
         "False",
         "False",
         "False",
         "False",
         "False"
        ],
        [
         "49",
         "False",
         "False",
         "False",
         "False",
         "False",
         "True",
         "False",
         "False",
         "False",
         "False"
        ]
       ],
       "shape": {
        "columns": 10,
        "rows": 1436
       }
      },
      "text/html": [
       "<div>\n",
       "<style scoped>\n",
       "    .dataframe tbody tr th:only-of-type {\n",
       "        vertical-align: middle;\n",
       "    }\n",
       "\n",
       "    .dataframe tbody tr th {\n",
       "        vertical-align: top;\n",
       "    }\n",
       "\n",
       "    .dataframe thead th {\n",
       "        text-align: right;\n",
       "    }\n",
       "</style>\n",
       "<table border=\"1\" class=\"dataframe\">\n",
       "  <thead>\n",
       "    <tr style=\"text-align: right;\">\n",
       "      <th></th>\n",
       "      <th>Price</th>\n",
       "      <th>Age</th>\n",
       "      <th>KM</th>\n",
       "      <th>FuelType</th>\n",
       "      <th>HP</th>\n",
       "      <th>MetColor</th>\n",
       "      <th>Automatic</th>\n",
       "      <th>CC</th>\n",
       "      <th>Doors</th>\n",
       "      <th>Weight</th>\n",
       "    </tr>\n",
       "  </thead>\n",
       "  <tbody>\n",
       "    <tr>\n",
       "      <th>0</th>\n",
       "      <td>False</td>\n",
       "      <td>False</td>\n",
       "      <td>False</td>\n",
       "      <td>False</td>\n",
       "      <td>False</td>\n",
       "      <td>False</td>\n",
       "      <td>False</td>\n",
       "      <td>False</td>\n",
       "      <td>False</td>\n",
       "      <td>False</td>\n",
       "    </tr>\n",
       "    <tr>\n",
       "      <th>1</th>\n",
       "      <td>False</td>\n",
       "      <td>False</td>\n",
       "      <td>False</td>\n",
       "      <td>False</td>\n",
       "      <td>False</td>\n",
       "      <td>False</td>\n",
       "      <td>False</td>\n",
       "      <td>False</td>\n",
       "      <td>False</td>\n",
       "      <td>False</td>\n",
       "    </tr>\n",
       "    <tr>\n",
       "      <th>2</th>\n",
       "      <td>False</td>\n",
       "      <td>False</td>\n",
       "      <td>False</td>\n",
       "      <td>False</td>\n",
       "      <td>False</td>\n",
       "      <td>True</td>\n",
       "      <td>False</td>\n",
       "      <td>False</td>\n",
       "      <td>False</td>\n",
       "      <td>False</td>\n",
       "    </tr>\n",
       "    <tr>\n",
       "      <th>3</th>\n",
       "      <td>False</td>\n",
       "      <td>False</td>\n",
       "      <td>False</td>\n",
       "      <td>False</td>\n",
       "      <td>False</td>\n",
       "      <td>False</td>\n",
       "      <td>False</td>\n",
       "      <td>False</td>\n",
       "      <td>False</td>\n",
       "      <td>False</td>\n",
       "    </tr>\n",
       "    <tr>\n",
       "      <th>4</th>\n",
       "      <td>False</td>\n",
       "      <td>False</td>\n",
       "      <td>False</td>\n",
       "      <td>False</td>\n",
       "      <td>False</td>\n",
       "      <td>False</td>\n",
       "      <td>False</td>\n",
       "      <td>False</td>\n",
       "      <td>False</td>\n",
       "      <td>False</td>\n",
       "    </tr>\n",
       "    <tr>\n",
       "      <th>...</th>\n",
       "      <td>...</td>\n",
       "      <td>...</td>\n",
       "      <td>...</td>\n",
       "      <td>...</td>\n",
       "      <td>...</td>\n",
       "      <td>...</td>\n",
       "      <td>...</td>\n",
       "      <td>...</td>\n",
       "      <td>...</td>\n",
       "      <td>...</td>\n",
       "    </tr>\n",
       "    <tr>\n",
       "      <th>1431</th>\n",
       "      <td>False</td>\n",
       "      <td>True</td>\n",
       "      <td>False</td>\n",
       "      <td>False</td>\n",
       "      <td>False</td>\n",
       "      <td>False</td>\n",
       "      <td>False</td>\n",
       "      <td>False</td>\n",
       "      <td>False</td>\n",
       "      <td>False</td>\n",
       "    </tr>\n",
       "    <tr>\n",
       "      <th>1432</th>\n",
       "      <td>False</td>\n",
       "      <td>False</td>\n",
       "      <td>True</td>\n",
       "      <td>False</td>\n",
       "      <td>False</td>\n",
       "      <td>False</td>\n",
       "      <td>False</td>\n",
       "      <td>False</td>\n",
       "      <td>False</td>\n",
       "      <td>False</td>\n",
       "    </tr>\n",
       "    <tr>\n",
       "      <th>1433</th>\n",
       "      <td>False</td>\n",
       "      <td>True</td>\n",
       "      <td>False</td>\n",
       "      <td>False</td>\n",
       "      <td>False</td>\n",
       "      <td>False</td>\n",
       "      <td>False</td>\n",
       "      <td>False</td>\n",
       "      <td>False</td>\n",
       "      <td>False</td>\n",
       "    </tr>\n",
       "    <tr>\n",
       "      <th>1434</th>\n",
       "      <td>False</td>\n",
       "      <td>False</td>\n",
       "      <td>True</td>\n",
       "      <td>True</td>\n",
       "      <td>False</td>\n",
       "      <td>False</td>\n",
       "      <td>False</td>\n",
       "      <td>False</td>\n",
       "      <td>False</td>\n",
       "      <td>False</td>\n",
       "    </tr>\n",
       "    <tr>\n",
       "      <th>1435</th>\n",
       "      <td>False</td>\n",
       "      <td>False</td>\n",
       "      <td>False</td>\n",
       "      <td>False</td>\n",
       "      <td>False</td>\n",
       "      <td>False</td>\n",
       "      <td>False</td>\n",
       "      <td>False</td>\n",
       "      <td>False</td>\n",
       "      <td>False</td>\n",
       "    </tr>\n",
       "  </tbody>\n",
       "</table>\n",
       "<p>1436 rows × 10 columns</p>\n",
       "</div>"
      ],
      "text/plain": [
       "      Price    Age     KM  FuelType     HP  MetColor  Automatic     CC  Doors  \\\n",
       "0     False  False  False     False  False     False      False  False  False   \n",
       "1     False  False  False     False  False     False      False  False  False   \n",
       "2     False  False  False     False  False      True      False  False  False   \n",
       "3     False  False  False     False  False     False      False  False  False   \n",
       "4     False  False  False     False  False     False      False  False  False   \n",
       "...     ...    ...    ...       ...    ...       ...        ...    ...    ...   \n",
       "1431  False   True  False     False  False     False      False  False  False   \n",
       "1432  False  False   True     False  False     False      False  False  False   \n",
       "1433  False   True  False     False  False     False      False  False  False   \n",
       "1434  False  False   True      True  False     False      False  False  False   \n",
       "1435  False  False  False     False  False     False      False  False  False   \n",
       "\n",
       "      Weight  \n",
       "0      False  \n",
       "1      False  \n",
       "2      False  \n",
       "3      False  \n",
       "4      False  \n",
       "...      ...  \n",
       "1431   False  \n",
       "1432   False  \n",
       "1433   False  \n",
       "1434   False  \n",
       "1435   False  \n",
       "\n",
       "[1436 rows x 10 columns]"
      ]
     },
     "execution_count": 188,
     "metadata": {},
     "output_type": "execute_result"
    }
   ],
   "source": [
    "#identify missing (null or NaN) values in a DataFrame.\n",
    "df.isnull()"
   ]
  },
  {
   "cell_type": "code",
   "execution_count": 189,
   "id": "d8463c06",
   "metadata": {},
   "outputs": [
    {
     "data": {
      "application/vnd.microsoft.datawrangler.viewer.v0+json": {
       "columns": [
        {
         "name": "index",
         "rawType": "object",
         "type": "string"
        },
        {
         "name": "0",
         "rawType": "int64",
         "type": "integer"
        }
       ],
       "ref": "c82dbe31-6c7c-45cc-a4b1-6b1eca4743cf",
       "rows": [
        [
         "Price",
         "0"
        ],
        [
         "Age",
         "100"
        ],
        [
         "KM",
         "15"
        ],
        [
         "FuelType",
         "100"
        ],
        [
         "HP",
         "6"
        ],
        [
         "MetColor",
         "150"
        ],
        [
         "Automatic",
         "0"
        ],
        [
         "CC",
         "0"
        ],
        [
         "Doors",
         "0"
        ],
        [
         "Weight",
         "0"
        ]
       ],
       "shape": {
        "columns": 1,
        "rows": 10
       }
      },
      "text/plain": [
       "Price          0\n",
       "Age          100\n",
       "KM            15\n",
       "FuelType     100\n",
       "HP             6\n",
       "MetColor     150\n",
       "Automatic      0\n",
       "CC             0\n",
       "Doors          0\n",
       "Weight         0\n",
       "dtype: int64"
      ]
     },
     "execution_count": 189,
     "metadata": {},
     "output_type": "execute_result"
    }
   ],
   "source": [
    "#identify null values count in each column\n",
    "df.isnull().sum()"
   ]
  },
  {
   "cell_type": "code",
   "execution_count": 190,
   "id": "59cd2442",
   "metadata": {},
   "outputs": [
    {
     "data": {
      "application/vnd.microsoft.datawrangler.viewer.v0+json": {
       "columns": [
        {
         "name": "index",
         "rawType": "int64",
         "type": "integer"
        },
        {
         "name": "Price",
         "rawType": "int64",
         "type": "integer"
        },
        {
         "name": "Age",
         "rawType": "float64",
         "type": "float"
        },
        {
         "name": "KM",
         "rawType": "float64",
         "type": "float"
        },
        {
         "name": "FuelType",
         "rawType": "object",
         "type": "unknown"
        },
        {
         "name": "HP",
         "rawType": "float64",
         "type": "float"
        },
        {
         "name": "MetColor",
         "rawType": "float64",
         "type": "float"
        },
        {
         "name": "Automatic",
         "rawType": "int64",
         "type": "integer"
        },
        {
         "name": "CC",
         "rawType": "int64",
         "type": "integer"
        },
        {
         "name": "Doors",
         "rawType": "object",
         "type": "string"
        },
        {
         "name": "Weight",
         "rawType": "int64",
         "type": "integer"
        }
       ],
       "ref": "c339ce12-6d7e-4a7d-b080-e664c22f9e4f",
       "rows": [
        [
         "2",
         "13950",
         "24.0",
         "41711.0",
         "Diesel",
         "90.0",
         null,
         "0",
         "2000",
         "3",
         "1165"
        ],
        [
         "6",
         "16900",
         "27.0",
         null,
         "Diesel",
         null,
         null,
         "0",
         "2000",
         "3",
         "1245"
        ],
        [
         "9",
         "12950",
         "23.0",
         "71138.0",
         "Diesel",
         null,
         null,
         "0",
         "1900",
         "3",
         "1105"
        ],
        [
         "29",
         "17950",
         "30.0",
         "11090.0",
         null,
         "110.0",
         null,
         "0",
         "1600",
         "3",
         "1120"
        ],
        [
         "43",
         "16950",
         "27.0",
         "110404.0",
         "Diesel",
         "90.0",
         null,
         "0",
         "2000",
         "5",
         "1255"
        ]
       ],
       "shape": {
        "columns": 10,
        "rows": 5
       }
      },
      "text/html": [
       "<div>\n",
       "<style scoped>\n",
       "    .dataframe tbody tr th:only-of-type {\n",
       "        vertical-align: middle;\n",
       "    }\n",
       "\n",
       "    .dataframe tbody tr th {\n",
       "        vertical-align: top;\n",
       "    }\n",
       "\n",
       "    .dataframe thead th {\n",
       "        text-align: right;\n",
       "    }\n",
       "</style>\n",
       "<table border=\"1\" class=\"dataframe\">\n",
       "  <thead>\n",
       "    <tr style=\"text-align: right;\">\n",
       "      <th></th>\n",
       "      <th>Price</th>\n",
       "      <th>Age</th>\n",
       "      <th>KM</th>\n",
       "      <th>FuelType</th>\n",
       "      <th>HP</th>\n",
       "      <th>MetColor</th>\n",
       "      <th>Automatic</th>\n",
       "      <th>CC</th>\n",
       "      <th>Doors</th>\n",
       "      <th>Weight</th>\n",
       "    </tr>\n",
       "  </thead>\n",
       "  <tbody>\n",
       "    <tr>\n",
       "      <th>2</th>\n",
       "      <td>13950</td>\n",
       "      <td>24.0</td>\n",
       "      <td>41711.0</td>\n",
       "      <td>Diesel</td>\n",
       "      <td>90.0</td>\n",
       "      <td>NaN</td>\n",
       "      <td>0</td>\n",
       "      <td>2000</td>\n",
       "      <td>3</td>\n",
       "      <td>1165</td>\n",
       "    </tr>\n",
       "    <tr>\n",
       "      <th>6</th>\n",
       "      <td>16900</td>\n",
       "      <td>27.0</td>\n",
       "      <td>NaN</td>\n",
       "      <td>Diesel</td>\n",
       "      <td>NaN</td>\n",
       "      <td>NaN</td>\n",
       "      <td>0</td>\n",
       "      <td>2000</td>\n",
       "      <td>3</td>\n",
       "      <td>1245</td>\n",
       "    </tr>\n",
       "    <tr>\n",
       "      <th>9</th>\n",
       "      <td>12950</td>\n",
       "      <td>23.0</td>\n",
       "      <td>71138.0</td>\n",
       "      <td>Diesel</td>\n",
       "      <td>NaN</td>\n",
       "      <td>NaN</td>\n",
       "      <td>0</td>\n",
       "      <td>1900</td>\n",
       "      <td>3</td>\n",
       "      <td>1105</td>\n",
       "    </tr>\n",
       "    <tr>\n",
       "      <th>29</th>\n",
       "      <td>17950</td>\n",
       "      <td>30.0</td>\n",
       "      <td>11090.0</td>\n",
       "      <td>NaN</td>\n",
       "      <td>110.0</td>\n",
       "      <td>NaN</td>\n",
       "      <td>0</td>\n",
       "      <td>1600</td>\n",
       "      <td>3</td>\n",
       "      <td>1120</td>\n",
       "    </tr>\n",
       "    <tr>\n",
       "      <th>43</th>\n",
       "      <td>16950</td>\n",
       "      <td>27.0</td>\n",
       "      <td>110404.0</td>\n",
       "      <td>Diesel</td>\n",
       "      <td>90.0</td>\n",
       "      <td>NaN</td>\n",
       "      <td>0</td>\n",
       "      <td>2000</td>\n",
       "      <td>5</td>\n",
       "      <td>1255</td>\n",
       "    </tr>\n",
       "  </tbody>\n",
       "</table>\n",
       "</div>"
      ],
      "text/plain": [
       "    Price   Age        KM FuelType     HP  MetColor  Automatic    CC Doors  \\\n",
       "2   13950  24.0   41711.0   Diesel   90.0       NaN          0  2000     3   \n",
       "6   16900  27.0       NaN   Diesel    NaN       NaN          0  2000     3   \n",
       "9   12950  23.0   71138.0   Diesel    NaN       NaN          0  1900     3   \n",
       "29  17950  30.0   11090.0      NaN  110.0       NaN          0  1600     3   \n",
       "43  16950  27.0  110404.0   Diesel   90.0       NaN          0  2000     5   \n",
       "\n",
       "    Weight  \n",
       "2     1165  \n",
       "6     1245  \n",
       "9     1105  \n",
       "29    1120  \n",
       "43    1255  "
      ]
     },
     "execution_count": 190,
     "metadata": {},
     "output_type": "execute_result"
    }
   ],
   "source": [
    "#filtering null value in specific column - MetColor\n",
    "df.loc[df['MetColor'].isnull()].head(5)"
   ]
  },
  {
   "cell_type": "code",
   "execution_count": 191,
   "id": "04e46db9",
   "metadata": {},
   "outputs": [
    {
     "data": {
      "application/vnd.microsoft.datawrangler.viewer.v0+json": {
       "columns": [
        {
         "name": "index",
         "rawType": "int64",
         "type": "integer"
        },
        {
         "name": "Price",
         "rawType": "int64",
         "type": "integer"
        },
        {
         "name": "Age",
         "rawType": "float64",
         "type": "float"
        },
        {
         "name": "KM",
         "rawType": "float64",
         "type": "float"
        },
        {
         "name": "FuelType",
         "rawType": "object",
         "type": "unknown"
        },
        {
         "name": "HP",
         "rawType": "float64",
         "type": "float"
        },
        {
         "name": "MetColor",
         "rawType": "float64",
         "type": "float"
        },
        {
         "name": "Automatic",
         "rawType": "int64",
         "type": "integer"
        },
        {
         "name": "CC",
         "rawType": "int64",
         "type": "integer"
        },
        {
         "name": "Doors",
         "rawType": "object",
         "type": "string"
        },
        {
         "name": "Weight",
         "rawType": "int64",
         "type": "integer"
        }
       ],
       "ref": "1a7c342c-00ef-44e0-a671-eb98cbbab6f4",
       "rows": [
        [
         "2",
         "13950",
         "24.0",
         "41711.0",
         "Diesel",
         "90.0",
         null,
         "0",
         "2000",
         "3",
         "1165"
        ],
        [
         "6",
         "16900",
         "27.0",
         null,
         "Diesel",
         null,
         null,
         "0",
         "2000",
         "3",
         "1245"
        ],
        [
         "9",
         "12950",
         "23.0",
         "71138.0",
         "Diesel",
         null,
         null,
         "0",
         "1900",
         "3",
         "1105"
        ],
        [
         "29",
         "17950",
         "30.0",
         "11090.0",
         null,
         "110.0",
         null,
         "0",
         "1600",
         "3",
         "1120"
        ],
        [
         "43",
         "16950",
         "27.0",
         "110404.0",
         "Diesel",
         "90.0",
         null,
         "0",
         "2000",
         "5",
         "1255"
        ],
        [
         "45",
         "19000",
         "23.0",
         "84000.0",
         "Diesel",
         "90.0",
         null,
         "0",
         "2000",
         "5",
         "1270"
        ],
        [
         "49",
         "21950",
         "31.0",
         "64982.0",
         "Petrol",
         "192.0",
         null,
         "0",
         "1800",
         "5",
         "1195"
        ],
        [
         "61",
         "16500",
         "27.0",
         "37177.0",
         "Petrol",
         "110.0",
         null,
         "0",
         "1600",
         "5",
         "1130"
        ],
        [
         "69",
         "15950",
         "25.0",
         "29719.0",
         "Petrol",
         "97.0",
         null,
         "0",
         "1400",
         "5",
         "1110"
        ],
        [
         "90",
         "16450",
         "20.0",
         "48110.0",
         "Petrol",
         "97.0",
         null,
         "0",
         "1400",
         "3",
         "1100"
        ],
        [
         "98",
         "18750",
         "11.0",
         "24500.0",
         "Petrol",
         "110.0",
         null,
         "0",
         "1600",
         "3",
         "1120"
        ],
        [
         "144",
         "18950",
         "15.0",
         "20270.0",
         "Petrol",
         "110.0",
         null,
         "0",
         "1600",
         "5",
         "1130"
        ],
        [
         "160",
         "18950",
         "16.0",
         "11000.0",
         null,
         "110.0",
         null,
         "0",
         "1600",
         "4",
         "1105"
        ],
        [
         "163",
         "19500",
         "14.0",
         "6500.0",
         null,
         "110.0",
         null,
         "0",
         "1600",
         "4",
         "1100"
        ],
        [
         "200",
         "11495",
         "44.0",
         "96829.0",
         "Petrol",
         "110.0",
         null,
         "0",
         "1600",
         "5",
         "1075"
        ],
        [
         "213",
         "11450",
         "40.0",
         "78425.0",
         "Petrol",
         "110.0",
         null,
         "0",
         "1600",
         "5",
         "1075"
        ],
        [
         "218",
         "10950",
         "44.0",
         "74846.0",
         "Petrol",
         "97.0",
         null,
         "0",
         "1400",
         "3",
         "1025"
        ],
        [
         "223",
         "14950",
         "44.0",
         "71793.0",
         "CNG",
         "110.0",
         null,
         "0",
         "1600",
         "4",
         "1067"
        ],
        [
         "226",
         "11950",
         null,
         "65988.0",
         "Petrol",
         "110.0",
         null,
         "0",
         "1600",
         "3",
         "1040"
        ],
        [
         "235",
         "11650",
         "38.0",
         "60829.0",
         "Petrol",
         "110.0",
         null,
         "0",
         "1600",
         "5",
         "1075"
        ],
        [
         "237",
         "13950",
         "35.0",
         "59500.0",
         "Diesel",
         "69.0",
         null,
         "0",
         "1900",
         "3",
         "1110"
        ],
        [
         "242",
         "11950",
         "43.0",
         "58277.0",
         "Petrol",
         "110.0",
         null,
         "0",
         "1600",
         "3",
         "1045"
        ],
        [
         "246",
         "11950",
         "42.0",
         "55968.0",
         "Petrol",
         "110.0",
         null,
         "0",
         "1600",
         "3",
         "1050"
        ],
        [
         "261",
         "12495",
         "39.0",
         "50873.0",
         "Petrol",
         "110.0",
         null,
         "0",
         "1600",
         "5",
         "1075"
        ],
        [
         "270",
         "13500",
         "33.0",
         "48928.0",
         "Diesel",
         "69.0",
         null,
         "0",
         "1900",
         "3",
         "1105"
        ],
        [
         "272",
         "13500",
         "35.0",
         "48052.0",
         "Diesel",
         "69.0",
         null,
         "0",
         "1900",
         "3",
         "1105"
        ],
        [
         "286",
         "11700",
         "40.0",
         "44830.0",
         "Petrol",
         "110.0",
         null,
         "0",
         "1600",
         "5",
         "1075"
        ],
        [
         "287",
         "9950",
         "37.0",
         "44757.0",
         "Petrol",
         "97.0",
         null,
         "0",
         "1400",
         "3",
         "1025"
        ],
        [
         "301",
         "12500",
         "41.0",
         "39659.0",
         "Petrol",
         "110.0",
         null,
         "0",
         "1600",
         "3",
         "1045"
        ],
        [
         "303",
         "11500",
         "39.0",
         "39524.0",
         "Petrol",
         "97.0",
         null,
         "0",
         "1398",
         "3",
         "1025"
        ],
        [
         "308",
         "11450",
         "37.0",
         "38812.0",
         "Petrol",
         "97.0",
         null,
         "0",
         "1400",
         "3",
         "1025"
        ],
        [
         "311",
         "13995",
         "44.0",
         "38461.0",
         "Petrol",
         "110.0",
         null,
         "0",
         "1600",
         "5",
         "1080"
        ],
        [
         "328",
         "12950",
         "35.0",
         "33258.0",
         "Petrol",
         "110.0",
         null,
         "0",
         "1600",
         "5",
         "1075"
        ],
        [
         "342",
         "14950",
         "42.0",
         "29640.0",
         "Petrol",
         "110.0",
         null,
         "0",
         "1600",
         "3",
         "1055"
        ],
        [
         "347",
         "13750",
         "38.0",
         "28150.0",
         "Petrol",
         "110.0",
         null,
         "0",
         "1600",
         "5",
         "1075"
        ],
        [
         "355",
         "13750",
         "39.0",
         "25062.0",
         "Petrol",
         "110.0",
         null,
         "0",
         "1600",
         "5",
         "1080"
        ],
        [
         "359",
         "14350",
         "41.0",
         "24475.0",
         "Petrol",
         "110.0",
         null,
         "0",
         "1600",
         "5",
         "1030"
        ],
        [
         "360",
         "12950",
         "39.0",
         "24444.0",
         "Petrol",
         "110.0",
         null,
         "0",
         "1600",
         "3",
         "1040"
        ],
        [
         "365",
         "10500",
         "41.0",
         "22780.0",
         "Petrol",
         "86.0",
         null,
         "0",
         "1300",
         "5",
         "1035"
        ],
        [
         "382",
         "8900",
         "45.0",
         "174000.0",
         "Diesel",
         "69.0",
         null,
         "0",
         "1900",
         "5",
         "1095"
        ],
        [
         "390",
         "7750",
         "55.0",
         "137000.0",
         "Diesel",
         "72.0",
         null,
         "0",
         "2000",
         "5",
         "1135"
        ],
        [
         "397",
         "12450",
         "47.0",
         "117430.0",
         "Diesel",
         "90.0",
         null,
         "0",
         "2000",
         "3",
         "1165"
        ],
        [
         "411",
         "10950",
         "52.0",
         "99323.0",
         "Petrol",
         "110.0",
         null,
         "0",
         "1600",
         "3",
         "1055"
        ],
        [
         "438",
         "10250",
         "55.0",
         "77780.0",
         "Petrol",
         "110.0",
         null,
         "0",
         "1600",
         "3",
         "1040"
        ],
        [
         "454",
         "11950",
         "50.0",
         "72242.0",
         "Petrol",
         "110.0",
         null,
         "1",
         "1600",
         "3",
         "1070"
        ],
        [
         "464",
         "8750",
         "49.0",
         "68565.0",
         "Petrol",
         "110.0",
         null,
         "0",
         "1600",
         "4",
         "1030"
        ],
        [
         "474",
         "10450",
         "48.0",
         "64193.0",
         "Petrol",
         "110.0",
         null,
         "0",
         "1600",
         "3",
         "1040"
        ],
        [
         "485",
         "10500",
         "50.0",
         "62280.0",
         "Petrol",
         "97.0",
         null,
         "0",
         "1400",
         "5",
         "1060"
        ],
        [
         "486",
         "10750",
         "50.0",
         "61672.0",
         "Petrol",
         "110.0",
         null,
         "0",
         "1600",
         "5",
         "1075"
        ],
        [
         "512",
         "13950",
         "51.0",
         "53268.0",
         "Petrol",
         "110.0",
         null,
         "0",
         "1600",
         "5",
         "1080"
        ]
       ],
       "shape": {
        "columns": 10,
        "rows": 150
       }
      },
      "text/html": [
       "<div>\n",
       "<style scoped>\n",
       "    .dataframe tbody tr th:only-of-type {\n",
       "        vertical-align: middle;\n",
       "    }\n",
       "\n",
       "    .dataframe tbody tr th {\n",
       "        vertical-align: top;\n",
       "    }\n",
       "\n",
       "    .dataframe thead th {\n",
       "        text-align: right;\n",
       "    }\n",
       "</style>\n",
       "<table border=\"1\" class=\"dataframe\">\n",
       "  <thead>\n",
       "    <tr style=\"text-align: right;\">\n",
       "      <th></th>\n",
       "      <th>Price</th>\n",
       "      <th>Age</th>\n",
       "      <th>KM</th>\n",
       "      <th>FuelType</th>\n",
       "      <th>HP</th>\n",
       "      <th>MetColor</th>\n",
       "      <th>Automatic</th>\n",
       "      <th>CC</th>\n",
       "      <th>Doors</th>\n",
       "      <th>Weight</th>\n",
       "    </tr>\n",
       "  </thead>\n",
       "  <tbody>\n",
       "    <tr>\n",
       "      <th>2</th>\n",
       "      <td>13950</td>\n",
       "      <td>24.0</td>\n",
       "      <td>41711.0</td>\n",
       "      <td>Diesel</td>\n",
       "      <td>90.0</td>\n",
       "      <td>NaN</td>\n",
       "      <td>0</td>\n",
       "      <td>2000</td>\n",
       "      <td>3</td>\n",
       "      <td>1165</td>\n",
       "    </tr>\n",
       "    <tr>\n",
       "      <th>6</th>\n",
       "      <td>16900</td>\n",
       "      <td>27.0</td>\n",
       "      <td>NaN</td>\n",
       "      <td>Diesel</td>\n",
       "      <td>NaN</td>\n",
       "      <td>NaN</td>\n",
       "      <td>0</td>\n",
       "      <td>2000</td>\n",
       "      <td>3</td>\n",
       "      <td>1245</td>\n",
       "    </tr>\n",
       "    <tr>\n",
       "      <th>9</th>\n",
       "      <td>12950</td>\n",
       "      <td>23.0</td>\n",
       "      <td>71138.0</td>\n",
       "      <td>Diesel</td>\n",
       "      <td>NaN</td>\n",
       "      <td>NaN</td>\n",
       "      <td>0</td>\n",
       "      <td>1900</td>\n",
       "      <td>3</td>\n",
       "      <td>1105</td>\n",
       "    </tr>\n",
       "    <tr>\n",
       "      <th>29</th>\n",
       "      <td>17950</td>\n",
       "      <td>30.0</td>\n",
       "      <td>11090.0</td>\n",
       "      <td>NaN</td>\n",
       "      <td>110.0</td>\n",
       "      <td>NaN</td>\n",
       "      <td>0</td>\n",
       "      <td>1600</td>\n",
       "      <td>3</td>\n",
       "      <td>1120</td>\n",
       "    </tr>\n",
       "    <tr>\n",
       "      <th>43</th>\n",
       "      <td>16950</td>\n",
       "      <td>27.0</td>\n",
       "      <td>110404.0</td>\n",
       "      <td>Diesel</td>\n",
       "      <td>90.0</td>\n",
       "      <td>NaN</td>\n",
       "      <td>0</td>\n",
       "      <td>2000</td>\n",
       "      <td>5</td>\n",
       "      <td>1255</td>\n",
       "    </tr>\n",
       "    <tr>\n",
       "      <th>...</th>\n",
       "      <td>...</td>\n",
       "      <td>...</td>\n",
       "      <td>...</td>\n",
       "      <td>...</td>\n",
       "      <td>...</td>\n",
       "      <td>...</td>\n",
       "      <td>...</td>\n",
       "      <td>...</td>\n",
       "      <td>...</td>\n",
       "      <td>...</td>\n",
       "    </tr>\n",
       "    <tr>\n",
       "      <th>1415</th>\n",
       "      <td>6950</td>\n",
       "      <td>72.0</td>\n",
       "      <td>42000.0</td>\n",
       "      <td>Petrol</td>\n",
       "      <td>110.0</td>\n",
       "      <td>NaN</td>\n",
       "      <td>0</td>\n",
       "      <td>1600</td>\n",
       "      <td>3</td>\n",
       "      <td>1050</td>\n",
       "    </tr>\n",
       "    <tr>\n",
       "      <th>1418</th>\n",
       "      <td>7750</td>\n",
       "      <td>73.0</td>\n",
       "      <td>39168.0</td>\n",
       "      <td>Petrol</td>\n",
       "      <td>86.0</td>\n",
       "      <td>NaN</td>\n",
       "      <td>0</td>\n",
       "      <td>1300</td>\n",
       "      <td>3</td>\n",
       "      <td>1015</td>\n",
       "    </tr>\n",
       "    <tr>\n",
       "      <th>1419</th>\n",
       "      <td>8450</td>\n",
       "      <td>75.0</td>\n",
       "      <td>38945.0</td>\n",
       "      <td>Petrol</td>\n",
       "      <td>110.0</td>\n",
       "      <td>NaN</td>\n",
       "      <td>0</td>\n",
       "      <td>1600</td>\n",
       "      <td>3</td>\n",
       "      <td>1050</td>\n",
       "    </tr>\n",
       "    <tr>\n",
       "      <th>1426</th>\n",
       "      <td>9950</td>\n",
       "      <td>78.0</td>\n",
       "      <td>30964.0</td>\n",
       "      <td>Petrol</td>\n",
       "      <td>110.0</td>\n",
       "      <td>NaN</td>\n",
       "      <td>1</td>\n",
       "      <td>1600</td>\n",
       "      <td>3</td>\n",
       "      <td>1080</td>\n",
       "    </tr>\n",
       "    <tr>\n",
       "      <th>1428</th>\n",
       "      <td>8450</td>\n",
       "      <td>72.0</td>\n",
       "      <td>NaN</td>\n",
       "      <td>Petrol</td>\n",
       "      <td>86.0</td>\n",
       "      <td>NaN</td>\n",
       "      <td>0</td>\n",
       "      <td>1300</td>\n",
       "      <td>3</td>\n",
       "      <td>1015</td>\n",
       "    </tr>\n",
       "  </tbody>\n",
       "</table>\n",
       "<p>150 rows × 10 columns</p>\n",
       "</div>"
      ],
      "text/plain": [
       "      Price   Age        KM FuelType     HP  MetColor  Automatic    CC Doors  \\\n",
       "2     13950  24.0   41711.0   Diesel   90.0       NaN          0  2000     3   \n",
       "6     16900  27.0       NaN   Diesel    NaN       NaN          0  2000     3   \n",
       "9     12950  23.0   71138.0   Diesel    NaN       NaN          0  1900     3   \n",
       "29    17950  30.0   11090.0      NaN  110.0       NaN          0  1600     3   \n",
       "43    16950  27.0  110404.0   Diesel   90.0       NaN          0  2000     5   \n",
       "...     ...   ...       ...      ...    ...       ...        ...   ...   ...   \n",
       "1415   6950  72.0   42000.0   Petrol  110.0       NaN          0  1600     3   \n",
       "1418   7750  73.0   39168.0   Petrol   86.0       NaN          0  1300     3   \n",
       "1419   8450  75.0   38945.0   Petrol  110.0       NaN          0  1600     3   \n",
       "1426   9950  78.0   30964.0   Petrol  110.0       NaN          1  1600     3   \n",
       "1428   8450  72.0       NaN   Petrol   86.0       NaN          0  1300     3   \n",
       "\n",
       "      Weight  \n",
       "2       1165  \n",
       "6       1245  \n",
       "9       1105  \n",
       "29      1120  \n",
       "43      1255  \n",
       "...      ...  \n",
       "1415    1050  \n",
       "1418    1015  \n",
       "1419    1050  \n",
       "1426    1080  \n",
       "1428    1015  \n",
       "\n",
       "[150 rows x 10 columns]"
      ]
     },
     "execution_count": 191,
     "metadata": {},
     "output_type": "execute_result"
    }
   ],
   "source": [
    "#extracts the rows that have null value in 'MetColor'\n",
    "df[df['MetColor'].isnull()]"
   ]
  },
  {
   "cell_type": "markdown",
   "id": "61333a06",
   "metadata": {},
   "source": [
    "# Manipulating the data"
   ]
  },
  {
   "cell_type": "code",
   "execution_count": 192,
   "id": "b31b2950",
   "metadata": {},
   "outputs": [
    {
     "data": {
      "application/vnd.microsoft.datawrangler.viewer.v0+json": {
       "columns": [
        {
         "name": "index",
         "rawType": "int64",
         "type": "integer"
        },
        {
         "name": "Price",
         "rawType": "int64",
         "type": "integer"
        },
        {
         "name": "Age",
         "rawType": "float64",
         "type": "float"
        },
        {
         "name": "KM",
         "rawType": "float64",
         "type": "float"
        },
        {
         "name": "FuelType",
         "rawType": "object",
         "type": "string"
        },
        {
         "name": "HP",
         "rawType": "float64",
         "type": "float"
        },
        {
         "name": "MetColor",
         "rawType": "float64",
         "type": "float"
        },
        {
         "name": "Automatic",
         "rawType": "int64",
         "type": "integer"
        },
        {
         "name": "CC",
         "rawType": "int64",
         "type": "integer"
        },
        {
         "name": "Doors",
         "rawType": "object",
         "type": "string"
        },
        {
         "name": "Weight",
         "rawType": "int64",
         "type": "integer"
        },
        {
         "name": "half_weight",
         "rawType": "float64",
         "type": "float"
        }
       ],
       "ref": "905ef7e8-d7a9-4b40-90c6-63b7c56b9836",
       "rows": [
        [
         "0",
         "13500",
         "23.0",
         "46986.0",
         "Diesel",
         "90.0",
         "1.0",
         "0",
         "2000",
         "three",
         "1165",
         "582.5"
        ],
        [
         "1",
         "13750",
         "23.0",
         "72937.0",
         "Diesel",
         "90.0",
         "1.0",
         "0",
         "2000",
         "3",
         "1165",
         "582.5"
        ],
        [
         "2",
         "13950",
         "24.0",
         "41711.0",
         "Diesel",
         "90.0",
         null,
         "0",
         "2000",
         "3",
         "1165",
         "582.5"
        ],
        [
         "3",
         "14950",
         "26.0",
         "48000.0",
         "Diesel",
         "90.0",
         "0.0",
         "0",
         "2000",
         "3",
         "1165",
         "582.5"
        ],
        [
         "4",
         "13750",
         "30.0",
         "38500.0",
         "Diesel",
         "90.0",
         "0.0",
         "0",
         "2000",
         "3",
         "1170",
         "585.0"
        ]
       ],
       "shape": {
        "columns": 11,
        "rows": 5
       }
      },
      "text/html": [
       "<div>\n",
       "<style scoped>\n",
       "    .dataframe tbody tr th:only-of-type {\n",
       "        vertical-align: middle;\n",
       "    }\n",
       "\n",
       "    .dataframe tbody tr th {\n",
       "        vertical-align: top;\n",
       "    }\n",
       "\n",
       "    .dataframe thead th {\n",
       "        text-align: right;\n",
       "    }\n",
       "</style>\n",
       "<table border=\"1\" class=\"dataframe\">\n",
       "  <thead>\n",
       "    <tr style=\"text-align: right;\">\n",
       "      <th></th>\n",
       "      <th>Price</th>\n",
       "      <th>Age</th>\n",
       "      <th>KM</th>\n",
       "      <th>FuelType</th>\n",
       "      <th>HP</th>\n",
       "      <th>MetColor</th>\n",
       "      <th>Automatic</th>\n",
       "      <th>CC</th>\n",
       "      <th>Doors</th>\n",
       "      <th>Weight</th>\n",
       "      <th>half_weight</th>\n",
       "    </tr>\n",
       "  </thead>\n",
       "  <tbody>\n",
       "    <tr>\n",
       "      <th>0</th>\n",
       "      <td>13500</td>\n",
       "      <td>23.0</td>\n",
       "      <td>46986.0</td>\n",
       "      <td>Diesel</td>\n",
       "      <td>90.0</td>\n",
       "      <td>1.0</td>\n",
       "      <td>0</td>\n",
       "      <td>2000</td>\n",
       "      <td>three</td>\n",
       "      <td>1165</td>\n",
       "      <td>582.5</td>\n",
       "    </tr>\n",
       "    <tr>\n",
       "      <th>1</th>\n",
       "      <td>13750</td>\n",
       "      <td>23.0</td>\n",
       "      <td>72937.0</td>\n",
       "      <td>Diesel</td>\n",
       "      <td>90.0</td>\n",
       "      <td>1.0</td>\n",
       "      <td>0</td>\n",
       "      <td>2000</td>\n",
       "      <td>3</td>\n",
       "      <td>1165</td>\n",
       "      <td>582.5</td>\n",
       "    </tr>\n",
       "    <tr>\n",
       "      <th>2</th>\n",
       "      <td>13950</td>\n",
       "      <td>24.0</td>\n",
       "      <td>41711.0</td>\n",
       "      <td>Diesel</td>\n",
       "      <td>90.0</td>\n",
       "      <td>NaN</td>\n",
       "      <td>0</td>\n",
       "      <td>2000</td>\n",
       "      <td>3</td>\n",
       "      <td>1165</td>\n",
       "      <td>582.5</td>\n",
       "    </tr>\n",
       "    <tr>\n",
       "      <th>3</th>\n",
       "      <td>14950</td>\n",
       "      <td>26.0</td>\n",
       "      <td>48000.0</td>\n",
       "      <td>Diesel</td>\n",
       "      <td>90.0</td>\n",
       "      <td>0.0</td>\n",
       "      <td>0</td>\n",
       "      <td>2000</td>\n",
       "      <td>3</td>\n",
       "      <td>1165</td>\n",
       "      <td>582.5</td>\n",
       "    </tr>\n",
       "    <tr>\n",
       "      <th>4</th>\n",
       "      <td>13750</td>\n",
       "      <td>30.0</td>\n",
       "      <td>38500.0</td>\n",
       "      <td>Diesel</td>\n",
       "      <td>90.0</td>\n",
       "      <td>0.0</td>\n",
       "      <td>0</td>\n",
       "      <td>2000</td>\n",
       "      <td>3</td>\n",
       "      <td>1170</td>\n",
       "      <td>585.0</td>\n",
       "    </tr>\n",
       "  </tbody>\n",
       "</table>\n",
       "</div>"
      ],
      "text/plain": [
       "   Price   Age       KM FuelType    HP  MetColor  Automatic    CC  Doors  \\\n",
       "0  13500  23.0  46986.0   Diesel  90.0       1.0          0  2000  three   \n",
       "1  13750  23.0  72937.0   Diesel  90.0       1.0          0  2000      3   \n",
       "2  13950  24.0  41711.0   Diesel  90.0       NaN          0  2000      3   \n",
       "3  14950  26.0  48000.0   Diesel  90.0       0.0          0  2000      3   \n",
       "4  13750  30.0  38500.0   Diesel  90.0       0.0          0  2000      3   \n",
       "\n",
       "   Weight  half_weight  \n",
       "0    1165        582.5  \n",
       "1    1165        582.5  \n",
       "2    1165        582.5  \n",
       "3    1165        582.5  \n",
       "4    1170        585.0  "
      ]
     },
     "execution_count": 192,
     "metadata": {},
     "output_type": "execute_result"
    }
   ],
   "source": [
    "#create new column 'half_weight' by df['Weight']/2\n",
    "df['half_weight'] = df['Weight'] / 2\n",
    "df.head()"
   ]
  },
  {
   "cell_type": "code",
   "execution_count": 193,
   "id": "523a8af1",
   "metadata": {},
   "outputs": [],
   "source": [
    "#rename 'half_weight' to 'new_weight' with inplace\n",
    "df.rename(columns={'half_weight': 'new_weight'}, inplace=True)"
   ]
  },
  {
   "cell_type": "code",
   "execution_count": 194,
   "id": "eeed62eb",
   "metadata": {},
   "outputs": [],
   "source": [
    "#drop specific column - new_weight\n",
    "df.drop(columns=['new_weight'], inplace=True)"
   ]
  },
  {
   "cell_type": "code",
   "execution_count": 195,
   "id": "6aaed51d",
   "metadata": {},
   "outputs": [],
   "source": [
    "#drop specic row with index=3\n",
    "df.drop(index=3, inplace=True)"
   ]
  },
  {
   "cell_type": "code",
   "execution_count": 196,
   "id": "2ebf6093",
   "metadata": {},
   "outputs": [],
   "source": [
    "#reset the index\n",
    "df.reset_index(drop=True, inplace=True)"
   ]
  },
  {
   "cell_type": "code",
   "execution_count": 197,
   "id": "60147485",
   "metadata": {},
   "outputs": [],
   "source": [
    "#concat a new row\n",
    "new_row = pd.DataFrame([{'Price':12567, 'Age':24, 'KM':45679, 'FuelType':'Petrol', 'HP':78, 'MetColor':0, 'Automatic':0, 'CC':4000, 'Doors':'4','Weight':1178}])\n",
    "df = pd.concat([df, new_row], ignore_index=True)"
   ]
  },
  {
   "cell_type": "code",
   "execution_count": 198,
   "id": "ce179945",
   "metadata": {},
   "outputs": [],
   "source": [
    "#drop missing values - rows\n",
    "df.dropna(inplace=True)"
   ]
  },
  {
   "cell_type": "code",
   "execution_count": 199,
   "id": "eb8003e6",
   "metadata": {},
   "outputs": [],
   "source": [
    "#drop missing values - columns\n",
    "df=pd.read_csv('Toyota.csv', na_values=[\"??\",\"????\"], index_col=[0])\n",
    "df.dropna(axis=1, inplace=True)"
   ]
  },
  {
   "cell_type": "code",
   "execution_count": 200,
   "id": "06534471",
   "metadata": {},
   "outputs": [
    {
     "data": {
      "application/vnd.microsoft.datawrangler.viewer.v0+json": {
       "columns": [
        {
         "name": "index",
         "rawType": "object",
         "type": "string"
        },
        {
         "name": "0",
         "rawType": "int64",
         "type": "integer"
        }
       ],
       "ref": "4ea6eb33-d27a-4d57-b26b-24635ed23e0a",
       "rows": [
        [
         "Price",
         "0"
        ],
        [
         "Age",
         "100"
        ],
        [
         "KM",
         "15"
        ],
        [
         "FuelType",
         "100"
        ],
        [
         "HP",
         "6"
        ],
        [
         "MetColor",
         "150"
        ],
        [
         "Automatic",
         "0"
        ],
        [
         "CC",
         "0"
        ],
        [
         "Doors",
         "0"
        ],
        [
         "Weight",
         "0"
        ]
       ],
       "shape": {
        "columns": 1,
        "rows": 10
       }
      },
      "text/plain": [
       "Price          0\n",
       "Age          100\n",
       "KM            15\n",
       "FuelType     100\n",
       "HP             6\n",
       "MetColor     150\n",
       "Automatic      0\n",
       "CC             0\n",
       "Doors          0\n",
       "Weight         0\n",
       "dtype: int64"
      ]
     },
     "execution_count": 200,
     "metadata": {},
     "output_type": "execute_result"
    }
   ],
   "source": [
    "df=pd.read_csv('Toyota.csv', na_values=[\"??\",\"????\"], index_col=[0])\n",
    "df.isnull().sum()"
   ]
  },
  {
   "cell_type": "code",
   "execution_count": null,
   "id": "0fd8e97e",
   "metadata": {},
   "outputs": [],
   "source": [
    "#fill missing values with 0\n",
    "df.fillna(0, inplace=True)\n"
   ]
  },
  {
   "cell_type": "code",
   "execution_count": 202,
   "id": "ecefdab8",
   "metadata": {},
   "outputs": [],
   "source": [
    "#fill missing values in specific column 'FuelType' with Petrol\n",
    "df=pd.read_csv('Toyota.csv', na_values=[\"??\",\"????\"], index_col=[0])\n"
   ]
  },
  {
   "attachments": {
    "image.png": {
     "image/png": "[encoded data removed]"
    }
   },
   "cell_type": "markdown",
   "id": "d368a196",
   "metadata": {},
   "source": [
    "![image.png](attachment:image.png)"
   ]
  },
  {
   "cell_type": "code",
   "execution_count": 203,
   "id": "ad3c0bf2",
   "metadata": {},
   "outputs": [],
   "source": [
    "df=pd.read_csv('Toyota.csv', na_values=[\"??\",\"????\"], index_col=[0])\n"
   ]
  },
  {
   "cell_type": "code",
   "execution_count": 204,
   "id": "6765133b",
   "metadata": {},
   "outputs": [],
   "source": [
    "#max() in df\n"
   ]
  },
  {
   "cell_type": "code",
   "execution_count": 205,
   "id": "32380f50",
   "metadata": {},
   "outputs": [],
   "source": [
    "#max() in 'Price' column\n"
   ]
  },
  {
   "cell_type": "code",
   "execution_count": 206,
   "id": "13dbffed",
   "metadata": {},
   "outputs": [],
   "source": [
    "#fill the null values of 'Age' column with mean of the column\n"
   ]
  },
  {
   "cell_type": "code",
   "execution_count": 207,
   "id": "3def3c06",
   "metadata": {},
   "outputs": [],
   "source": [
    "#changing to lowercase for 'FuelType' column\n"
   ]
  },
  {
   "cell_type": "code",
   "execution_count": 208,
   "id": "94c6aea9",
   "metadata": {},
   "outputs": [],
   "source": [
    "#use apply() to manipulate the column value by df['Weight']/2 to create 'half_weight' column\n"
   ]
  }
 ],
 "metadata": {
  "kernelspec": {
   "display_name": "Python 3",
   "language": "python",
   "name": "python3"
  },
  "language_info": {
   "codemirror_mode": {
    "name": "ipython",
    "version": 3
   },
   "file_extension": ".py",
   "mimetype": "text/x-python",
   "name": "python",
   "nbconvert_exporter": "python",
   "pygments_lexer": "ipython3",
   "version": "3.13.5"
  }
 },
 "nbformat": 4,
 "nbformat_minor": 5
}
