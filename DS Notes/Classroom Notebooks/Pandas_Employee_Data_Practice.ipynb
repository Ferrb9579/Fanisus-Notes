{
 "cells": [
  {
   "cell_type": "markdown",
   "id": "9cfcdbc9",
   "metadata": {},
   "source": [
    "# 🧠 Pandas DataFrame Practice\n",
    "This notebook contains practice questions involving reading, filtering, slicing, manipulating, and handling missing values in a Pandas DataFrame.\n",
    "\n",
    "**Dataset:** `employee_data_with_nulls.csv` (simulated HR dataset with intentional nulls)"
   ]
  },
  {
   "cell_type": "code",
   "execution_count": 1,
   "id": "edec7523",
   "metadata": {},
   "outputs": [],
   "source": [
    "import pandas as pd\n",
    "import numpy as np"
   ]
  },
  {
   "cell_type": "code",
   "execution_count": 2,
   "id": "8bf7edd0",
   "metadata": {},
   "outputs": [
    {
     "data": {
      "application/vnd.microsoft.datawrangler.viewer.v0+json": {
       "columns": [
        {
         "name": "index",
         "rawType": "int64",
         "type": "integer"
        },
        {
         "name": "Name",
         "rawType": "object",
         "type": "string"
        },
        {
         "name": "Age",
         "rawType": "float64",
         "type": "float"
        },
        {
         "name": "Gender",
         "rawType": "object",
         "type": "string"
        },
        {
         "name": "City",
         "rawType": "object",
         "type": "string"
        },
        {
         "name": "Department",
         "rawType": "object",
         "type": "unknown"
        },
        {
         "name": "Salary",
         "rawType": "float64",
         "type": "float"
        },
        {
         "name": "JoinDate",
         "rawType": "object",
         "type": "string"
        },
        {
         "name": "Status",
         "rawType": "object",
         "type": "string"
        }
       ],
       "ref": "2a5bb9cd-39ff-4d7f-b60c-ef1175a5183d",
       "rows": [
        [
         "0",
         "Employee_1",
         "50.0",
         "Female",
         "Delhi",
         "Finance",
         "83053.0",
         "2019-12-08",
         "Terminated"
        ],
        [
         "1",
         "Employee_2",
         "36.0",
         "Female",
         "Mumbai",
         "Finance",
         "46959.0",
         "2021-11-25",
         "Terminated"
        ],
        [
         "2",
         "Employee_3",
         "29.0",
         "Female",
         "Chennai",
         null,
         "30530.0",
         "2020-05-23",
         "Active"
        ],
        [
         "3",
         "Employee_4",
         "42.0",
         "Male",
         "Bangalore",
         "HR",
         "28748.0",
         "2021-01-07",
         "Active"
        ],
        [
         "4",
         "Employee_5",
         "40.0",
         "Female",
         "Delhi",
         "IT",
         null,
         "2018-12-09",
         "Terminated"
        ]
       ],
       "shape": {
        "columns": 8,
        "rows": 5
       }
      },
      "text/html": [
       "<div>\n",
       "<style scoped>\n",
       "    .dataframe tbody tr th:only-of-type {\n",
       "        vertical-align: middle;\n",
       "    }\n",
       "\n",
       "    .dataframe tbody tr th {\n",
       "        vertical-align: top;\n",
       "    }\n",
       "\n",
       "    .dataframe thead th {\n",
       "        text-align: right;\n",
       "    }\n",
       "</style>\n",
       "<table border=\"1\" class=\"dataframe\">\n",
       "  <thead>\n",
       "    <tr style=\"text-align: right;\">\n",
       "      <th></th>\n",
       "      <th>Name</th>\n",
       "      <th>Age</th>\n",
       "      <th>Gender</th>\n",
       "      <th>City</th>\n",
       "      <th>Department</th>\n",
       "      <th>Salary</th>\n",
       "      <th>JoinDate</th>\n",
       "      <th>Status</th>\n",
       "    </tr>\n",
       "  </thead>\n",
       "  <tbody>\n",
       "    <tr>\n",
       "      <th>0</th>\n",
       "      <td>Employee_1</td>\n",
       "      <td>50.0</td>\n",
       "      <td>Female</td>\n",
       "      <td>Delhi</td>\n",
       "      <td>Finance</td>\n",
       "      <td>83053.0</td>\n",
       "      <td>2019-12-08</td>\n",
       "      <td>Terminated</td>\n",
       "    </tr>\n",
       "    <tr>\n",
       "      <th>1</th>\n",
       "      <td>Employee_2</td>\n",
       "      <td>36.0</td>\n",
       "      <td>Female</td>\n",
       "      <td>Mumbai</td>\n",
       "      <td>Finance</td>\n",
       "      <td>46959.0</td>\n",
       "      <td>2021-11-25</td>\n",
       "      <td>Terminated</td>\n",
       "    </tr>\n",
       "    <tr>\n",
       "      <th>2</th>\n",
       "      <td>Employee_3</td>\n",
       "      <td>29.0</td>\n",
       "      <td>Female</td>\n",
       "      <td>Chennai</td>\n",
       "      <td>NaN</td>\n",
       "      <td>30530.0</td>\n",
       "      <td>2020-05-23</td>\n",
       "      <td>Active</td>\n",
       "    </tr>\n",
       "    <tr>\n",
       "      <th>3</th>\n",
       "      <td>Employee_4</td>\n",
       "      <td>42.0</td>\n",
       "      <td>Male</td>\n",
       "      <td>Bangalore</td>\n",
       "      <td>HR</td>\n",
       "      <td>28748.0</td>\n",
       "      <td>2021-01-07</td>\n",
       "      <td>Active</td>\n",
       "    </tr>\n",
       "    <tr>\n",
       "      <th>4</th>\n",
       "      <td>Employee_5</td>\n",
       "      <td>40.0</td>\n",
       "      <td>Female</td>\n",
       "      <td>Delhi</td>\n",
       "      <td>IT</td>\n",
       "      <td>NaN</td>\n",
       "      <td>2018-12-09</td>\n",
       "      <td>Terminated</td>\n",
       "    </tr>\n",
       "  </tbody>\n",
       "</table>\n",
       "</div>"
      ],
      "text/plain": [
       "         Name   Age  Gender       City Department   Salary    JoinDate  \\\n",
       "0  Employee_1  50.0  Female      Delhi    Finance  83053.0  2019-12-08   \n",
       "1  Employee_2  36.0  Female     Mumbai    Finance  46959.0  2021-11-25   \n",
       "2  Employee_3  29.0  Female    Chennai        NaN  30530.0  2020-05-23   \n",
       "3  Employee_4  42.0    Male  Bangalore         HR  28748.0  2021-01-07   \n",
       "4  Employee_5  40.0  Female      Delhi         IT      NaN  2018-12-09   \n",
       "\n",
       "       Status  \n",
       "0  Terminated  \n",
       "1  Terminated  \n",
       "2      Active  \n",
       "3      Active  \n",
       "4  Terminated  "
      ]
     },
     "execution_count": 2,
     "metadata": {},
     "output_type": "execute_result"
    }
   ],
   "source": [
    "df = pd.read_csv('employee_data_with_nulls.csv')\n",
    "df.head()"
   ]
  },
  {
   "cell_type": "markdown",
   "id": "666955f6",
   "metadata": {},
   "source": [
    "## 🔍 Section A: Data Loading and Exploration"
   ]
  },
  {
   "cell_type": "markdown",
   "id": "d7222ddf",
   "metadata": {},
   "source": [
    "1. Load the dataset and display the first 10 rows."
   ]
  },
  {
   "cell_type": "code",
   "execution_count": 3,
   "id": "a09da128",
   "metadata": {},
   "outputs": [
    {
     "data": {
      "application/vnd.microsoft.datawrangler.viewer.v0+json": {
       "columns": [
        {
         "name": "index",
         "rawType": "int64",
         "type": "integer"
        },
        {
         "name": "Name",
         "rawType": "object",
         "type": "string"
        },
        {
         "name": "Age",
         "rawType": "float64",
         "type": "float"
        },
        {
         "name": "Gender",
         "rawType": "object",
         "type": "string"
        },
        {
         "name": "City",
         "rawType": "object",
         "type": "string"
        },
        {
         "name": "Department",
         "rawType": "object",
         "type": "unknown"
        },
        {
         "name": "Salary",
         "rawType": "float64",
         "type": "float"
        },
        {
         "name": "JoinDate",
         "rawType": "object",
         "type": "string"
        },
        {
         "name": "Status",
         "rawType": "object",
         "type": "string"
        }
       ],
       "ref": "e5da6688-2cfd-4810-96f5-b6b2d5826aba",
       "rows": [
        [
         "0",
         "Employee_1",
         "50.0",
         "Female",
         "Delhi",
         "Finance",
         "83053.0",
         "2019-12-08",
         "Terminated"
        ],
        [
         "1",
         "Employee_2",
         "36.0",
         "Female",
         "Mumbai",
         "Finance",
         "46959.0",
         "2021-11-25",
         "Terminated"
        ],
        [
         "2",
         "Employee_3",
         "29.0",
         "Female",
         "Chennai",
         null,
         "30530.0",
         "2020-05-23",
         "Active"
        ],
        [
         "3",
         "Employee_4",
         "42.0",
         "Male",
         "Bangalore",
         "HR",
         "28748.0",
         "2021-01-07",
         "Active"
        ],
        [
         "4",
         "Employee_5",
         "40.0",
         "Female",
         "Delhi",
         "IT",
         null,
         "2018-12-09",
         "Terminated"
        ],
        [
         "5",
         "Employee_6",
         "44.0",
         "Male",
         "Chennai",
         "IT",
         "91199.0",
         "2019-06-23",
         "Terminated"
        ],
        [
         "6",
         "Employee_7",
         null,
         "Female",
         "Bangalore",
         "HR",
         "59766.0",
         "2015-09-20",
         "Resigned"
        ],
        [
         "7",
         "Employee_8",
         "32.0",
         "Female",
         "Bangalore",
         "IT",
         "86087.0",
         "2019-11-23",
         "Terminated"
        ],
        [
         "8",
         "Employee_9",
         "45.0",
         "Male",
         "Mumbai",
         "IT",
         "93840.0",
         "2020-12-31",
         "Resigned"
        ],
        [
         "9",
         "Employee_10",
         "45.0",
         "Female",
         "Chennai",
         "HR",
         "79384.0",
         "2021-07-21",
         "Resigned"
        ]
       ],
       "shape": {
        "columns": 8,
        "rows": 10
       }
      },
      "text/html": [
       "<div>\n",
       "<style scoped>\n",
       "    .dataframe tbody tr th:only-of-type {\n",
       "        vertical-align: middle;\n",
       "    }\n",
       "\n",
       "    .dataframe tbody tr th {\n",
       "        vertical-align: top;\n",
       "    }\n",
       "\n",
       "    .dataframe thead th {\n",
       "        text-align: right;\n",
       "    }\n",
       "</style>\n",
       "<table border=\"1\" class=\"dataframe\">\n",
       "  <thead>\n",
       "    <tr style=\"text-align: right;\">\n",
       "      <th></th>\n",
       "      <th>Name</th>\n",
       "      <th>Age</th>\n",
       "      <th>Gender</th>\n",
       "      <th>City</th>\n",
       "      <th>Department</th>\n",
       "      <th>Salary</th>\n",
       "      <th>JoinDate</th>\n",
       "      <th>Status</th>\n",
       "    </tr>\n",
       "  </thead>\n",
       "  <tbody>\n",
       "    <tr>\n",
       "      <th>0</th>\n",
       "      <td>Employee_1</td>\n",
       "      <td>50.0</td>\n",
       "      <td>Female</td>\n",
       "      <td>Delhi</td>\n",
       "      <td>Finance</td>\n",
       "      <td>83053.0</td>\n",
       "      <td>2019-12-08</td>\n",
       "      <td>Terminated</td>\n",
       "    </tr>\n",
       "    <tr>\n",
       "      <th>1</th>\n",
       "      <td>Employee_2</td>\n",
       "      <td>36.0</td>\n",
       "      <td>Female</td>\n",
       "      <td>Mumbai</td>\n",
       "      <td>Finance</td>\n",
       "      <td>46959.0</td>\n",
       "      <td>2021-11-25</td>\n",
       "      <td>Terminated</td>\n",
       "    </tr>\n",
       "    <tr>\n",
       "      <th>2</th>\n",
       "      <td>Employee_3</td>\n",
       "      <td>29.0</td>\n",
       "      <td>Female</td>\n",
       "      <td>Chennai</td>\n",
       "      <td>NaN</td>\n",
       "      <td>30530.0</td>\n",
       "      <td>2020-05-23</td>\n",
       "      <td>Active</td>\n",
       "    </tr>\n",
       "    <tr>\n",
       "      <th>3</th>\n",
       "      <td>Employee_4</td>\n",
       "      <td>42.0</td>\n",
       "      <td>Male</td>\n",
       "      <td>Bangalore</td>\n",
       "      <td>HR</td>\n",
       "      <td>28748.0</td>\n",
       "      <td>2021-01-07</td>\n",
       "      <td>Active</td>\n",
       "    </tr>\n",
       "    <tr>\n",
       "      <th>4</th>\n",
       "      <td>Employee_5</td>\n",
       "      <td>40.0</td>\n",
       "      <td>Female</td>\n",
       "      <td>Delhi</td>\n",
       "      <td>IT</td>\n",
       "      <td>NaN</td>\n",
       "      <td>2018-12-09</td>\n",
       "      <td>Terminated</td>\n",
       "    </tr>\n",
       "    <tr>\n",
       "      <th>5</th>\n",
       "      <td>Employee_6</td>\n",
       "      <td>44.0</td>\n",
       "      <td>Male</td>\n",
       "      <td>Chennai</td>\n",
       "      <td>IT</td>\n",
       "      <td>91199.0</td>\n",
       "      <td>2019-06-23</td>\n",
       "      <td>Terminated</td>\n",
       "    </tr>\n",
       "    <tr>\n",
       "      <th>6</th>\n",
       "      <td>Employee_7</td>\n",
       "      <td>NaN</td>\n",
       "      <td>Female</td>\n",
       "      <td>Bangalore</td>\n",
       "      <td>HR</td>\n",
       "      <td>59766.0</td>\n",
       "      <td>2015-09-20</td>\n",
       "      <td>Resigned</td>\n",
       "    </tr>\n",
       "    <tr>\n",
       "      <th>7</th>\n",
       "      <td>Employee_8</td>\n",
       "      <td>32.0</td>\n",
       "      <td>Female</td>\n",
       "      <td>Bangalore</td>\n",
       "      <td>IT</td>\n",
       "      <td>86087.0</td>\n",
       "      <td>2019-11-23</td>\n",
       "      <td>Terminated</td>\n",
       "    </tr>\n",
       "    <tr>\n",
       "      <th>8</th>\n",
       "      <td>Employee_9</td>\n",
       "      <td>45.0</td>\n",
       "      <td>Male</td>\n",
       "      <td>Mumbai</td>\n",
       "      <td>IT</td>\n",
       "      <td>93840.0</td>\n",
       "      <td>2020-12-31</td>\n",
       "      <td>Resigned</td>\n",
       "    </tr>\n",
       "    <tr>\n",
       "      <th>9</th>\n",
       "      <td>Employee_10</td>\n",
       "      <td>45.0</td>\n",
       "      <td>Female</td>\n",
       "      <td>Chennai</td>\n",
       "      <td>HR</td>\n",
       "      <td>79384.0</td>\n",
       "      <td>2021-07-21</td>\n",
       "      <td>Resigned</td>\n",
       "    </tr>\n",
       "  </tbody>\n",
       "</table>\n",
       "</div>"
      ],
      "text/plain": [
       "          Name   Age  Gender       City Department   Salary    JoinDate  \\\n",
       "0   Employee_1  50.0  Female      Delhi    Finance  83053.0  2019-12-08   \n",
       "1   Employee_2  36.0  Female     Mumbai    Finance  46959.0  2021-11-25   \n",
       "2   Employee_3  29.0  Female    Chennai        NaN  30530.0  2020-05-23   \n",
       "3   Employee_4  42.0    Male  Bangalore         HR  28748.0  2021-01-07   \n",
       "4   Employee_5  40.0  Female      Delhi         IT      NaN  2018-12-09   \n",
       "5   Employee_6  44.0    Male    Chennai         IT  91199.0  2019-06-23   \n",
       "6   Employee_7   NaN  Female  Bangalore         HR  59766.0  2015-09-20   \n",
       "7   Employee_8  32.0  Female  Bangalore         IT  86087.0  2019-11-23   \n",
       "8   Employee_9  45.0    Male     Mumbai         IT  93840.0  2020-12-31   \n",
       "9  Employee_10  45.0  Female    Chennai         HR  79384.0  2021-07-21   \n",
       "\n",
       "       Status  \n",
       "0  Terminated  \n",
       "1  Terminated  \n",
       "2      Active  \n",
       "3      Active  \n",
       "4  Terminated  \n",
       "5  Terminated  \n",
       "6    Resigned  \n",
       "7  Terminated  \n",
       "8    Resigned  \n",
       "9    Resigned  "
      ]
     },
     "execution_count": 3,
     "metadata": {},
     "output_type": "execute_result"
    }
   ],
   "source": [
    "df.head(10)"
   ]
  },
  {
   "cell_type": "markdown",
   "id": "475a010c",
   "metadata": {},
   "source": [
    "2. Display data types and check memory usage of each column."
   ]
  },
  {
   "cell_type": "code",
   "execution_count": 4,
   "id": "0be00872",
   "metadata": {},
   "outputs": [
    {
     "name": "stdout",
     "output_type": "stream",
     "text": [
      "<class 'pandas.core.frame.DataFrame'>\n",
      "RangeIndex: 50 entries, 0 to 49\n",
      "Data columns (total 8 columns):\n",
      " #   Column      Non-Null Count  Dtype  \n",
      "---  ------      --------------  -----  \n",
      " 0   Name        50 non-null     object \n",
      " 1   Age         47 non-null     float64\n",
      " 2   Gender      50 non-null     object \n",
      " 3   City        50 non-null     object \n",
      " 4   Department  46 non-null     object \n",
      " 5   Salary      45 non-null     float64\n",
      " 6   JoinDate    50 non-null     object \n",
      " 7   Status      50 non-null     object \n",
      "dtypes: float64(2), object(6)\n",
      "memory usage: 17.3 KB\n"
     ]
    }
   ],
   "source": [
    "df.info(memory_usage='deep')"
   ]
  },
  {
   "cell_type": "markdown",
   "id": "329bc34e",
   "metadata": {},
   "source": [
    "3. Display the column names in the DataFrame."
   ]
  },
  {
   "cell_type": "code",
   "execution_count": 5,
   "id": "a8977664",
   "metadata": {},
   "outputs": [
    {
     "name": "stdout",
     "output_type": "stream",
     "text": [
      "Column names:\n",
      "['Name', 'Age', 'Gender', 'City', 'Department', 'Salary', 'JoinDate', 'Status']\n"
     ]
    }
   ],
   "source": [
    "print(\"Column names:\")\n",
    "print(df.columns.tolist())"
   ]
  },
  {
   "cell_type": "markdown",
   "id": "d25a2a7a",
   "metadata": {},
   "source": [
    "4. Display the total number of elements and the shape of the DataFrame."
   ]
  },
  {
   "cell_type": "code",
   "execution_count": 6,
   "id": "fbe65089",
   "metadata": {},
   "outputs": [
    {
     "name": "stdout",
     "output_type": "stream",
     "text": [
      "Total number of elements: 400\n",
      "Shape of DataFrame: (50, 8)\n",
      "Number of rows: 50\n",
      "Number of columns: 8\n"
     ]
    }
   ],
   "source": [
    "print(f\"Total number of elements: {df.size}\")\n",
    "print(f\"Shape of DataFrame: {df.shape}\")\n",
    "print(f\"Number of rows: {df.shape[0]}\")\n",
    "print(f\"Number of columns: {df.shape[1]}\")"
   ]
  },
  {
   "cell_type": "markdown",
   "id": "0ed2b145",
   "metadata": {},
   "source": [
    "5. Show a statistical summary of numerical columns."
   ]
  },
  {
   "cell_type": "code",
   "execution_count": 7,
   "id": "2d85d2cf",
   "metadata": {},
   "outputs": [
    {
     "data": {
      "application/vnd.microsoft.datawrangler.viewer.v0+json": {
       "columns": [
        {
         "name": "index",
         "rawType": "object",
         "type": "string"
        },
        {
         "name": "Age",
         "rawType": "float64",
         "type": "float"
        },
        {
         "name": "Salary",
         "rawType": "float64",
         "type": "float"
        }
       ],
       "ref": "209a5971-278d-4aa7-8c9e-247531d586dd",
       "rows": [
        [
         "count",
         "47.0",
         "45.0"
        ],
        [
         "mean",
         "37.57446808510638",
         "63068.77777777778"
        ],
        [
         "std",
         "9.128895073030147",
         "22101.322374967116"
        ],
        [
         "min",
         "23.0",
         "25854.0"
        ],
        [
         "25%",
         "29.5",
         "46959.0"
        ],
        [
         "50%",
         "39.0",
         "64353.0"
        ],
        [
         "75%",
         "45.0",
         "80680.0"
        ],
        [
         "max",
         "54.0",
         "93840.0"
        ]
       ],
       "shape": {
        "columns": 2,
        "rows": 8
       }
      },
      "text/html": [
       "<div>\n",
       "<style scoped>\n",
       "    .dataframe tbody tr th:only-of-type {\n",
       "        vertical-align: middle;\n",
       "    }\n",
       "\n",
       "    .dataframe tbody tr th {\n",
       "        vertical-align: top;\n",
       "    }\n",
       "\n",
       "    .dataframe thead th {\n",
       "        text-align: right;\n",
       "    }\n",
       "</style>\n",
       "<table border=\"1\" class=\"dataframe\">\n",
       "  <thead>\n",
       "    <tr style=\"text-align: right;\">\n",
       "      <th></th>\n",
       "      <th>Age</th>\n",
       "      <th>Salary</th>\n",
       "    </tr>\n",
       "  </thead>\n",
       "  <tbody>\n",
       "    <tr>\n",
       "      <th>count</th>\n",
       "      <td>47.000000</td>\n",
       "      <td>45.000000</td>\n",
       "    </tr>\n",
       "    <tr>\n",
       "      <th>mean</th>\n",
       "      <td>37.574468</td>\n",
       "      <td>63068.777778</td>\n",
       "    </tr>\n",
       "    <tr>\n",
       "      <th>std</th>\n",
       "      <td>9.128895</td>\n",
       "      <td>22101.322375</td>\n",
       "    </tr>\n",
       "    <tr>\n",
       "      <th>min</th>\n",
       "      <td>23.000000</td>\n",
       "      <td>25854.000000</td>\n",
       "    </tr>\n",
       "    <tr>\n",
       "      <th>25%</th>\n",
       "      <td>29.500000</td>\n",
       "      <td>46959.000000</td>\n",
       "    </tr>\n",
       "    <tr>\n",
       "      <th>50%</th>\n",
       "      <td>39.000000</td>\n",
       "      <td>64353.000000</td>\n",
       "    </tr>\n",
       "    <tr>\n",
       "      <th>75%</th>\n",
       "      <td>45.000000</td>\n",
       "      <td>80680.000000</td>\n",
       "    </tr>\n",
       "    <tr>\n",
       "      <th>max</th>\n",
       "      <td>54.000000</td>\n",
       "      <td>93840.000000</td>\n",
       "    </tr>\n",
       "  </tbody>\n",
       "</table>\n",
       "</div>"
      ],
      "text/plain": [
       "             Age        Salary\n",
       "count  47.000000     45.000000\n",
       "mean   37.574468  63068.777778\n",
       "std     9.128895  22101.322375\n",
       "min    23.000000  25854.000000\n",
       "25%    29.500000  46959.000000\n",
       "50%    39.000000  64353.000000\n",
       "75%    45.000000  80680.000000\n",
       "max    54.000000  93840.000000"
      ]
     },
     "execution_count": 7,
     "metadata": {},
     "output_type": "execute_result"
    }
   ],
   "source": [
    "df.describe()"
   ]
  },
  {
   "cell_type": "markdown",
   "id": "0739381a",
   "metadata": {},
   "source": [
    "## 🟦 Section B: Filtering and Slicing"
   ]
  },
  {
   "cell_type": "markdown",
   "id": "600d12b5",
   "metadata": {},
   "source": [
    "6. Display all records where `Salary` is greater than ₹50,000."
   ]
  },
  {
   "cell_type": "code",
   "execution_count": 8,
   "id": "e2b822cc",
   "metadata": {},
   "outputs": [
    {
     "name": "stdout",
     "output_type": "stream",
     "text": [
      "Number of employees with salary > 50,000: 31\n"
     ]
    },
    {
     "data": {
      "application/vnd.microsoft.datawrangler.viewer.v0+json": {
       "columns": [
        {
         "name": "index",
         "rawType": "int64",
         "type": "integer"
        },
        {
         "name": "Name",
         "rawType": "object",
         "type": "string"
        },
        {
         "name": "Age",
         "rawType": "float64",
         "type": "float"
        },
        {
         "name": "Gender",
         "rawType": "object",
         "type": "string"
        },
        {
         "name": "City",
         "rawType": "object",
         "type": "string"
        },
        {
         "name": "Department",
         "rawType": "object",
         "type": "unknown"
        },
        {
         "name": "Salary",
         "rawType": "float64",
         "type": "float"
        },
        {
         "name": "JoinDate",
         "rawType": "object",
         "type": "string"
        },
        {
         "name": "Status",
         "rawType": "object",
         "type": "string"
        }
       ],
       "ref": "99a431a3-a062-4b0e-acb0-ba5a2dc1cd70",
       "rows": [
        [
         "0",
         "Employee_1",
         "50.0",
         "Female",
         "Delhi",
         "Finance",
         "83053.0",
         "2019-12-08",
         "Terminated"
        ],
        [
         "5",
         "Employee_6",
         "44.0",
         "Male",
         "Chennai",
         "IT",
         "91199.0",
         "2019-06-23",
         "Terminated"
        ],
        [
         "6",
         "Employee_7",
         null,
         "Female",
         "Bangalore",
         "HR",
         "59766.0",
         "2015-09-20",
         "Resigned"
        ],
        [
         "7",
         "Employee_8",
         "32.0",
         "Female",
         "Bangalore",
         "IT",
         "86087.0",
         "2019-11-23",
         "Terminated"
        ],
        [
         "8",
         "Employee_9",
         "45.0",
         "Male",
         "Mumbai",
         "IT",
         "93840.0",
         "2020-12-31",
         "Resigned"
        ],
        [
         "9",
         "Employee_10",
         "45.0",
         "Female",
         "Chennai",
         "HR",
         "79384.0",
         "2021-07-21",
         "Resigned"
        ],
        [
         "10",
         "Employee_11",
         "24.0",
         "Male",
         "Bangalore",
         "Finance",
         "76005.0",
         "2016-09-15",
         "Resigned"
        ],
        [
         "11",
         "Employee_12",
         "43.0",
         "Female",
         "Delhi",
         "HR",
         "71576.0",
         "2017-10-13",
         "Resigned"
        ],
        [
         "12",
         "Employee_13",
         "23.0",
         "Female",
         "Delhi",
         "Finance",
         "64353.0",
         "2017-05-30",
         "Resigned"
        ],
        [
         "13",
         "Employee_14",
         "45.0",
         "Male",
         "Mumbai",
         "IT",
         "87003.0",
         "2020-08-11",
         "Active"
        ],
        [
         "14",
         "Employee_15",
         "51.0",
         "Female",
         "Bangalore",
         "IT",
         "77733.0",
         "2018-08-20",
         "Terminated"
        ],
        [
         "15",
         "Employee_16",
         "23.0",
         "Male",
         "Chennai",
         "IT",
         "90318.0",
         "2021-04-20",
         "Resigned"
        ],
        [
         "17",
         "Employee_18",
         "54.0",
         "Male",
         "Bangalore",
         "Finance",
         "92172.0",
         "2018-03-29",
         "Terminated"
        ],
        [
         "22",
         "Employee_23",
         "49.0",
         "Female",
         "Chennai",
         "HR",
         "80680.0",
         "2018-02-28",
         "Terminated"
        ],
        [
         "23",
         "Employee_24",
         "37.0",
         "Female",
         "Delhi",
         "HR",
         "71717.0",
         "2016-02-08",
         "Active"
        ],
        [
         "24",
         "Employee_25",
         "36.0",
         "Female",
         "Chennai",
         "Sales",
         "75859.0",
         "2021-01-08",
         "Active"
        ],
        [
         "25",
         "Employee_26",
         "24.0",
         "Male",
         "Delhi",
         "Finance",
         "51309.0",
         "2020-10-02",
         "Active"
        ],
        [
         "26",
         "Employee_27",
         "28.0",
         "Male",
         "Mumbai",
         "Finance",
         "88734.0",
         "2019-08-24",
         "Terminated"
        ],
        [
         "29",
         "Employee_30",
         "39.0",
         "Male",
         "Chennai",
         "Finance",
         "50342.0",
         "2019-07-07",
         "Active"
        ],
        [
         "30",
         "Employee_31",
         "25.0",
         "Male",
         "Mumbai",
         null,
         "62157.0",
         "2018-12-14",
         "Resigned"
        ],
        [
         "31",
         "Employee_32",
         "46.0",
         "Male",
         "Delhi",
         "Sales",
         "92863.0",
         "2018-12-16",
         "Active"
        ],
        [
         "32",
         "Employee_33",
         "35.0",
         "Male",
         "Delhi",
         "IT",
         "77083.0",
         "2015-04-14",
         "Resigned"
        ],
        [
         "33",
         "Employee_34",
         "30.0",
         "Male",
         "Mumbai",
         "Finance",
         "90733.0",
         "2015-09-11",
         "Active"
        ],
        [
         "34",
         "Employee_35",
         "47.0",
         "Female",
         "Delhi",
         "Sales",
         "59698.0",
         "2022-01-01",
         "Resigned"
        ],
        [
         "36",
         "Employee_37",
         "41.0",
         "Female",
         "Chennai",
         "Finance",
         "50184.0",
         "2015-04-09",
         "Active"
        ],
        [
         "37",
         "Employee_38",
         "49.0",
         "Female",
         "Delhi",
         "HR",
         "67107.0",
         "2021-01-09",
         "Active"
        ],
        [
         "38",
         "Employee_39",
         "28.0",
         "Female",
         "Delhi",
         "IT",
         "76663.0",
         "2020-02-28",
         "Active"
        ],
        [
         "40",
         "Employee_41",
         "35.0",
         "Male",
         "Mumbai",
         "HR",
         "74811.0",
         "2017-05-27",
         "Resigned"
        ],
        [
         "43",
         "Employee_44",
         "23.0",
         "Female",
         "Delhi",
         "IT",
         "59754.0",
         "2017-08-14",
         "Terminated"
        ],
        [
         "46",
         "Employee_47",
         "50.0",
         "Male",
         "Delhi",
         "Finance",
         "92270.0",
         "2019-05-23",
         "Active"
        ],
        [
         "49",
         "Employee_50",
         "31.0",
         "Female",
         "Chennai",
         "IT",
         "62504.0",
         "2018-07-24",
         "Active"
        ]
       ],
       "shape": {
        "columns": 8,
        "rows": 31
       }
      },
      "text/html": [
       "<div>\n",
       "<style scoped>\n",
       "    .dataframe tbody tr th:only-of-type {\n",
       "        vertical-align: middle;\n",
       "    }\n",
       "\n",
       "    .dataframe tbody tr th {\n",
       "        vertical-align: top;\n",
       "    }\n",
       "\n",
       "    .dataframe thead th {\n",
       "        text-align: right;\n",
       "    }\n",
       "</style>\n",
       "<table border=\"1\" class=\"dataframe\">\n",
       "  <thead>\n",
       "    <tr style=\"text-align: right;\">\n",
       "      <th></th>\n",
       "      <th>Name</th>\n",
       "      <th>Age</th>\n",
       "      <th>Gender</th>\n",
       "      <th>City</th>\n",
       "      <th>Department</th>\n",
       "      <th>Salary</th>\n",
       "      <th>JoinDate</th>\n",
       "      <th>Status</th>\n",
       "    </tr>\n",
       "  </thead>\n",
       "  <tbody>\n",
       "    <tr>\n",
       "      <th>0</th>\n",
       "      <td>Employee_1</td>\n",
       "      <td>50.0</td>\n",
       "      <td>Female</td>\n",
       "      <td>Delhi</td>\n",
       "      <td>Finance</td>\n",
       "      <td>83053.0</td>\n",
       "      <td>2019-12-08</td>\n",
       "      <td>Terminated</td>\n",
       "    </tr>\n",
       "    <tr>\n",
       "      <th>5</th>\n",
       "      <td>Employee_6</td>\n",
       "      <td>44.0</td>\n",
       "      <td>Male</td>\n",
       "      <td>Chennai</td>\n",
       "      <td>IT</td>\n",
       "      <td>91199.0</td>\n",
       "      <td>2019-06-23</td>\n",
       "      <td>Terminated</td>\n",
       "    </tr>\n",
       "    <tr>\n",
       "      <th>6</th>\n",
       "      <td>Employee_7</td>\n",
       "      <td>NaN</td>\n",
       "      <td>Female</td>\n",
       "      <td>Bangalore</td>\n",
       "      <td>HR</td>\n",
       "      <td>59766.0</td>\n",
       "      <td>2015-09-20</td>\n",
       "      <td>Resigned</td>\n",
       "    </tr>\n",
       "    <tr>\n",
       "      <th>7</th>\n",
       "      <td>Employee_8</td>\n",
       "      <td>32.0</td>\n",
       "      <td>Female</td>\n",
       "      <td>Bangalore</td>\n",
       "      <td>IT</td>\n",
       "      <td>86087.0</td>\n",
       "      <td>2019-11-23</td>\n",
       "      <td>Terminated</td>\n",
       "    </tr>\n",
       "    <tr>\n",
       "      <th>8</th>\n",
       "      <td>Employee_9</td>\n",
       "      <td>45.0</td>\n",
       "      <td>Male</td>\n",
       "      <td>Mumbai</td>\n",
       "      <td>IT</td>\n",
       "      <td>93840.0</td>\n",
       "      <td>2020-12-31</td>\n",
       "      <td>Resigned</td>\n",
       "    </tr>\n",
       "    <tr>\n",
       "      <th>9</th>\n",
       "      <td>Employee_10</td>\n",
       "      <td>45.0</td>\n",
       "      <td>Female</td>\n",
       "      <td>Chennai</td>\n",
       "      <td>HR</td>\n",
       "      <td>79384.0</td>\n",
       "      <td>2021-07-21</td>\n",
       "      <td>Resigned</td>\n",
       "    </tr>\n",
       "    <tr>\n",
       "      <th>10</th>\n",
       "      <td>Employee_11</td>\n",
       "      <td>24.0</td>\n",
       "      <td>Male</td>\n",
       "      <td>Bangalore</td>\n",
       "      <td>Finance</td>\n",
       "      <td>76005.0</td>\n",
       "      <td>2016-09-15</td>\n",
       "      <td>Resigned</td>\n",
       "    </tr>\n",
       "    <tr>\n",
       "      <th>11</th>\n",
       "      <td>Employee_12</td>\n",
       "      <td>43.0</td>\n",
       "      <td>Female</td>\n",
       "      <td>Delhi</td>\n",
       "      <td>HR</td>\n",
       "      <td>71576.0</td>\n",
       "      <td>2017-10-13</td>\n",
       "      <td>Resigned</td>\n",
       "    </tr>\n",
       "    <tr>\n",
       "      <th>12</th>\n",
       "      <td>Employee_13</td>\n",
       "      <td>23.0</td>\n",
       "      <td>Female</td>\n",
       "      <td>Delhi</td>\n",
       "      <td>Finance</td>\n",
       "      <td>64353.0</td>\n",
       "      <td>2017-05-30</td>\n",
       "      <td>Resigned</td>\n",
       "    </tr>\n",
       "    <tr>\n",
       "      <th>13</th>\n",
       "      <td>Employee_14</td>\n",
       "      <td>45.0</td>\n",
       "      <td>Male</td>\n",
       "      <td>Mumbai</td>\n",
       "      <td>IT</td>\n",
       "      <td>87003.0</td>\n",
       "      <td>2020-08-11</td>\n",
       "      <td>Active</td>\n",
       "    </tr>\n",
       "    <tr>\n",
       "      <th>14</th>\n",
       "      <td>Employee_15</td>\n",
       "      <td>51.0</td>\n",
       "      <td>Female</td>\n",
       "      <td>Bangalore</td>\n",
       "      <td>IT</td>\n",
       "      <td>77733.0</td>\n",
       "      <td>2018-08-20</td>\n",
       "      <td>Terminated</td>\n",
       "    </tr>\n",
       "    <tr>\n",
       "      <th>15</th>\n",
       "      <td>Employee_16</td>\n",
       "      <td>23.0</td>\n",
       "      <td>Male</td>\n",
       "      <td>Chennai</td>\n",
       "      <td>IT</td>\n",
       "      <td>90318.0</td>\n",
       "      <td>2021-04-20</td>\n",
       "      <td>Resigned</td>\n",
       "    </tr>\n",
       "    <tr>\n",
       "      <th>17</th>\n",
       "      <td>Employee_18</td>\n",
       "      <td>54.0</td>\n",
       "      <td>Male</td>\n",
       "      <td>Bangalore</td>\n",
       "      <td>Finance</td>\n",
       "      <td>92172.0</td>\n",
       "      <td>2018-03-29</td>\n",
       "      <td>Terminated</td>\n",
       "    </tr>\n",
       "    <tr>\n",
       "      <th>22</th>\n",
       "      <td>Employee_23</td>\n",
       "      <td>49.0</td>\n",
       "      <td>Female</td>\n",
       "      <td>Chennai</td>\n",
       "      <td>HR</td>\n",
       "      <td>80680.0</td>\n",
       "      <td>2018-02-28</td>\n",
       "      <td>Terminated</td>\n",
       "    </tr>\n",
       "    <tr>\n",
       "      <th>23</th>\n",
       "      <td>Employee_24</td>\n",
       "      <td>37.0</td>\n",
       "      <td>Female</td>\n",
       "      <td>Delhi</td>\n",
       "      <td>HR</td>\n",
       "      <td>71717.0</td>\n",
       "      <td>2016-02-08</td>\n",
       "      <td>Active</td>\n",
       "    </tr>\n",
       "    <tr>\n",
       "      <th>24</th>\n",
       "      <td>Employee_25</td>\n",
       "      <td>36.0</td>\n",
       "      <td>Female</td>\n",
       "      <td>Chennai</td>\n",
       "      <td>Sales</td>\n",
       "      <td>75859.0</td>\n",
       "      <td>2021-01-08</td>\n",
       "      <td>Active</td>\n",
       "    </tr>\n",
       "    <tr>\n",
       "      <th>25</th>\n",
       "      <td>Employee_26</td>\n",
       "      <td>24.0</td>\n",
       "      <td>Male</td>\n",
       "      <td>Delhi</td>\n",
       "      <td>Finance</td>\n",
       "      <td>51309.0</td>\n",
       "      <td>2020-10-02</td>\n",
       "      <td>Active</td>\n",
       "    </tr>\n",
       "    <tr>\n",
       "      <th>26</th>\n",
       "      <td>Employee_27</td>\n",
       "      <td>28.0</td>\n",
       "      <td>Male</td>\n",
       "      <td>Mumbai</td>\n",
       "      <td>Finance</td>\n",
       "      <td>88734.0</td>\n",
       "      <td>2019-08-24</td>\n",
       "      <td>Terminated</td>\n",
       "    </tr>\n",
       "    <tr>\n",
       "      <th>29</th>\n",
       "      <td>Employee_30</td>\n",
       "      <td>39.0</td>\n",
       "      <td>Male</td>\n",
       "      <td>Chennai</td>\n",
       "      <td>Finance</td>\n",
       "      <td>50342.0</td>\n",
       "      <td>2019-07-07</td>\n",
       "      <td>Active</td>\n",
       "    </tr>\n",
       "    <tr>\n",
       "      <th>30</th>\n",
       "      <td>Employee_31</td>\n",
       "      <td>25.0</td>\n",
       "      <td>Male</td>\n",
       "      <td>Mumbai</td>\n",
       "      <td>NaN</td>\n",
       "      <td>62157.0</td>\n",
       "      <td>2018-12-14</td>\n",
       "      <td>Resigned</td>\n",
       "    </tr>\n",
       "    <tr>\n",
       "      <th>31</th>\n",
       "      <td>Employee_32</td>\n",
       "      <td>46.0</td>\n",
       "      <td>Male</td>\n",
       "      <td>Delhi</td>\n",
       "      <td>Sales</td>\n",
       "      <td>92863.0</td>\n",
       "      <td>2018-12-16</td>\n",
       "      <td>Active</td>\n",
       "    </tr>\n",
       "    <tr>\n",
       "      <th>32</th>\n",
       "      <td>Employee_33</td>\n",
       "      <td>35.0</td>\n",
       "      <td>Male</td>\n",
       "      <td>Delhi</td>\n",
       "      <td>IT</td>\n",
       "      <td>77083.0</td>\n",
       "      <td>2015-04-14</td>\n",
       "      <td>Resigned</td>\n",
       "    </tr>\n",
       "    <tr>\n",
       "      <th>33</th>\n",
       "      <td>Employee_34</td>\n",
       "      <td>30.0</td>\n",
       "      <td>Male</td>\n",
       "      <td>Mumbai</td>\n",
       "      <td>Finance</td>\n",
       "      <td>90733.0</td>\n",
       "      <td>2015-09-11</td>\n",
       "      <td>Active</td>\n",
       "    </tr>\n",
       "    <tr>\n",
       "      <th>34</th>\n",
       "      <td>Employee_35</td>\n",
       "      <td>47.0</td>\n",
       "      <td>Female</td>\n",
       "      <td>Delhi</td>\n",
       "      <td>Sales</td>\n",
       "      <td>59698.0</td>\n",
       "      <td>2022-01-01</td>\n",
       "      <td>Resigned</td>\n",
       "    </tr>\n",
       "    <tr>\n",
       "      <th>36</th>\n",
       "      <td>Employee_37</td>\n",
       "      <td>41.0</td>\n",
       "      <td>Female</td>\n",
       "      <td>Chennai</td>\n",
       "      <td>Finance</td>\n",
       "      <td>50184.0</td>\n",
       "      <td>2015-04-09</td>\n",
       "      <td>Active</td>\n",
       "    </tr>\n",
       "    <tr>\n",
       "      <th>37</th>\n",
       "      <td>Employee_38</td>\n",
       "      <td>49.0</td>\n",
       "      <td>Female</td>\n",
       "      <td>Delhi</td>\n",
       "      <td>HR</td>\n",
       "      <td>67107.0</td>\n",
       "      <td>2021-01-09</td>\n",
       "      <td>Active</td>\n",
       "    </tr>\n",
       "    <tr>\n",
       "      <th>38</th>\n",
       "      <td>Employee_39</td>\n",
       "      <td>28.0</td>\n",
       "      <td>Female</td>\n",
       "      <td>Delhi</td>\n",
       "      <td>IT</td>\n",
       "      <td>76663.0</td>\n",
       "      <td>2020-02-28</td>\n",
       "      <td>Active</td>\n",
       "    </tr>\n",
       "    <tr>\n",
       "      <th>40</th>\n",
       "      <td>Employee_41</td>\n",
       "      <td>35.0</td>\n",
       "      <td>Male</td>\n",
       "      <td>Mumbai</td>\n",
       "      <td>HR</td>\n",
       "      <td>74811.0</td>\n",
       "      <td>2017-05-27</td>\n",
       "      <td>Resigned</td>\n",
       "    </tr>\n",
       "    <tr>\n",
       "      <th>43</th>\n",
       "      <td>Employee_44</td>\n",
       "      <td>23.0</td>\n",
       "      <td>Female</td>\n",
       "      <td>Delhi</td>\n",
       "      <td>IT</td>\n",
       "      <td>59754.0</td>\n",
       "      <td>2017-08-14</td>\n",
       "      <td>Terminated</td>\n",
       "    </tr>\n",
       "    <tr>\n",
       "      <th>46</th>\n",
       "      <td>Employee_47</td>\n",
       "      <td>50.0</td>\n",
       "      <td>Male</td>\n",
       "      <td>Delhi</td>\n",
       "      <td>Finance</td>\n",
       "      <td>92270.0</td>\n",
       "      <td>2019-05-23</td>\n",
       "      <td>Active</td>\n",
       "    </tr>\n",
       "    <tr>\n",
       "      <th>49</th>\n",
       "      <td>Employee_50</td>\n",
       "      <td>31.0</td>\n",
       "      <td>Female</td>\n",
       "      <td>Chennai</td>\n",
       "      <td>IT</td>\n",
       "      <td>62504.0</td>\n",
       "      <td>2018-07-24</td>\n",
       "      <td>Active</td>\n",
       "    </tr>\n",
       "  </tbody>\n",
       "</table>\n",
       "</div>"
      ],
      "text/plain": [
       "           Name   Age  Gender       City Department   Salary    JoinDate  \\\n",
       "0    Employee_1  50.0  Female      Delhi    Finance  83053.0  2019-12-08   \n",
       "5    Employee_6  44.0    Male    Chennai         IT  91199.0  2019-06-23   \n",
       "6    Employee_7   NaN  Female  Bangalore         HR  59766.0  2015-09-20   \n",
       "7    Employee_8  32.0  Female  Bangalore         IT  86087.0  2019-11-23   \n",
       "8    Employee_9  45.0    Male     Mumbai         IT  93840.0  2020-12-31   \n",
       "9   Employee_10  45.0  Female    Chennai         HR  79384.0  2021-07-21   \n",
       "10  Employee_11  24.0    Male  Bangalore    Finance  76005.0  2016-09-15   \n",
       "11  Employee_12  43.0  Female      Delhi         HR  71576.0  2017-10-13   \n",
       "12  Employee_13  23.0  Female      Delhi    Finance  64353.0  2017-05-30   \n",
       "13  Employee_14  45.0    Male     Mumbai         IT  87003.0  2020-08-11   \n",
       "14  Employee_15  51.0  Female  Bangalore         IT  77733.0  2018-08-20   \n",
       "15  Employee_16  23.0    Male    Chennai         IT  90318.0  2021-04-20   \n",
       "17  Employee_18  54.0    Male  Bangalore    Finance  92172.0  2018-03-29   \n",
       "22  Employee_23  49.0  Female    Chennai         HR  80680.0  2018-02-28   \n",
       "23  Employee_24  37.0  Female      Delhi         HR  71717.0  2016-02-08   \n",
       "24  Employee_25  36.0  Female    Chennai      Sales  75859.0  2021-01-08   \n",
       "25  Employee_26  24.0    Male      Delhi    Finance  51309.0  2020-10-02   \n",
       "26  Employee_27  28.0    Male     Mumbai    Finance  88734.0  2019-08-24   \n",
       "29  Employee_30  39.0    Male    Chennai    Finance  50342.0  2019-07-07   \n",
       "30  Employee_31  25.0    Male     Mumbai        NaN  62157.0  2018-12-14   \n",
       "31  Employee_32  46.0    Male      Delhi      Sales  92863.0  2018-12-16   \n",
       "32  Employee_33  35.0    Male      Delhi         IT  77083.0  2015-04-14   \n",
       "33  Employee_34  30.0    Male     Mumbai    Finance  90733.0  2015-09-11   \n",
       "34  Employee_35  47.0  Female      Delhi      Sales  59698.0  2022-01-01   \n",
       "36  Employee_37  41.0  Female    Chennai    Finance  50184.0  2015-04-09   \n",
       "37  Employee_38  49.0  Female      Delhi         HR  67107.0  2021-01-09   \n",
       "38  Employee_39  28.0  Female      Delhi         IT  76663.0  2020-02-28   \n",
       "40  Employee_41  35.0    Male     Mumbai         HR  74811.0  2017-05-27   \n",
       "43  Employee_44  23.0  Female      Delhi         IT  59754.0  2017-08-14   \n",
       "46  Employee_47  50.0    Male      Delhi    Finance  92270.0  2019-05-23   \n",
       "49  Employee_50  31.0  Female    Chennai         IT  62504.0  2018-07-24   \n",
       "\n",
       "        Status  \n",
       "0   Terminated  \n",
       "5   Terminated  \n",
       "6     Resigned  \n",
       "7   Terminated  \n",
       "8     Resigned  \n",
       "9     Resigned  \n",
       "10    Resigned  \n",
       "11    Resigned  \n",
       "12    Resigned  \n",
       "13      Active  \n",
       "14  Terminated  \n",
       "15    Resigned  \n",
       "17  Terminated  \n",
       "22  Terminated  \n",
       "23      Active  \n",
       "24      Active  \n",
       "25      Active  \n",
       "26  Terminated  \n",
       "29      Active  \n",
       "30    Resigned  \n",
       "31      Active  \n",
       "32    Resigned  \n",
       "33      Active  \n",
       "34    Resigned  \n",
       "36      Active  \n",
       "37      Active  \n",
       "38      Active  \n",
       "40    Resigned  \n",
       "43  Terminated  \n",
       "46      Active  \n",
       "49      Active  "
      ]
     },
     "execution_count": 8,
     "metadata": {},
     "output_type": "execute_result"
    }
   ],
   "source": [
    "high_salary = df[df['Salary'] > 50000]\n",
    "print(f\"Number of employees with salary > 50,000: {len(high_salary)}\")\n",
    "high_salary"
   ]
  },
  {
   "cell_type": "markdown",
   "id": "d094a3c1",
   "metadata": {},
   "source": [
    "7. Filter rows where `City` is 'Chennai' and `Department` is 'Sales'."
   ]
  },
  {
   "cell_type": "code",
   "execution_count": 9,
   "id": "2898ee37",
   "metadata": {},
   "outputs": [
    {
     "name": "stdout",
     "output_type": "stream",
     "text": [
      "Number of employees in Chennai Sales: 1\n"
     ]
    },
    {
     "data": {
      "application/vnd.microsoft.datawrangler.viewer.v0+json": {
       "columns": [
        {
         "name": "index",
         "rawType": "int64",
         "type": "integer"
        },
        {
         "name": "Name",
         "rawType": "object",
         "type": "string"
        },
        {
         "name": "Age",
         "rawType": "float64",
         "type": "float"
        },
        {
         "name": "Gender",
         "rawType": "object",
         "type": "string"
        },
        {
         "name": "City",
         "rawType": "object",
         "type": "string"
        },
        {
         "name": "Department",
         "rawType": "object",
         "type": "string"
        },
        {
         "name": "Salary",
         "rawType": "float64",
         "type": "float"
        },
        {
         "name": "JoinDate",
         "rawType": "object",
         "type": "string"
        },
        {
         "name": "Status",
         "rawType": "object",
         "type": "string"
        }
       ],
       "ref": "645a856a-7b09-4dfe-9e0a-8c43d0904077",
       "rows": [
        [
         "24",
         "Employee_25",
         "36.0",
         "Female",
         "Chennai",
         "Sales",
         "75859.0",
         "2021-01-08",
         "Active"
        ]
       ],
       "shape": {
        "columns": 8,
        "rows": 1
       }
      },
      "text/html": [
       "<div>\n",
       "<style scoped>\n",
       "    .dataframe tbody tr th:only-of-type {\n",
       "        vertical-align: middle;\n",
       "    }\n",
       "\n",
       "    .dataframe tbody tr th {\n",
       "        vertical-align: top;\n",
       "    }\n",
       "\n",
       "    .dataframe thead th {\n",
       "        text-align: right;\n",
       "    }\n",
       "</style>\n",
       "<table border=\"1\" class=\"dataframe\">\n",
       "  <thead>\n",
       "    <tr style=\"text-align: right;\">\n",
       "      <th></th>\n",
       "      <th>Name</th>\n",
       "      <th>Age</th>\n",
       "      <th>Gender</th>\n",
       "      <th>City</th>\n",
       "      <th>Department</th>\n",
       "      <th>Salary</th>\n",
       "      <th>JoinDate</th>\n",
       "      <th>Status</th>\n",
       "    </tr>\n",
       "  </thead>\n",
       "  <tbody>\n",
       "    <tr>\n",
       "      <th>24</th>\n",
       "      <td>Employee_25</td>\n",
       "      <td>36.0</td>\n",
       "      <td>Female</td>\n",
       "      <td>Chennai</td>\n",
       "      <td>Sales</td>\n",
       "      <td>75859.0</td>\n",
       "      <td>2021-01-08</td>\n",
       "      <td>Active</td>\n",
       "    </tr>\n",
       "  </tbody>\n",
       "</table>\n",
       "</div>"
      ],
      "text/plain": [
       "           Name   Age  Gender     City Department   Salary    JoinDate  Status\n",
       "24  Employee_25  36.0  Female  Chennai      Sales  75859.0  2021-01-08  Active"
      ]
     },
     "execution_count": 9,
     "metadata": {},
     "output_type": "execute_result"
    }
   ],
   "source": [
    "chennai_sales = df[(df['City'] == 'Chennai') & (df['Department'] == 'Sales')]\n",
    "print(f\"Number of employees in Chennai Sales: {len(chennai_sales)}\")\n",
    "chennai_sales"
   ]
  },
  {
   "cell_type": "markdown",
   "id": "c2444b69",
   "metadata": {},
   "source": [
    "8. Display employees aged between 25 and 35."
   ]
  },
  {
   "cell_type": "code",
   "execution_count": 10,
   "id": "cc378b20",
   "metadata": {},
   "outputs": [
    {
     "name": "stdout",
     "output_type": "stream",
     "text": [
      "Number of employees aged 25-35: 14\n"
     ]
    },
    {
     "data": {
      "application/vnd.microsoft.datawrangler.viewer.v0+json": {
       "columns": [
        {
         "name": "index",
         "rawType": "int64",
         "type": "integer"
        },
        {
         "name": "Name",
         "rawType": "object",
         "type": "string"
        },
        {
         "name": "Age",
         "rawType": "float64",
         "type": "float"
        },
        {
         "name": "Gender",
         "rawType": "object",
         "type": "string"
        },
        {
         "name": "City",
         "rawType": "object",
         "type": "string"
        },
        {
         "name": "Department",
         "rawType": "object",
         "type": "unknown"
        },
        {
         "name": "Salary",
         "rawType": "float64",
         "type": "float"
        },
        {
         "name": "JoinDate",
         "rawType": "object",
         "type": "string"
        },
        {
         "name": "Status",
         "rawType": "object",
         "type": "string"
        }
       ],
       "ref": "1792ec96-80d3-432e-a945-97a41be395c2",
       "rows": [
        [
         "2",
         "Employee_3",
         "29.0",
         "Female",
         "Chennai",
         null,
         "30530.0",
         "2020-05-23",
         "Active"
        ],
        [
         "7",
         "Employee_8",
         "32.0",
         "Female",
         "Bangalore",
         "IT",
         "86087.0",
         "2019-11-23",
         "Terminated"
        ],
        [
         "18",
         "Employee_19",
         "33.0",
         "Male",
         "Bangalore",
         "Sales",
         null,
         "2020-08-18",
         "Resigned"
        ],
        [
         "26",
         "Employee_27",
         "28.0",
         "Male",
         "Mumbai",
         "Finance",
         "88734.0",
         "2019-08-24",
         "Terminated"
        ],
        [
         "28",
         "Employee_29",
         "30.0",
         "Male",
         "Chennai",
         "Finance",
         "37688.0",
         "2016-08-09",
         "Active"
        ],
        [
         "30",
         "Employee_31",
         "25.0",
         "Male",
         "Mumbai",
         null,
         "62157.0",
         "2018-12-14",
         "Resigned"
        ],
        [
         "32",
         "Employee_33",
         "35.0",
         "Male",
         "Delhi",
         "IT",
         "77083.0",
         "2015-04-14",
         "Resigned"
        ],
        [
         "33",
         "Employee_34",
         "30.0",
         "Male",
         "Mumbai",
         "Finance",
         "90733.0",
         "2015-09-11",
         "Active"
        ],
        [
         "38",
         "Employee_39",
         "28.0",
         "Female",
         "Delhi",
         "IT",
         "76663.0",
         "2020-02-28",
         "Active"
        ],
        [
         "39",
         "Employee_40",
         "29.0",
         "Male",
         "Mumbai",
         null,
         "40708.0",
         "2020-04-03",
         "Active"
        ],
        [
         "40",
         "Employee_41",
         "35.0",
         "Male",
         "Mumbai",
         "HR",
         "74811.0",
         "2017-05-27",
         "Resigned"
        ],
        [
         "42",
         "Employee_43",
         "25.0",
         "Male",
         "Chennai",
         "HR",
         null,
         "2022-11-09",
         "Terminated"
        ],
        [
         "45",
         "Employee_46",
         "25.0",
         "Male",
         "Bangalore",
         "HR",
         "27911.0",
         "2015-06-10",
         "Terminated"
        ],
        [
         "49",
         "Employee_50",
         "31.0",
         "Female",
         "Chennai",
         "IT",
         "62504.0",
         "2018-07-24",
         "Active"
        ]
       ],
       "shape": {
        "columns": 8,
        "rows": 14
       }
      },
      "text/html": [
       "<div>\n",
       "<style scoped>\n",
       "    .dataframe tbody tr th:only-of-type {\n",
       "        vertical-align: middle;\n",
       "    }\n",
       "\n",
       "    .dataframe tbody tr th {\n",
       "        vertical-align: top;\n",
       "    }\n",
       "\n",
       "    .dataframe thead th {\n",
       "        text-align: right;\n",
       "    }\n",
       "</style>\n",
       "<table border=\"1\" class=\"dataframe\">\n",
       "  <thead>\n",
       "    <tr style=\"text-align: right;\">\n",
       "      <th></th>\n",
       "      <th>Name</th>\n",
       "      <th>Age</th>\n",
       "      <th>Gender</th>\n",
       "      <th>City</th>\n",
       "      <th>Department</th>\n",
       "      <th>Salary</th>\n",
       "      <th>JoinDate</th>\n",
       "      <th>Status</th>\n",
       "    </tr>\n",
       "  </thead>\n",
       "  <tbody>\n",
       "    <tr>\n",
       "      <th>2</th>\n",
       "      <td>Employee_3</td>\n",
       "      <td>29.0</td>\n",
       "      <td>Female</td>\n",
       "      <td>Chennai</td>\n",
       "      <td>NaN</td>\n",
       "      <td>30530.0</td>\n",
       "      <td>2020-05-23</td>\n",
       "      <td>Active</td>\n",
       "    </tr>\n",
       "    <tr>\n",
       "      <th>7</th>\n",
       "      <td>Employee_8</td>\n",
       "      <td>32.0</td>\n",
       "      <td>Female</td>\n",
       "      <td>Bangalore</td>\n",
       "      <td>IT</td>\n",
       "      <td>86087.0</td>\n",
       "      <td>2019-11-23</td>\n",
       "      <td>Terminated</td>\n",
       "    </tr>\n",
       "    <tr>\n",
       "      <th>18</th>\n",
       "      <td>Employee_19</td>\n",
       "      <td>33.0</td>\n",
       "      <td>Male</td>\n",
       "      <td>Bangalore</td>\n",
       "      <td>Sales</td>\n",
       "      <td>NaN</td>\n",
       "      <td>2020-08-18</td>\n",
       "      <td>Resigned</td>\n",
       "    </tr>\n",
       "    <tr>\n",
       "      <th>26</th>\n",
       "      <td>Employee_27</td>\n",
       "      <td>28.0</td>\n",
       "      <td>Male</td>\n",
       "      <td>Mumbai</td>\n",
       "      <td>Finance</td>\n",
       "      <td>88734.0</td>\n",
       "      <td>2019-08-24</td>\n",
       "      <td>Terminated</td>\n",
       "    </tr>\n",
       "    <tr>\n",
       "      <th>28</th>\n",
       "      <td>Employee_29</td>\n",
       "      <td>30.0</td>\n",
       "      <td>Male</td>\n",
       "      <td>Chennai</td>\n",
       "      <td>Finance</td>\n",
       "      <td>37688.0</td>\n",
       "      <td>2016-08-09</td>\n",
       "      <td>Active</td>\n",
       "    </tr>\n",
       "    <tr>\n",
       "      <th>30</th>\n",
       "      <td>Employee_31</td>\n",
       "      <td>25.0</td>\n",
       "      <td>Male</td>\n",
       "      <td>Mumbai</td>\n",
       "      <td>NaN</td>\n",
       "      <td>62157.0</td>\n",
       "      <td>2018-12-14</td>\n",
       "      <td>Resigned</td>\n",
       "    </tr>\n",
       "    <tr>\n",
       "      <th>32</th>\n",
       "      <td>Employee_33</td>\n",
       "      <td>35.0</td>\n",
       "      <td>Male</td>\n",
       "      <td>Delhi</td>\n",
       "      <td>IT</td>\n",
       "      <td>77083.0</td>\n",
       "      <td>2015-04-14</td>\n",
       "      <td>Resigned</td>\n",
       "    </tr>\n",
       "    <tr>\n",
       "      <th>33</th>\n",
       "      <td>Employee_34</td>\n",
       "      <td>30.0</td>\n",
       "      <td>Male</td>\n",
       "      <td>Mumbai</td>\n",
       "      <td>Finance</td>\n",
       "      <td>90733.0</td>\n",
       "      <td>2015-09-11</td>\n",
       "      <td>Active</td>\n",
       "    </tr>\n",
       "    <tr>\n",
       "      <th>38</th>\n",
       "      <td>Employee_39</td>\n",
       "      <td>28.0</td>\n",
       "      <td>Female</td>\n",
       "      <td>Delhi</td>\n",
       "      <td>IT</td>\n",
       "      <td>76663.0</td>\n",
       "      <td>2020-02-28</td>\n",
       "      <td>Active</td>\n",
       "    </tr>\n",
       "    <tr>\n",
       "      <th>39</th>\n",
       "      <td>Employee_40</td>\n",
       "      <td>29.0</td>\n",
       "      <td>Male</td>\n",
       "      <td>Mumbai</td>\n",
       "      <td>NaN</td>\n",
       "      <td>40708.0</td>\n",
       "      <td>2020-04-03</td>\n",
       "      <td>Active</td>\n",
       "    </tr>\n",
       "    <tr>\n",
       "      <th>40</th>\n",
       "      <td>Employee_41</td>\n",
       "      <td>35.0</td>\n",
       "      <td>Male</td>\n",
       "      <td>Mumbai</td>\n",
       "      <td>HR</td>\n",
       "      <td>74811.0</td>\n",
       "      <td>2017-05-27</td>\n",
       "      <td>Resigned</td>\n",
       "    </tr>\n",
       "    <tr>\n",
       "      <th>42</th>\n",
       "      <td>Employee_43</td>\n",
       "      <td>25.0</td>\n",
       "      <td>Male</td>\n",
       "      <td>Chennai</td>\n",
       "      <td>HR</td>\n",
       "      <td>NaN</td>\n",
       "      <td>2022-11-09</td>\n",
       "      <td>Terminated</td>\n",
       "    </tr>\n",
       "    <tr>\n",
       "      <th>45</th>\n",
       "      <td>Employee_46</td>\n",
       "      <td>25.0</td>\n",
       "      <td>Male</td>\n",
       "      <td>Bangalore</td>\n",
       "      <td>HR</td>\n",
       "      <td>27911.0</td>\n",
       "      <td>2015-06-10</td>\n",
       "      <td>Terminated</td>\n",
       "    </tr>\n",
       "    <tr>\n",
       "      <th>49</th>\n",
       "      <td>Employee_50</td>\n",
       "      <td>31.0</td>\n",
       "      <td>Female</td>\n",
       "      <td>Chennai</td>\n",
       "      <td>IT</td>\n",
       "      <td>62504.0</td>\n",
       "      <td>2018-07-24</td>\n",
       "      <td>Active</td>\n",
       "    </tr>\n",
       "  </tbody>\n",
       "</table>\n",
       "</div>"
      ],
      "text/plain": [
       "           Name   Age  Gender       City Department   Salary    JoinDate  \\\n",
       "2    Employee_3  29.0  Female    Chennai        NaN  30530.0  2020-05-23   \n",
       "7    Employee_8  32.0  Female  Bangalore         IT  86087.0  2019-11-23   \n",
       "18  Employee_19  33.0    Male  Bangalore      Sales      NaN  2020-08-18   \n",
       "26  Employee_27  28.0    Male     Mumbai    Finance  88734.0  2019-08-24   \n",
       "28  Employee_29  30.0    Male    Chennai    Finance  37688.0  2016-08-09   \n",
       "30  Employee_31  25.0    Male     Mumbai        NaN  62157.0  2018-12-14   \n",
       "32  Employee_33  35.0    Male      Delhi         IT  77083.0  2015-04-14   \n",
       "33  Employee_34  30.0    Male     Mumbai    Finance  90733.0  2015-09-11   \n",
       "38  Employee_39  28.0  Female      Delhi         IT  76663.0  2020-02-28   \n",
       "39  Employee_40  29.0    Male     Mumbai        NaN  40708.0  2020-04-03   \n",
       "40  Employee_41  35.0    Male     Mumbai         HR  74811.0  2017-05-27   \n",
       "42  Employee_43  25.0    Male    Chennai         HR      NaN  2022-11-09   \n",
       "45  Employee_46  25.0    Male  Bangalore         HR  27911.0  2015-06-10   \n",
       "49  Employee_50  31.0  Female    Chennai         IT  62504.0  2018-07-24   \n",
       "\n",
       "        Status  \n",
       "2       Active  \n",
       "7   Terminated  \n",
       "18    Resigned  \n",
       "26  Terminated  \n",
       "28      Active  \n",
       "30    Resigned  \n",
       "32    Resigned  \n",
       "33      Active  \n",
       "38      Active  \n",
       "39      Active  \n",
       "40    Resigned  \n",
       "42  Terminated  \n",
       "45  Terminated  \n",
       "49      Active  "
      ]
     },
     "execution_count": 10,
     "metadata": {},
     "output_type": "execute_result"
    }
   ],
   "source": [
    "age_25_35 = df[(df['Age'] >= 25) & (df['Age'] <= 35)]\n",
    "print(f\"Number of employees aged 25-35: {len(age_25_35)}\")\n",
    "age_25_35"
   ]
  },
  {
   "cell_type": "markdown",
   "id": "b4a80465",
   "metadata": {},
   "source": [
    "9. List employees who joined after the year 2020."
   ]
  },
  {
   "cell_type": "code",
   "execution_count": 11,
   "id": "9659cb4f",
   "metadata": {},
   "outputs": [
    {
     "name": "stdout",
     "output_type": "stream",
     "text": [
      "Number of employees who joined after 2020: 11\n"
     ]
    },
    {
     "data": {
      "application/vnd.microsoft.datawrangler.viewer.v0+json": {
       "columns": [
        {
         "name": "index",
         "rawType": "int64",
         "type": "integer"
        },
        {
         "name": "Name",
         "rawType": "object",
         "type": "string"
        },
        {
         "name": "Age",
         "rawType": "float64",
         "type": "float"
        },
        {
         "name": "Gender",
         "rawType": "object",
         "type": "string"
        },
        {
         "name": "City",
         "rawType": "object",
         "type": "string"
        },
        {
         "name": "Department",
         "rawType": "object",
         "type": "string"
        },
        {
         "name": "Salary",
         "rawType": "float64",
         "type": "float"
        },
        {
         "name": "JoinDate",
         "rawType": "datetime64[ns]",
         "type": "datetime"
        },
        {
         "name": "Status",
         "rawType": "object",
         "type": "string"
        }
       ],
       "ref": "3cc7987d-5709-4af2-ace8-4f96b111b853",
       "rows": [
        [
         "1",
         "Employee_2",
         "36.0",
         "Female",
         "Mumbai",
         "Finance",
         "46959.0",
         "2021-11-25 00:00:00",
         "Terminated"
        ],
        [
         "3",
         "Employee_4",
         "42.0",
         "Male",
         "Bangalore",
         "HR",
         "28748.0",
         "2021-01-07 00:00:00",
         "Active"
        ],
        [
         "9",
         "Employee_10",
         "45.0",
         "Female",
         "Chennai",
         "HR",
         "79384.0",
         "2021-07-21 00:00:00",
         "Resigned"
        ],
        [
         "15",
         "Employee_16",
         "23.0",
         "Male",
         "Chennai",
         "IT",
         "90318.0",
         "2021-04-20 00:00:00",
         "Resigned"
        ],
        [
         "20",
         "Employee_21",
         "46.0",
         "Female",
         "Delhi",
         "HR",
         null,
         "2022-11-03 00:00:00",
         "Resigned"
        ],
        [
         "21",
         "Employee_22",
         "48.0",
         "Male",
         "Delhi",
         "Sales",
         "32392.0",
         "2021-03-05 00:00:00",
         "Active"
        ],
        [
         "24",
         "Employee_25",
         "36.0",
         "Female",
         "Chennai",
         "Sales",
         "75859.0",
         "2021-01-08 00:00:00",
         "Active"
        ],
        [
         "34",
         "Employee_35",
         "47.0",
         "Female",
         "Delhi",
         "Sales",
         "59698.0",
         "2022-01-01 00:00:00",
         "Resigned"
        ],
        [
         "37",
         "Employee_38",
         "49.0",
         "Female",
         "Delhi",
         "HR",
         "67107.0",
         "2021-01-09 00:00:00",
         "Active"
        ],
        [
         "42",
         "Employee_43",
         "25.0",
         "Male",
         "Chennai",
         "HR",
         null,
         "2022-11-09 00:00:00",
         "Terminated"
        ],
        [
         "47",
         "Employee_48",
         "39.0",
         "Male",
         "Chennai",
         "HR",
         "33680.0",
         "2022-10-19 00:00:00",
         "Active"
        ]
       ],
       "shape": {
        "columns": 8,
        "rows": 11
       }
      },
      "text/html": [
       "<div>\n",
       "<style scoped>\n",
       "    .dataframe tbody tr th:only-of-type {\n",
       "        vertical-align: middle;\n",
       "    }\n",
       "\n",
       "    .dataframe tbody tr th {\n",
       "        vertical-align: top;\n",
       "    }\n",
       "\n",
       "    .dataframe thead th {\n",
       "        text-align: right;\n",
       "    }\n",
       "</style>\n",
       "<table border=\"1\" class=\"dataframe\">\n",
       "  <thead>\n",
       "    <tr style=\"text-align: right;\">\n",
       "      <th></th>\n",
       "      <th>Name</th>\n",
       "      <th>Age</th>\n",
       "      <th>Gender</th>\n",
       "      <th>City</th>\n",
       "      <th>Department</th>\n",
       "      <th>Salary</th>\n",
       "      <th>JoinDate</th>\n",
       "      <th>Status</th>\n",
       "    </tr>\n",
       "  </thead>\n",
       "  <tbody>\n",
       "    <tr>\n",
       "      <th>1</th>\n",
       "      <td>Employee_2</td>\n",
       "      <td>36.0</td>\n",
       "      <td>Female</td>\n",
       "      <td>Mumbai</td>\n",
       "      <td>Finance</td>\n",
       "      <td>46959.0</td>\n",
       "      <td>2021-11-25</td>\n",
       "      <td>Terminated</td>\n",
       "    </tr>\n",
       "    <tr>\n",
       "      <th>3</th>\n",
       "      <td>Employee_4</td>\n",
       "      <td>42.0</td>\n",
       "      <td>Male</td>\n",
       "      <td>Bangalore</td>\n",
       "      <td>HR</td>\n",
       "      <td>28748.0</td>\n",
       "      <td>2021-01-07</td>\n",
       "      <td>Active</td>\n",
       "    </tr>\n",
       "    <tr>\n",
       "      <th>9</th>\n",
       "      <td>Employee_10</td>\n",
       "      <td>45.0</td>\n",
       "      <td>Female</td>\n",
       "      <td>Chennai</td>\n",
       "      <td>HR</td>\n",
       "      <td>79384.0</td>\n",
       "      <td>2021-07-21</td>\n",
       "      <td>Resigned</td>\n",
       "    </tr>\n",
       "    <tr>\n",
       "      <th>15</th>\n",
       "      <td>Employee_16</td>\n",
       "      <td>23.0</td>\n",
       "      <td>Male</td>\n",
       "      <td>Chennai</td>\n",
       "      <td>IT</td>\n",
       "      <td>90318.0</td>\n",
       "      <td>2021-04-20</td>\n",
       "      <td>Resigned</td>\n",
       "    </tr>\n",
       "    <tr>\n",
       "      <th>20</th>\n",
       "      <td>Employee_21</td>\n",
       "      <td>46.0</td>\n",
       "      <td>Female</td>\n",
       "      <td>Delhi</td>\n",
       "      <td>HR</td>\n",
       "      <td>NaN</td>\n",
       "      <td>2022-11-03</td>\n",
       "      <td>Resigned</td>\n",
       "    </tr>\n",
       "    <tr>\n",
       "      <th>21</th>\n",
       "      <td>Employee_22</td>\n",
       "      <td>48.0</td>\n",
       "      <td>Male</td>\n",
       "      <td>Delhi</td>\n",
       "      <td>Sales</td>\n",
       "      <td>32392.0</td>\n",
       "      <td>2021-03-05</td>\n",
       "      <td>Active</td>\n",
       "    </tr>\n",
       "    <tr>\n",
       "      <th>24</th>\n",
       "      <td>Employee_25</td>\n",
       "      <td>36.0</td>\n",
       "      <td>Female</td>\n",
       "      <td>Chennai</td>\n",
       "      <td>Sales</td>\n",
       "      <td>75859.0</td>\n",
       "      <td>2021-01-08</td>\n",
       "      <td>Active</td>\n",
       "    </tr>\n",
       "    <tr>\n",
       "      <th>34</th>\n",
       "      <td>Employee_35</td>\n",
       "      <td>47.0</td>\n",
       "      <td>Female</td>\n",
       "      <td>Delhi</td>\n",
       "      <td>Sales</td>\n",
       "      <td>59698.0</td>\n",
       "      <td>2022-01-01</td>\n",
       "      <td>Resigned</td>\n",
       "    </tr>\n",
       "    <tr>\n",
       "      <th>37</th>\n",
       "      <td>Employee_38</td>\n",
       "      <td>49.0</td>\n",
       "      <td>Female</td>\n",
       "      <td>Delhi</td>\n",
       "      <td>HR</td>\n",
       "      <td>67107.0</td>\n",
       "      <td>2021-01-09</td>\n",
       "      <td>Active</td>\n",
       "    </tr>\n",
       "    <tr>\n",
       "      <th>42</th>\n",
       "      <td>Employee_43</td>\n",
       "      <td>25.0</td>\n",
       "      <td>Male</td>\n",
       "      <td>Chennai</td>\n",
       "      <td>HR</td>\n",
       "      <td>NaN</td>\n",
       "      <td>2022-11-09</td>\n",
       "      <td>Terminated</td>\n",
       "    </tr>\n",
       "    <tr>\n",
       "      <th>47</th>\n",
       "      <td>Employee_48</td>\n",
       "      <td>39.0</td>\n",
       "      <td>Male</td>\n",
       "      <td>Chennai</td>\n",
       "      <td>HR</td>\n",
       "      <td>33680.0</td>\n",
       "      <td>2022-10-19</td>\n",
       "      <td>Active</td>\n",
       "    </tr>\n",
       "  </tbody>\n",
       "</table>\n",
       "</div>"
      ],
      "text/plain": [
       "           Name   Age  Gender       City Department   Salary   JoinDate  \\\n",
       "1    Employee_2  36.0  Female     Mumbai    Finance  46959.0 2021-11-25   \n",
       "3    Employee_4  42.0    Male  Bangalore         HR  28748.0 2021-01-07   \n",
       "9   Employee_10  45.0  Female    Chennai         HR  79384.0 2021-07-21   \n",
       "15  Employee_16  23.0    Male    Chennai         IT  90318.0 2021-04-20   \n",
       "20  Employee_21  46.0  Female      Delhi         HR      NaN 2022-11-03   \n",
       "21  Employee_22  48.0    Male      Delhi      Sales  32392.0 2021-03-05   \n",
       "24  Employee_25  36.0  Female    Chennai      Sales  75859.0 2021-01-08   \n",
       "34  Employee_35  47.0  Female      Delhi      Sales  59698.0 2022-01-01   \n",
       "37  Employee_38  49.0  Female      Delhi         HR  67107.0 2021-01-09   \n",
       "42  Employee_43  25.0    Male    Chennai         HR      NaN 2022-11-09   \n",
       "47  Employee_48  39.0    Male    Chennai         HR  33680.0 2022-10-19   \n",
       "\n",
       "        Status  \n",
       "1   Terminated  \n",
       "3       Active  \n",
       "9     Resigned  \n",
       "15    Resigned  \n",
       "20    Resigned  \n",
       "21      Active  \n",
       "24      Active  \n",
       "34    Resigned  \n",
       "37      Active  \n",
       "42  Terminated  \n",
       "47      Active  "
      ]
     },
     "execution_count": 11,
     "metadata": {},
     "output_type": "execute_result"
    }
   ],
   "source": [
    "df['JoinDate'] = pd.to_datetime(df['JoinDate'])\n",
    "joined_after_2020 = df[df['JoinDate'].dt.year > 2020]\n",
    "print(f\"Number of employees who joined after 2020: {len(joined_after_2020)}\")\n",
    "joined_after_2020"
   ]
  },
  {
   "cell_type": "markdown",
   "id": "b864dd53",
   "metadata": {},
   "source": [
    "10. Show records where `Status` is not 'Active'."
   ]
  },
  {
   "cell_type": "code",
   "execution_count": 12,
   "id": "ac6c0e6f",
   "metadata": {},
   "outputs": [
    {
     "name": "stdout",
     "output_type": "stream",
     "text": [
      "Number of employees who are not active: 29\n"
     ]
    },
    {
     "data": {
      "application/vnd.microsoft.datawrangler.viewer.v0+json": {
       "columns": [
        {
         "name": "index",
         "rawType": "int64",
         "type": "integer"
        },
        {
         "name": "Name",
         "rawType": "object",
         "type": "string"
        },
        {
         "name": "Age",
         "rawType": "float64",
         "type": "float"
        },
        {
         "name": "Gender",
         "rawType": "object",
         "type": "string"
        },
        {
         "name": "City",
         "rawType": "object",
         "type": "string"
        },
        {
         "name": "Department",
         "rawType": "object",
         "type": "unknown"
        },
        {
         "name": "Salary",
         "rawType": "float64",
         "type": "float"
        },
        {
         "name": "JoinDate",
         "rawType": "datetime64[ns]",
         "type": "datetime"
        },
        {
         "name": "Status",
         "rawType": "object",
         "type": "string"
        }
       ],
       "ref": "40831c08-9441-440e-9987-ebd7496af9a9",
       "rows": [
        [
         "0",
         "Employee_1",
         "50.0",
         "Female",
         "Delhi",
         "Finance",
         "83053.0",
         "2019-12-08 00:00:00",
         "Terminated"
        ],
        [
         "1",
         "Employee_2",
         "36.0",
         "Female",
         "Mumbai",
         "Finance",
         "46959.0",
         "2021-11-25 00:00:00",
         "Terminated"
        ],
        [
         "4",
         "Employee_5",
         "40.0",
         "Female",
         "Delhi",
         "IT",
         null,
         "2018-12-09 00:00:00",
         "Terminated"
        ],
        [
         "5",
         "Employee_6",
         "44.0",
         "Male",
         "Chennai",
         "IT",
         "91199.0",
         "2019-06-23 00:00:00",
         "Terminated"
        ],
        [
         "6",
         "Employee_7",
         null,
         "Female",
         "Bangalore",
         "HR",
         "59766.0",
         "2015-09-20 00:00:00",
         "Resigned"
        ],
        [
         "7",
         "Employee_8",
         "32.0",
         "Female",
         "Bangalore",
         "IT",
         "86087.0",
         "2019-11-23 00:00:00",
         "Terminated"
        ],
        [
         "8",
         "Employee_9",
         "45.0",
         "Male",
         "Mumbai",
         "IT",
         "93840.0",
         "2020-12-31 00:00:00",
         "Resigned"
        ],
        [
         "9",
         "Employee_10",
         "45.0",
         "Female",
         "Chennai",
         "HR",
         "79384.0",
         "2021-07-21 00:00:00",
         "Resigned"
        ],
        [
         "10",
         "Employee_11",
         "24.0",
         "Male",
         "Bangalore",
         "Finance",
         "76005.0",
         "2016-09-15 00:00:00",
         "Resigned"
        ],
        [
         "11",
         "Employee_12",
         "43.0",
         "Female",
         "Delhi",
         "HR",
         "71576.0",
         "2017-10-13 00:00:00",
         "Resigned"
        ],
        [
         "12",
         "Employee_13",
         "23.0",
         "Female",
         "Delhi",
         "Finance",
         "64353.0",
         "2017-05-30 00:00:00",
         "Resigned"
        ],
        [
         "14",
         "Employee_15",
         "51.0",
         "Female",
         "Bangalore",
         "IT",
         "77733.0",
         "2018-08-20 00:00:00",
         "Terminated"
        ],
        [
         "15",
         "Employee_16",
         "23.0",
         "Male",
         "Chennai",
         "IT",
         "90318.0",
         "2021-04-20 00:00:00",
         "Resigned"
        ],
        [
         "16",
         "Employee_17",
         "42.0",
         "Female",
         "Delhi",
         "Sales",
         "48664.0",
         "2016-03-28 00:00:00",
         "Terminated"
        ],
        [
         "17",
         "Employee_18",
         "54.0",
         "Male",
         "Bangalore",
         "Finance",
         "92172.0",
         "2018-03-29 00:00:00",
         "Terminated"
        ],
        [
         "18",
         "Employee_19",
         "33.0",
         "Male",
         "Bangalore",
         "Sales",
         null,
         "2020-08-18 00:00:00",
         "Resigned"
        ],
        [
         "20",
         "Employee_21",
         "46.0",
         "Female",
         "Delhi",
         "HR",
         null,
         "2022-11-03 00:00:00",
         "Resigned"
        ],
        [
         "22",
         "Employee_23",
         "49.0",
         "Female",
         "Chennai",
         "HR",
         "80680.0",
         "2018-02-28 00:00:00",
         "Terminated"
        ],
        [
         "26",
         "Employee_27",
         "28.0",
         "Male",
         "Mumbai",
         "Finance",
         "88734.0",
         "2019-08-24 00:00:00",
         "Terminated"
        ],
        [
         "27",
         "Employee_28",
         "42.0",
         "Male",
         "Delhi",
         "Finance",
         null,
         "2016-09-19 00:00:00",
         "Terminated"
        ],
        [
         "30",
         "Employee_31",
         "25.0",
         "Male",
         "Mumbai",
         null,
         "62157.0",
         "2018-12-14 00:00:00",
         "Resigned"
        ],
        [
         "32",
         "Employee_33",
         "35.0",
         "Male",
         "Delhi",
         "IT",
         "77083.0",
         "2015-04-14 00:00:00",
         "Resigned"
        ],
        [
         "34",
         "Employee_35",
         "47.0",
         "Female",
         "Delhi",
         "Sales",
         "59698.0",
         "2022-01-01 00:00:00",
         "Resigned"
        ],
        [
         "35",
         "Employee_36",
         null,
         "Male",
         "Delhi",
         null,
         "47671.0",
         "2019-02-05 00:00:00",
         "Terminated"
        ],
        [
         "40",
         "Employee_41",
         "35.0",
         "Male",
         "Mumbai",
         "HR",
         "74811.0",
         "2017-05-27 00:00:00",
         "Resigned"
        ],
        [
         "42",
         "Employee_43",
         "25.0",
         "Male",
         "Chennai",
         "HR",
         null,
         "2022-11-09 00:00:00",
         "Terminated"
        ],
        [
         "43",
         "Employee_44",
         "23.0",
         "Female",
         "Delhi",
         "IT",
         "59754.0",
         "2017-08-14 00:00:00",
         "Terminated"
        ],
        [
         "45",
         "Employee_46",
         "25.0",
         "Male",
         "Bangalore",
         "HR",
         "27911.0",
         "2015-06-10 00:00:00",
         "Terminated"
        ],
        [
         "48",
         "Employee_49",
         "47.0",
         "Male",
         "Bangalore",
         "HR",
         "36111.0",
         "2016-02-02 00:00:00",
         "Terminated"
        ]
       ],
       "shape": {
        "columns": 8,
        "rows": 29
       }
      },
      "text/html": [
       "<div>\n",
       "<style scoped>\n",
       "    .dataframe tbody tr th:only-of-type {\n",
       "        vertical-align: middle;\n",
       "    }\n",
       "\n",
       "    .dataframe tbody tr th {\n",
       "        vertical-align: top;\n",
       "    }\n",
       "\n",
       "    .dataframe thead th {\n",
       "        text-align: right;\n",
       "    }\n",
       "</style>\n",
       "<table border=\"1\" class=\"dataframe\">\n",
       "  <thead>\n",
       "    <tr style=\"text-align: right;\">\n",
       "      <th></th>\n",
       "      <th>Name</th>\n",
       "      <th>Age</th>\n",
       "      <th>Gender</th>\n",
       "      <th>City</th>\n",
       "      <th>Department</th>\n",
       "      <th>Salary</th>\n",
       "      <th>JoinDate</th>\n",
       "      <th>Status</th>\n",
       "    </tr>\n",
       "  </thead>\n",
       "  <tbody>\n",
       "    <tr>\n",
       "      <th>0</th>\n",
       "      <td>Employee_1</td>\n",
       "      <td>50.0</td>\n",
       "      <td>Female</td>\n",
       "      <td>Delhi</td>\n",
       "      <td>Finance</td>\n",
       "      <td>83053.0</td>\n",
       "      <td>2019-12-08</td>\n",
       "      <td>Terminated</td>\n",
       "    </tr>\n",
       "    <tr>\n",
       "      <th>1</th>\n",
       "      <td>Employee_2</td>\n",
       "      <td>36.0</td>\n",
       "      <td>Female</td>\n",
       "      <td>Mumbai</td>\n",
       "      <td>Finance</td>\n",
       "      <td>46959.0</td>\n",
       "      <td>2021-11-25</td>\n",
       "      <td>Terminated</td>\n",
       "    </tr>\n",
       "    <tr>\n",
       "      <th>4</th>\n",
       "      <td>Employee_5</td>\n",
       "      <td>40.0</td>\n",
       "      <td>Female</td>\n",
       "      <td>Delhi</td>\n",
       "      <td>IT</td>\n",
       "      <td>NaN</td>\n",
       "      <td>2018-12-09</td>\n",
       "      <td>Terminated</td>\n",
       "    </tr>\n",
       "    <tr>\n",
       "      <th>5</th>\n",
       "      <td>Employee_6</td>\n",
       "      <td>44.0</td>\n",
       "      <td>Male</td>\n",
       "      <td>Chennai</td>\n",
       "      <td>IT</td>\n",
       "      <td>91199.0</td>\n",
       "      <td>2019-06-23</td>\n",
       "      <td>Terminated</td>\n",
       "    </tr>\n",
       "    <tr>\n",
       "      <th>6</th>\n",
       "      <td>Employee_7</td>\n",
       "      <td>NaN</td>\n",
       "      <td>Female</td>\n",
       "      <td>Bangalore</td>\n",
       "      <td>HR</td>\n",
       "      <td>59766.0</td>\n",
       "      <td>2015-09-20</td>\n",
       "      <td>Resigned</td>\n",
       "    </tr>\n",
       "    <tr>\n",
       "      <th>7</th>\n",
       "      <td>Employee_8</td>\n",
       "      <td>32.0</td>\n",
       "      <td>Female</td>\n",
       "      <td>Bangalore</td>\n",
       "      <td>IT</td>\n",
       "      <td>86087.0</td>\n",
       "      <td>2019-11-23</td>\n",
       "      <td>Terminated</td>\n",
       "    </tr>\n",
       "    <tr>\n",
       "      <th>8</th>\n",
       "      <td>Employee_9</td>\n",
       "      <td>45.0</td>\n",
       "      <td>Male</td>\n",
       "      <td>Mumbai</td>\n",
       "      <td>IT</td>\n",
       "      <td>93840.0</td>\n",
       "      <td>2020-12-31</td>\n",
       "      <td>Resigned</td>\n",
       "    </tr>\n",
       "    <tr>\n",
       "      <th>9</th>\n",
       "      <td>Employee_10</td>\n",
       "      <td>45.0</td>\n",
       "      <td>Female</td>\n",
       "      <td>Chennai</td>\n",
       "      <td>HR</td>\n",
       "      <td>79384.0</td>\n",
       "      <td>2021-07-21</td>\n",
       "      <td>Resigned</td>\n",
       "    </tr>\n",
       "    <tr>\n",
       "      <th>10</th>\n",
       "      <td>Employee_11</td>\n",
       "      <td>24.0</td>\n",
       "      <td>Male</td>\n",
       "      <td>Bangalore</td>\n",
       "      <td>Finance</td>\n",
       "      <td>76005.0</td>\n",
       "      <td>2016-09-15</td>\n",
       "      <td>Resigned</td>\n",
       "    </tr>\n",
       "    <tr>\n",
       "      <th>11</th>\n",
       "      <td>Employee_12</td>\n",
       "      <td>43.0</td>\n",
       "      <td>Female</td>\n",
       "      <td>Delhi</td>\n",
       "      <td>HR</td>\n",
       "      <td>71576.0</td>\n",
       "      <td>2017-10-13</td>\n",
       "      <td>Resigned</td>\n",
       "    </tr>\n",
       "    <tr>\n",
       "      <th>12</th>\n",
       "      <td>Employee_13</td>\n",
       "      <td>23.0</td>\n",
       "      <td>Female</td>\n",
       "      <td>Delhi</td>\n",
       "      <td>Finance</td>\n",
       "      <td>64353.0</td>\n",
       "      <td>2017-05-30</td>\n",
       "      <td>Resigned</td>\n",
       "    </tr>\n",
       "    <tr>\n",
       "      <th>14</th>\n",
       "      <td>Employee_15</td>\n",
       "      <td>51.0</td>\n",
       "      <td>Female</td>\n",
       "      <td>Bangalore</td>\n",
       "      <td>IT</td>\n",
       "      <td>77733.0</td>\n",
       "      <td>2018-08-20</td>\n",
       "      <td>Terminated</td>\n",
       "    </tr>\n",
       "    <tr>\n",
       "      <th>15</th>\n",
       "      <td>Employee_16</td>\n",
       "      <td>23.0</td>\n",
       "      <td>Male</td>\n",
       "      <td>Chennai</td>\n",
       "      <td>IT</td>\n",
       "      <td>90318.0</td>\n",
       "      <td>2021-04-20</td>\n",
       "      <td>Resigned</td>\n",
       "    </tr>\n",
       "    <tr>\n",
       "      <th>16</th>\n",
       "      <td>Employee_17</td>\n",
       "      <td>42.0</td>\n",
       "      <td>Female</td>\n",
       "      <td>Delhi</td>\n",
       "      <td>Sales</td>\n",
       "      <td>48664.0</td>\n",
       "      <td>2016-03-28</td>\n",
       "      <td>Terminated</td>\n",
       "    </tr>\n",
       "    <tr>\n",
       "      <th>17</th>\n",
       "      <td>Employee_18</td>\n",
       "      <td>54.0</td>\n",
       "      <td>Male</td>\n",
       "      <td>Bangalore</td>\n",
       "      <td>Finance</td>\n",
       "      <td>92172.0</td>\n",
       "      <td>2018-03-29</td>\n",
       "      <td>Terminated</td>\n",
       "    </tr>\n",
       "    <tr>\n",
       "      <th>18</th>\n",
       "      <td>Employee_19</td>\n",
       "      <td>33.0</td>\n",
       "      <td>Male</td>\n",
       "      <td>Bangalore</td>\n",
       "      <td>Sales</td>\n",
       "      <td>NaN</td>\n",
       "      <td>2020-08-18</td>\n",
       "      <td>Resigned</td>\n",
       "    </tr>\n",
       "    <tr>\n",
       "      <th>20</th>\n",
       "      <td>Employee_21</td>\n",
       "      <td>46.0</td>\n",
       "      <td>Female</td>\n",
       "      <td>Delhi</td>\n",
       "      <td>HR</td>\n",
       "      <td>NaN</td>\n",
       "      <td>2022-11-03</td>\n",
       "      <td>Resigned</td>\n",
       "    </tr>\n",
       "    <tr>\n",
       "      <th>22</th>\n",
       "      <td>Employee_23</td>\n",
       "      <td>49.0</td>\n",
       "      <td>Female</td>\n",
       "      <td>Chennai</td>\n",
       "      <td>HR</td>\n",
       "      <td>80680.0</td>\n",
       "      <td>2018-02-28</td>\n",
       "      <td>Terminated</td>\n",
       "    </tr>\n",
       "    <tr>\n",
       "      <th>26</th>\n",
       "      <td>Employee_27</td>\n",
       "      <td>28.0</td>\n",
       "      <td>Male</td>\n",
       "      <td>Mumbai</td>\n",
       "      <td>Finance</td>\n",
       "      <td>88734.0</td>\n",
       "      <td>2019-08-24</td>\n",
       "      <td>Terminated</td>\n",
       "    </tr>\n",
       "    <tr>\n",
       "      <th>27</th>\n",
       "      <td>Employee_28</td>\n",
       "      <td>42.0</td>\n",
       "      <td>Male</td>\n",
       "      <td>Delhi</td>\n",
       "      <td>Finance</td>\n",
       "      <td>NaN</td>\n",
       "      <td>2016-09-19</td>\n",
       "      <td>Terminated</td>\n",
       "    </tr>\n",
       "    <tr>\n",
       "      <th>30</th>\n",
       "      <td>Employee_31</td>\n",
       "      <td>25.0</td>\n",
       "      <td>Male</td>\n",
       "      <td>Mumbai</td>\n",
       "      <td>NaN</td>\n",
       "      <td>62157.0</td>\n",
       "      <td>2018-12-14</td>\n",
       "      <td>Resigned</td>\n",
       "    </tr>\n",
       "    <tr>\n",
       "      <th>32</th>\n",
       "      <td>Employee_33</td>\n",
       "      <td>35.0</td>\n",
       "      <td>Male</td>\n",
       "      <td>Delhi</td>\n",
       "      <td>IT</td>\n",
       "      <td>77083.0</td>\n",
       "      <td>2015-04-14</td>\n",
       "      <td>Resigned</td>\n",
       "    </tr>\n",
       "    <tr>\n",
       "      <th>34</th>\n",
       "      <td>Employee_35</td>\n",
       "      <td>47.0</td>\n",
       "      <td>Female</td>\n",
       "      <td>Delhi</td>\n",
       "      <td>Sales</td>\n",
       "      <td>59698.0</td>\n",
       "      <td>2022-01-01</td>\n",
       "      <td>Resigned</td>\n",
       "    </tr>\n",
       "    <tr>\n",
       "      <th>35</th>\n",
       "      <td>Employee_36</td>\n",
       "      <td>NaN</td>\n",
       "      <td>Male</td>\n",
       "      <td>Delhi</td>\n",
       "      <td>NaN</td>\n",
       "      <td>47671.0</td>\n",
       "      <td>2019-02-05</td>\n",
       "      <td>Terminated</td>\n",
       "    </tr>\n",
       "    <tr>\n",
       "      <th>40</th>\n",
       "      <td>Employee_41</td>\n",
       "      <td>35.0</td>\n",
       "      <td>Male</td>\n",
       "      <td>Mumbai</td>\n",
       "      <td>HR</td>\n",
       "      <td>74811.0</td>\n",
       "      <td>2017-05-27</td>\n",
       "      <td>Resigned</td>\n",
       "    </tr>\n",
       "    <tr>\n",
       "      <th>42</th>\n",
       "      <td>Employee_43</td>\n",
       "      <td>25.0</td>\n",
       "      <td>Male</td>\n",
       "      <td>Chennai</td>\n",
       "      <td>HR</td>\n",
       "      <td>NaN</td>\n",
       "      <td>2022-11-09</td>\n",
       "      <td>Terminated</td>\n",
       "    </tr>\n",
       "    <tr>\n",
       "      <th>43</th>\n",
       "      <td>Employee_44</td>\n",
       "      <td>23.0</td>\n",
       "      <td>Female</td>\n",
       "      <td>Delhi</td>\n",
       "      <td>IT</td>\n",
       "      <td>59754.0</td>\n",
       "      <td>2017-08-14</td>\n",
       "      <td>Terminated</td>\n",
       "    </tr>\n",
       "    <tr>\n",
       "      <th>45</th>\n",
       "      <td>Employee_46</td>\n",
       "      <td>25.0</td>\n",
       "      <td>Male</td>\n",
       "      <td>Bangalore</td>\n",
       "      <td>HR</td>\n",
       "      <td>27911.0</td>\n",
       "      <td>2015-06-10</td>\n",
       "      <td>Terminated</td>\n",
       "    </tr>\n",
       "    <tr>\n",
       "      <th>48</th>\n",
       "      <td>Employee_49</td>\n",
       "      <td>47.0</td>\n",
       "      <td>Male</td>\n",
       "      <td>Bangalore</td>\n",
       "      <td>HR</td>\n",
       "      <td>36111.0</td>\n",
       "      <td>2016-02-02</td>\n",
       "      <td>Terminated</td>\n",
       "    </tr>\n",
       "  </tbody>\n",
       "</table>\n",
       "</div>"
      ],
      "text/plain": [
       "           Name   Age  Gender       City Department   Salary   JoinDate  \\\n",
       "0    Employee_1  50.0  Female      Delhi    Finance  83053.0 2019-12-08   \n",
       "1    Employee_2  36.0  Female     Mumbai    Finance  46959.0 2021-11-25   \n",
       "4    Employee_5  40.0  Female      Delhi         IT      NaN 2018-12-09   \n",
       "5    Employee_6  44.0    Male    Chennai         IT  91199.0 2019-06-23   \n",
       "6    Employee_7   NaN  Female  Bangalore         HR  59766.0 2015-09-20   \n",
       "7    Employee_8  32.0  Female  Bangalore         IT  86087.0 2019-11-23   \n",
       "8    Employee_9  45.0    Male     Mumbai         IT  93840.0 2020-12-31   \n",
       "9   Employee_10  45.0  Female    Chennai         HR  79384.0 2021-07-21   \n",
       "10  Employee_11  24.0    Male  Bangalore    Finance  76005.0 2016-09-15   \n",
       "11  Employee_12  43.0  Female      Delhi         HR  71576.0 2017-10-13   \n",
       "12  Employee_13  23.0  Female      Delhi    Finance  64353.0 2017-05-30   \n",
       "14  Employee_15  51.0  Female  Bangalore         IT  77733.0 2018-08-20   \n",
       "15  Employee_16  23.0    Male    Chennai         IT  90318.0 2021-04-20   \n",
       "16  Employee_17  42.0  Female      Delhi      Sales  48664.0 2016-03-28   \n",
       "17  Employee_18  54.0    Male  Bangalore    Finance  92172.0 2018-03-29   \n",
       "18  Employee_19  33.0    Male  Bangalore      Sales      NaN 2020-08-18   \n",
       "20  Employee_21  46.0  Female      Delhi         HR      NaN 2022-11-03   \n",
       "22  Employee_23  49.0  Female    Chennai         HR  80680.0 2018-02-28   \n",
       "26  Employee_27  28.0    Male     Mumbai    Finance  88734.0 2019-08-24   \n",
       "27  Employee_28  42.0    Male      Delhi    Finance      NaN 2016-09-19   \n",
       "30  Employee_31  25.0    Male     Mumbai        NaN  62157.0 2018-12-14   \n",
       "32  Employee_33  35.0    Male      Delhi         IT  77083.0 2015-04-14   \n",
       "34  Employee_35  47.0  Female      Delhi      Sales  59698.0 2022-01-01   \n",
       "35  Employee_36   NaN    Male      Delhi        NaN  47671.0 2019-02-05   \n",
       "40  Employee_41  35.0    Male     Mumbai         HR  74811.0 2017-05-27   \n",
       "42  Employee_43  25.0    Male    Chennai         HR      NaN 2022-11-09   \n",
       "43  Employee_44  23.0  Female      Delhi         IT  59754.0 2017-08-14   \n",
       "45  Employee_46  25.0    Male  Bangalore         HR  27911.0 2015-06-10   \n",
       "48  Employee_49  47.0    Male  Bangalore         HR  36111.0 2016-02-02   \n",
       "\n",
       "        Status  \n",
       "0   Terminated  \n",
       "1   Terminated  \n",
       "4   Terminated  \n",
       "5   Terminated  \n",
       "6     Resigned  \n",
       "7   Terminated  \n",
       "8     Resigned  \n",
       "9     Resigned  \n",
       "10    Resigned  \n",
       "11    Resigned  \n",
       "12    Resigned  \n",
       "14  Terminated  \n",
       "15    Resigned  \n",
       "16  Terminated  \n",
       "17  Terminated  \n",
       "18    Resigned  \n",
       "20    Resigned  \n",
       "22  Terminated  \n",
       "26  Terminated  \n",
       "27  Terminated  \n",
       "30    Resigned  \n",
       "32    Resigned  \n",
       "34    Resigned  \n",
       "35  Terminated  \n",
       "40    Resigned  \n",
       "42  Terminated  \n",
       "43  Terminated  \n",
       "45  Terminated  \n",
       "48  Terminated  "
      ]
     },
     "execution_count": 12,
     "metadata": {},
     "output_type": "execute_result"
    }
   ],
   "source": [
    "not_active = df[df['Status'] != 'Active']\n",
    "print(f\"Number of employees who are not active: {len(not_active)}\")\n",
    "not_active"
   ]
  },
  {
   "cell_type": "markdown",
   "id": "a1fcdd6b",
   "metadata": {},
   "source": [
    "11. Show first 5 rows with only `Name`, `Salary`, and `Department` columns."
   ]
  },
  {
   "cell_type": "code",
   "execution_count": 13,
   "id": "5f4b8eea",
   "metadata": {},
   "outputs": [
    {
     "data": {
      "application/vnd.microsoft.datawrangler.viewer.v0+json": {
       "columns": [
        {
         "name": "index",
         "rawType": "int64",
         "type": "integer"
        },
        {
         "name": "Name",
         "rawType": "object",
         "type": "string"
        },
        {
         "name": "Salary",
         "rawType": "float64",
         "type": "float"
        },
        {
         "name": "Department",
         "rawType": "object",
         "type": "unknown"
        }
       ],
       "ref": "8500f228-a43b-4392-a7d7-03b157432acb",
       "rows": [
        [
         "0",
         "Employee_1",
         "83053.0",
         "Finance"
        ],
        [
         "1",
         "Employee_2",
         "46959.0",
         "Finance"
        ],
        [
         "2",
         "Employee_3",
         "30530.0",
         null
        ],
        [
         "3",
         "Employee_4",
         "28748.0",
         "HR"
        ],
        [
         "4",
         "Employee_5",
         null,
         "IT"
        ]
       ],
       "shape": {
        "columns": 3,
        "rows": 5
       }
      },
      "text/html": [
       "<div>\n",
       "<style scoped>\n",
       "    .dataframe tbody tr th:only-of-type {\n",
       "        vertical-align: middle;\n",
       "    }\n",
       "\n",
       "    .dataframe tbody tr th {\n",
       "        vertical-align: top;\n",
       "    }\n",
       "\n",
       "    .dataframe thead th {\n",
       "        text-align: right;\n",
       "    }\n",
       "</style>\n",
       "<table border=\"1\" class=\"dataframe\">\n",
       "  <thead>\n",
       "    <tr style=\"text-align: right;\">\n",
       "      <th></th>\n",
       "      <th>Name</th>\n",
       "      <th>Salary</th>\n",
       "      <th>Department</th>\n",
       "    </tr>\n",
       "  </thead>\n",
       "  <tbody>\n",
       "    <tr>\n",
       "      <th>0</th>\n",
       "      <td>Employee_1</td>\n",
       "      <td>83053.0</td>\n",
       "      <td>Finance</td>\n",
       "    </tr>\n",
       "    <tr>\n",
       "      <th>1</th>\n",
       "      <td>Employee_2</td>\n",
       "      <td>46959.0</td>\n",
       "      <td>Finance</td>\n",
       "    </tr>\n",
       "    <tr>\n",
       "      <th>2</th>\n",
       "      <td>Employee_3</td>\n",
       "      <td>30530.0</td>\n",
       "      <td>NaN</td>\n",
       "    </tr>\n",
       "    <tr>\n",
       "      <th>3</th>\n",
       "      <td>Employee_4</td>\n",
       "      <td>28748.0</td>\n",
       "      <td>HR</td>\n",
       "    </tr>\n",
       "    <tr>\n",
       "      <th>4</th>\n",
       "      <td>Employee_5</td>\n",
       "      <td>NaN</td>\n",
       "      <td>IT</td>\n",
       "    </tr>\n",
       "  </tbody>\n",
       "</table>\n",
       "</div>"
      ],
      "text/plain": [
       "         Name   Salary Department\n",
       "0  Employee_1  83053.0    Finance\n",
       "1  Employee_2  46959.0    Finance\n",
       "2  Employee_3  30530.0        NaN\n",
       "3  Employee_4  28748.0         HR\n",
       "4  Employee_5      NaN         IT"
      ]
     },
     "execution_count": 13,
     "metadata": {},
     "output_type": "execute_result"
    }
   ],
   "source": [
    "df[['Name', 'Salary', 'Department']].head(5)"
   ]
  },
  {
   "cell_type": "markdown",
   "id": "eaef6cb1",
   "metadata": {},
   "source": [
    "12. Display rows from index 10 to 20."
   ]
  },
  {
   "cell_type": "code",
   "execution_count": 14,
   "id": "3306845c",
   "metadata": {},
   "outputs": [
    {
     "data": {
      "application/vnd.microsoft.datawrangler.viewer.v0+json": {
       "columns": [
        {
         "name": "index",
         "rawType": "int64",
         "type": "integer"
        },
        {
         "name": "Name",
         "rawType": "object",
         "type": "string"
        },
        {
         "name": "Age",
         "rawType": "float64",
         "type": "float"
        },
        {
         "name": "Gender",
         "rawType": "object",
         "type": "string"
        },
        {
         "name": "City",
         "rawType": "object",
         "type": "string"
        },
        {
         "name": "Department",
         "rawType": "object",
         "type": "string"
        },
        {
         "name": "Salary",
         "rawType": "float64",
         "type": "float"
        },
        {
         "name": "JoinDate",
         "rawType": "datetime64[ns]",
         "type": "datetime"
        },
        {
         "name": "Status",
         "rawType": "object",
         "type": "string"
        }
       ],
       "ref": "bac16c78-3c12-4594-a851-0e0fefd0f93d",
       "rows": [
        [
         "10",
         "Employee_11",
         "24.0",
         "Male",
         "Bangalore",
         "Finance",
         "76005.0",
         "2016-09-15 00:00:00",
         "Resigned"
        ],
        [
         "11",
         "Employee_12",
         "43.0",
         "Female",
         "Delhi",
         "HR",
         "71576.0",
         "2017-10-13 00:00:00",
         "Resigned"
        ],
        [
         "12",
         "Employee_13",
         "23.0",
         "Female",
         "Delhi",
         "Finance",
         "64353.0",
         "2017-05-30 00:00:00",
         "Resigned"
        ],
        [
         "13",
         "Employee_14",
         "45.0",
         "Male",
         "Mumbai",
         "IT",
         "87003.0",
         "2020-08-11 00:00:00",
         "Active"
        ],
        [
         "14",
         "Employee_15",
         "51.0",
         "Female",
         "Bangalore",
         "IT",
         "77733.0",
         "2018-08-20 00:00:00",
         "Terminated"
        ],
        [
         "15",
         "Employee_16",
         "23.0",
         "Male",
         "Chennai",
         "IT",
         "90318.0",
         "2021-04-20 00:00:00",
         "Resigned"
        ],
        [
         "16",
         "Employee_17",
         "42.0",
         "Female",
         "Delhi",
         "Sales",
         "48664.0",
         "2016-03-28 00:00:00",
         "Terminated"
        ],
        [
         "17",
         "Employee_18",
         "54.0",
         "Male",
         "Bangalore",
         "Finance",
         "92172.0",
         "2018-03-29 00:00:00",
         "Terminated"
        ],
        [
         "18",
         "Employee_19",
         "33.0",
         "Male",
         "Bangalore",
         "Sales",
         null,
         "2020-08-18 00:00:00",
         "Resigned"
        ],
        [
         "19",
         "Employee_20",
         "43.0",
         "Female",
         "Mumbai",
         "Sales",
         "25854.0",
         "2019-08-10 00:00:00",
         "Active"
        ],
        [
         "20",
         "Employee_21",
         "46.0",
         "Female",
         "Delhi",
         "HR",
         null,
         "2022-11-03 00:00:00",
         "Resigned"
        ]
       ],
       "shape": {
        "columns": 8,
        "rows": 11
       }
      },
      "text/html": [
       "<div>\n",
       "<style scoped>\n",
       "    .dataframe tbody tr th:only-of-type {\n",
       "        vertical-align: middle;\n",
       "    }\n",
       "\n",
       "    .dataframe tbody tr th {\n",
       "        vertical-align: top;\n",
       "    }\n",
       "\n",
       "    .dataframe thead th {\n",
       "        text-align: right;\n",
       "    }\n",
       "</style>\n",
       "<table border=\"1\" class=\"dataframe\">\n",
       "  <thead>\n",
       "    <tr style=\"text-align: right;\">\n",
       "      <th></th>\n",
       "      <th>Name</th>\n",
       "      <th>Age</th>\n",
       "      <th>Gender</th>\n",
       "      <th>City</th>\n",
       "      <th>Department</th>\n",
       "      <th>Salary</th>\n",
       "      <th>JoinDate</th>\n",
       "      <th>Status</th>\n",
       "    </tr>\n",
       "  </thead>\n",
       "  <tbody>\n",
       "    <tr>\n",
       "      <th>10</th>\n",
       "      <td>Employee_11</td>\n",
       "      <td>24.0</td>\n",
       "      <td>Male</td>\n",
       "      <td>Bangalore</td>\n",
       "      <td>Finance</td>\n",
       "      <td>76005.0</td>\n",
       "      <td>2016-09-15</td>\n",
       "      <td>Resigned</td>\n",
       "    </tr>\n",
       "    <tr>\n",
       "      <th>11</th>\n",
       "      <td>Employee_12</td>\n",
       "      <td>43.0</td>\n",
       "      <td>Female</td>\n",
       "      <td>Delhi</td>\n",
       "      <td>HR</td>\n",
       "      <td>71576.0</td>\n",
       "      <td>2017-10-13</td>\n",
       "      <td>Resigned</td>\n",
       "    </tr>\n",
       "    <tr>\n",
       "      <th>12</th>\n",
       "      <td>Employee_13</td>\n",
       "      <td>23.0</td>\n",
       "      <td>Female</td>\n",
       "      <td>Delhi</td>\n",
       "      <td>Finance</td>\n",
       "      <td>64353.0</td>\n",
       "      <td>2017-05-30</td>\n",
       "      <td>Resigned</td>\n",
       "    </tr>\n",
       "    <tr>\n",
       "      <th>13</th>\n",
       "      <td>Employee_14</td>\n",
       "      <td>45.0</td>\n",
       "      <td>Male</td>\n",
       "      <td>Mumbai</td>\n",
       "      <td>IT</td>\n",
       "      <td>87003.0</td>\n",
       "      <td>2020-08-11</td>\n",
       "      <td>Active</td>\n",
       "    </tr>\n",
       "    <tr>\n",
       "      <th>14</th>\n",
       "      <td>Employee_15</td>\n",
       "      <td>51.0</td>\n",
       "      <td>Female</td>\n",
       "      <td>Bangalore</td>\n",
       "      <td>IT</td>\n",
       "      <td>77733.0</td>\n",
       "      <td>2018-08-20</td>\n",
       "      <td>Terminated</td>\n",
       "    </tr>\n",
       "    <tr>\n",
       "      <th>15</th>\n",
       "      <td>Employee_16</td>\n",
       "      <td>23.0</td>\n",
       "      <td>Male</td>\n",
       "      <td>Chennai</td>\n",
       "      <td>IT</td>\n",
       "      <td>90318.0</td>\n",
       "      <td>2021-04-20</td>\n",
       "      <td>Resigned</td>\n",
       "    </tr>\n",
       "    <tr>\n",
       "      <th>16</th>\n",
       "      <td>Employee_17</td>\n",
       "      <td>42.0</td>\n",
       "      <td>Female</td>\n",
       "      <td>Delhi</td>\n",
       "      <td>Sales</td>\n",
       "      <td>48664.0</td>\n",
       "      <td>2016-03-28</td>\n",
       "      <td>Terminated</td>\n",
       "    </tr>\n",
       "    <tr>\n",
       "      <th>17</th>\n",
       "      <td>Employee_18</td>\n",
       "      <td>54.0</td>\n",
       "      <td>Male</td>\n",
       "      <td>Bangalore</td>\n",
       "      <td>Finance</td>\n",
       "      <td>92172.0</td>\n",
       "      <td>2018-03-29</td>\n",
       "      <td>Terminated</td>\n",
       "    </tr>\n",
       "    <tr>\n",
       "      <th>18</th>\n",
       "      <td>Employee_19</td>\n",
       "      <td>33.0</td>\n",
       "      <td>Male</td>\n",
       "      <td>Bangalore</td>\n",
       "      <td>Sales</td>\n",
       "      <td>NaN</td>\n",
       "      <td>2020-08-18</td>\n",
       "      <td>Resigned</td>\n",
       "    </tr>\n",
       "    <tr>\n",
       "      <th>19</th>\n",
       "      <td>Employee_20</td>\n",
       "      <td>43.0</td>\n",
       "      <td>Female</td>\n",
       "      <td>Mumbai</td>\n",
       "      <td>Sales</td>\n",
       "      <td>25854.0</td>\n",
       "      <td>2019-08-10</td>\n",
       "      <td>Active</td>\n",
       "    </tr>\n",
       "    <tr>\n",
       "      <th>20</th>\n",
       "      <td>Employee_21</td>\n",
       "      <td>46.0</td>\n",
       "      <td>Female</td>\n",
       "      <td>Delhi</td>\n",
       "      <td>HR</td>\n",
       "      <td>NaN</td>\n",
       "      <td>2022-11-03</td>\n",
       "      <td>Resigned</td>\n",
       "    </tr>\n",
       "  </tbody>\n",
       "</table>\n",
       "</div>"
      ],
      "text/plain": [
       "           Name   Age  Gender       City Department   Salary   JoinDate  \\\n",
       "10  Employee_11  24.0    Male  Bangalore    Finance  76005.0 2016-09-15   \n",
       "11  Employee_12  43.0  Female      Delhi         HR  71576.0 2017-10-13   \n",
       "12  Employee_13  23.0  Female      Delhi    Finance  64353.0 2017-05-30   \n",
       "13  Employee_14  45.0    Male     Mumbai         IT  87003.0 2020-08-11   \n",
       "14  Employee_15  51.0  Female  Bangalore         IT  77733.0 2018-08-20   \n",
       "15  Employee_16  23.0    Male    Chennai         IT  90318.0 2021-04-20   \n",
       "16  Employee_17  42.0  Female      Delhi      Sales  48664.0 2016-03-28   \n",
       "17  Employee_18  54.0    Male  Bangalore    Finance  92172.0 2018-03-29   \n",
       "18  Employee_19  33.0    Male  Bangalore      Sales      NaN 2020-08-18   \n",
       "19  Employee_20  43.0  Female     Mumbai      Sales  25854.0 2019-08-10   \n",
       "20  Employee_21  46.0  Female      Delhi         HR      NaN 2022-11-03   \n",
       "\n",
       "        Status  \n",
       "10    Resigned  \n",
       "11    Resigned  \n",
       "12    Resigned  \n",
       "13      Active  \n",
       "14  Terminated  \n",
       "15    Resigned  \n",
       "16  Terminated  \n",
       "17  Terminated  \n",
       "18    Resigned  \n",
       "19      Active  \n",
       "20    Resigned  "
      ]
     },
     "execution_count": 14,
     "metadata": {},
     "output_type": "execute_result"
    }
   ],
   "source": [
    "df.iloc[10:21]"
   ]
  },
  {
   "cell_type": "markdown",
   "id": "187377cd",
   "metadata": {},
   "source": [
    "13. Show the last 7 rows of numeric columns only."
   ]
  },
  {
   "cell_type": "code",
   "execution_count": 15,
   "id": "7707eaeb",
   "metadata": {},
   "outputs": [
    {
     "data": {
      "application/vnd.microsoft.datawrangler.viewer.v0+json": {
       "columns": [
        {
         "name": "index",
         "rawType": "int64",
         "type": "integer"
        },
        {
         "name": "Age",
         "rawType": "float64",
         "type": "float"
        },
        {
         "name": "Salary",
         "rawType": "float64",
         "type": "float"
        }
       ],
       "ref": "28f83c65-38c0-4d33-89d0-7ef4f03f6692",
       "rows": [
        [
         "43",
         "23.0",
         "59754.0"
        ],
        [
         "44",
         null,
         "36411.0"
        ],
        [
         "45",
         "25.0",
         "27911.0"
        ],
        [
         "46",
         "50.0",
         "92270.0"
        ],
        [
         "47",
         "39.0",
         "33680.0"
        ],
        [
         "48",
         "47.0",
         "36111.0"
        ],
        [
         "49",
         "31.0",
         "62504.0"
        ]
       ],
       "shape": {
        "columns": 2,
        "rows": 7
       }
      },
      "text/html": [
       "<div>\n",
       "<style scoped>\n",
       "    .dataframe tbody tr th:only-of-type {\n",
       "        vertical-align: middle;\n",
       "    }\n",
       "\n",
       "    .dataframe tbody tr th {\n",
       "        vertical-align: top;\n",
       "    }\n",
       "\n",
       "    .dataframe thead th {\n",
       "        text-align: right;\n",
       "    }\n",
       "</style>\n",
       "<table border=\"1\" class=\"dataframe\">\n",
       "  <thead>\n",
       "    <tr style=\"text-align: right;\">\n",
       "      <th></th>\n",
       "      <th>Age</th>\n",
       "      <th>Salary</th>\n",
       "    </tr>\n",
       "  </thead>\n",
       "  <tbody>\n",
       "    <tr>\n",
       "      <th>43</th>\n",
       "      <td>23.0</td>\n",
       "      <td>59754.0</td>\n",
       "    </tr>\n",
       "    <tr>\n",
       "      <th>44</th>\n",
       "      <td>NaN</td>\n",
       "      <td>36411.0</td>\n",
       "    </tr>\n",
       "    <tr>\n",
       "      <th>45</th>\n",
       "      <td>25.0</td>\n",
       "      <td>27911.0</td>\n",
       "    </tr>\n",
       "    <tr>\n",
       "      <th>46</th>\n",
       "      <td>50.0</td>\n",
       "      <td>92270.0</td>\n",
       "    </tr>\n",
       "    <tr>\n",
       "      <th>47</th>\n",
       "      <td>39.0</td>\n",
       "      <td>33680.0</td>\n",
       "    </tr>\n",
       "    <tr>\n",
       "      <th>48</th>\n",
       "      <td>47.0</td>\n",
       "      <td>36111.0</td>\n",
       "    </tr>\n",
       "    <tr>\n",
       "      <th>49</th>\n",
       "      <td>31.0</td>\n",
       "      <td>62504.0</td>\n",
       "    </tr>\n",
       "  </tbody>\n",
       "</table>\n",
       "</div>"
      ],
      "text/plain": [
       "     Age   Salary\n",
       "43  23.0  59754.0\n",
       "44   NaN  36411.0\n",
       "45  25.0  27911.0\n",
       "46  50.0  92270.0\n",
       "47  39.0  33680.0\n",
       "48  47.0  36111.0\n",
       "49  31.0  62504.0"
      ]
     },
     "execution_count": 15,
     "metadata": {},
     "output_type": "execute_result"
    }
   ],
   "source": [
    "numeric_cols = df.select_dtypes(include=[np.number]).columns\n",
    "df[numeric_cols].tail(7)"
   ]
  },
  {
   "cell_type": "markdown",
   "id": "1d8c9612",
   "metadata": {},
   "source": [
    "14. Display employees with age 42 and 45."
   ]
  },
  {
   "cell_type": "code",
   "execution_count": 16,
   "id": "c805bdfe",
   "metadata": {},
   "outputs": [
    {
     "name": "stdout",
     "output_type": "stream",
     "text": [
      "Number of employees with age 42 or 45: 6\n"
     ]
    },
    {
     "data": {
      "application/vnd.microsoft.datawrangler.viewer.v0+json": {
       "columns": [
        {
         "name": "index",
         "rawType": "int64",
         "type": "integer"
        },
        {
         "name": "Name",
         "rawType": "object",
         "type": "string"
        },
        {
         "name": "Age",
         "rawType": "float64",
         "type": "float"
        },
        {
         "name": "Gender",
         "rawType": "object",
         "type": "string"
        },
        {
         "name": "City",
         "rawType": "object",
         "type": "string"
        },
        {
         "name": "Department",
         "rawType": "object",
         "type": "string"
        },
        {
         "name": "Salary",
         "rawType": "float64",
         "type": "float"
        },
        {
         "name": "JoinDate",
         "rawType": "datetime64[ns]",
         "type": "datetime"
        },
        {
         "name": "Status",
         "rawType": "object",
         "type": "string"
        }
       ],
       "ref": "a96f0ecd-aee6-43c0-8675-adf193e8535b",
       "rows": [
        [
         "3",
         "Employee_4",
         "42.0",
         "Male",
         "Bangalore",
         "HR",
         "28748.0",
         "2021-01-07 00:00:00",
         "Active"
        ],
        [
         "8",
         "Employee_9",
         "45.0",
         "Male",
         "Mumbai",
         "IT",
         "93840.0",
         "2020-12-31 00:00:00",
         "Resigned"
        ],
        [
         "9",
         "Employee_10",
         "45.0",
         "Female",
         "Chennai",
         "HR",
         "79384.0",
         "2021-07-21 00:00:00",
         "Resigned"
        ],
        [
         "13",
         "Employee_14",
         "45.0",
         "Male",
         "Mumbai",
         "IT",
         "87003.0",
         "2020-08-11 00:00:00",
         "Active"
        ],
        [
         "16",
         "Employee_17",
         "42.0",
         "Female",
         "Delhi",
         "Sales",
         "48664.0",
         "2016-03-28 00:00:00",
         "Terminated"
        ],
        [
         "27",
         "Employee_28",
         "42.0",
         "Male",
         "Delhi",
         "Finance",
         null,
         "2016-09-19 00:00:00",
         "Terminated"
        ]
       ],
       "shape": {
        "columns": 8,
        "rows": 6
       }
      },
      "text/html": [
       "<div>\n",
       "<style scoped>\n",
       "    .dataframe tbody tr th:only-of-type {\n",
       "        vertical-align: middle;\n",
       "    }\n",
       "\n",
       "    .dataframe tbody tr th {\n",
       "        vertical-align: top;\n",
       "    }\n",
       "\n",
       "    .dataframe thead th {\n",
       "        text-align: right;\n",
       "    }\n",
       "</style>\n",
       "<table border=\"1\" class=\"dataframe\">\n",
       "  <thead>\n",
       "    <tr style=\"text-align: right;\">\n",
       "      <th></th>\n",
       "      <th>Name</th>\n",
       "      <th>Age</th>\n",
       "      <th>Gender</th>\n",
       "      <th>City</th>\n",
       "      <th>Department</th>\n",
       "      <th>Salary</th>\n",
       "      <th>JoinDate</th>\n",
       "      <th>Status</th>\n",
       "    </tr>\n",
       "  </thead>\n",
       "  <tbody>\n",
       "    <tr>\n",
       "      <th>3</th>\n",
       "      <td>Employee_4</td>\n",
       "      <td>42.0</td>\n",
       "      <td>Male</td>\n",
       "      <td>Bangalore</td>\n",
       "      <td>HR</td>\n",
       "      <td>28748.0</td>\n",
       "      <td>2021-01-07</td>\n",
       "      <td>Active</td>\n",
       "    </tr>\n",
       "    <tr>\n",
       "      <th>8</th>\n",
       "      <td>Employee_9</td>\n",
       "      <td>45.0</td>\n",
       "      <td>Male</td>\n",
       "      <td>Mumbai</td>\n",
       "      <td>IT</td>\n",
       "      <td>93840.0</td>\n",
       "      <td>2020-12-31</td>\n",
       "      <td>Resigned</td>\n",
       "    </tr>\n",
       "    <tr>\n",
       "      <th>9</th>\n",
       "      <td>Employee_10</td>\n",
       "      <td>45.0</td>\n",
       "      <td>Female</td>\n",
       "      <td>Chennai</td>\n",
       "      <td>HR</td>\n",
       "      <td>79384.0</td>\n",
       "      <td>2021-07-21</td>\n",
       "      <td>Resigned</td>\n",
       "    </tr>\n",
       "    <tr>\n",
       "      <th>13</th>\n",
       "      <td>Employee_14</td>\n",
       "      <td>45.0</td>\n",
       "      <td>Male</td>\n",
       "      <td>Mumbai</td>\n",
       "      <td>IT</td>\n",
       "      <td>87003.0</td>\n",
       "      <td>2020-08-11</td>\n",
       "      <td>Active</td>\n",
       "    </tr>\n",
       "    <tr>\n",
       "      <th>16</th>\n",
       "      <td>Employee_17</td>\n",
       "      <td>42.0</td>\n",
       "      <td>Female</td>\n",
       "      <td>Delhi</td>\n",
       "      <td>Sales</td>\n",
       "      <td>48664.0</td>\n",
       "      <td>2016-03-28</td>\n",
       "      <td>Terminated</td>\n",
       "    </tr>\n",
       "    <tr>\n",
       "      <th>27</th>\n",
       "      <td>Employee_28</td>\n",
       "      <td>42.0</td>\n",
       "      <td>Male</td>\n",
       "      <td>Delhi</td>\n",
       "      <td>Finance</td>\n",
       "      <td>NaN</td>\n",
       "      <td>2016-09-19</td>\n",
       "      <td>Terminated</td>\n",
       "    </tr>\n",
       "  </tbody>\n",
       "</table>\n",
       "</div>"
      ],
      "text/plain": [
       "           Name   Age  Gender       City Department   Salary   JoinDate  \\\n",
       "3    Employee_4  42.0    Male  Bangalore         HR  28748.0 2021-01-07   \n",
       "8    Employee_9  45.0    Male     Mumbai         IT  93840.0 2020-12-31   \n",
       "9   Employee_10  45.0  Female    Chennai         HR  79384.0 2021-07-21   \n",
       "13  Employee_14  45.0    Male     Mumbai         IT  87003.0 2020-08-11   \n",
       "16  Employee_17  42.0  Female      Delhi      Sales  48664.0 2016-03-28   \n",
       "27  Employee_28  42.0    Male      Delhi    Finance      NaN 2016-09-19   \n",
       "\n",
       "        Status  \n",
       "3       Active  \n",
       "8     Resigned  \n",
       "9     Resigned  \n",
       "13      Active  \n",
       "16  Terminated  \n",
       "27  Terminated  "
      ]
     },
     "execution_count": 16,
     "metadata": {},
     "output_type": "execute_result"
    }
   ],
   "source": [
    "age_42_45 = df[df['Age'].isin([42, 45])]\n",
    "print(f\"Number of employees with age 42 or 45: {len(age_42_45)}\")\n",
    "age_42_45"
   ]
  },
  {
   "cell_type": "markdown",
   "id": "fb1cf4f0",
   "metadata": {},
   "source": [
    "## 🟨 Section C: Data Manipulation"
   ]
  },
  {
   "cell_type": "markdown",
   "id": "2c15121d",
   "metadata": {},
   "source": [
    "15. Add a new column `Tax` which is 10% of `Salary`."
   ]
  },
  {
   "cell_type": "code",
   "execution_count": 17,
   "id": "35729e15",
   "metadata": {},
   "outputs": [
    {
     "name": "stdout",
     "output_type": "stream",
     "text": [
      "Tax column added successfully!\n"
     ]
    },
    {
     "data": {
      "application/vnd.microsoft.datawrangler.viewer.v0+json": {
       "columns": [
        {
         "name": "index",
         "rawType": "int64",
         "type": "integer"
        },
        {
         "name": "Name",
         "rawType": "object",
         "type": "string"
        },
        {
         "name": "Salary",
         "rawType": "float64",
         "type": "float"
        },
        {
         "name": "Tax",
         "rawType": "float64",
         "type": "float"
        }
       ],
       "ref": "75eeac71-95ae-4fee-835f-6e674360bbdb",
       "rows": [
        [
         "0",
         "Employee_1",
         "83053.0",
         "8305.300000000001"
        ],
        [
         "1",
         "Employee_2",
         "46959.0",
         "4695.900000000001"
        ],
        [
         "2",
         "Employee_3",
         "30530.0",
         "3053.0"
        ],
        [
         "3",
         "Employee_4",
         "28748.0",
         "2874.8"
        ],
        [
         "4",
         "Employee_5",
         null,
         null
        ]
       ],
       "shape": {
        "columns": 3,
        "rows": 5
       }
      },
      "text/html": [
       "<div>\n",
       "<style scoped>\n",
       "    .dataframe tbody tr th:only-of-type {\n",
       "        vertical-align: middle;\n",
       "    }\n",
       "\n",
       "    .dataframe tbody tr th {\n",
       "        vertical-align: top;\n",
       "    }\n",
       "\n",
       "    .dataframe thead th {\n",
       "        text-align: right;\n",
       "    }\n",
       "</style>\n",
       "<table border=\"1\" class=\"dataframe\">\n",
       "  <thead>\n",
       "    <tr style=\"text-align: right;\">\n",
       "      <th></th>\n",
       "      <th>Name</th>\n",
       "      <th>Salary</th>\n",
       "      <th>Tax</th>\n",
       "    </tr>\n",
       "  </thead>\n",
       "  <tbody>\n",
       "    <tr>\n",
       "      <th>0</th>\n",
       "      <td>Employee_1</td>\n",
       "      <td>83053.0</td>\n",
       "      <td>8305.3</td>\n",
       "    </tr>\n",
       "    <tr>\n",
       "      <th>1</th>\n",
       "      <td>Employee_2</td>\n",
       "      <td>46959.0</td>\n",
       "      <td>4695.9</td>\n",
       "    </tr>\n",
       "    <tr>\n",
       "      <th>2</th>\n",
       "      <td>Employee_3</td>\n",
       "      <td>30530.0</td>\n",
       "      <td>3053.0</td>\n",
       "    </tr>\n",
       "    <tr>\n",
       "      <th>3</th>\n",
       "      <td>Employee_4</td>\n",
       "      <td>28748.0</td>\n",
       "      <td>2874.8</td>\n",
       "    </tr>\n",
       "    <tr>\n",
       "      <th>4</th>\n",
       "      <td>Employee_5</td>\n",
       "      <td>NaN</td>\n",
       "      <td>NaN</td>\n",
       "    </tr>\n",
       "  </tbody>\n",
       "</table>\n",
       "</div>"
      ],
      "text/plain": [
       "         Name   Salary     Tax\n",
       "0  Employee_1  83053.0  8305.3\n",
       "1  Employee_2  46959.0  4695.9\n",
       "2  Employee_3  30530.0  3053.0\n",
       "3  Employee_4  28748.0  2874.8\n",
       "4  Employee_5      NaN     NaN"
      ]
     },
     "execution_count": 17,
     "metadata": {},
     "output_type": "execute_result"
    }
   ],
   "source": [
    "df['Tax'] = df['Salary'] * 0.10\n",
    "print(\"Tax column added successfully!\")\n",
    "df[['Name', 'Salary', 'Tax']].head()"
   ]
  },
  {
   "cell_type": "markdown",
   "id": "fab4a89c",
   "metadata": {},
   "source": [
    "16. Replace all 'HR' values in `Department` with 'Human Resources'."
   ]
  },
  {
   "cell_type": "code",
   "execution_count": 18,
   "id": "84ae55b5",
   "metadata": {},
   "outputs": [
    {
     "name": "stdout",
     "output_type": "stream",
     "text": [
      "HR replaced with Human Resources\n",
      "Unique departments after replacement:\n",
      "['Finance' nan 'Human Resources' 'IT' 'Sales']\n"
     ]
    }
   ],
   "source": [
    "df['Department'] = df['Department'].replace('HR', 'Human Resources')\n",
    "print(\"HR replaced with Human Resources\")\n",
    "print(\"Unique departments after replacement:\")\n",
    "print(df['Department'].unique())"
   ]
  },
  {
   "cell_type": "markdown",
   "id": "1a43b194",
   "metadata": {},
   "source": [
    "17. Add a new row in the DataFrame"
   ]
  },
  {
   "cell_type": "code",
   "execution_count": 19,
   "id": "2b566583",
   "metadata": {},
   "outputs": [
    {
     "name": "stdout",
     "output_type": "stream",
     "text": [
      "New row added. DataFrame now has 51 rows\n"
     ]
    },
    {
     "data": {
      "application/vnd.microsoft.datawrangler.viewer.v0+json": {
       "columns": [
        {
         "name": "index",
         "rawType": "int64",
         "type": "integer"
        },
        {
         "name": "Name",
         "rawType": "object",
         "type": "string"
        },
        {
         "name": "Age",
         "rawType": "float64",
         "type": "float"
        },
        {
         "name": "Gender",
         "rawType": "object",
         "type": "string"
        },
        {
         "name": "City",
         "rawType": "object",
         "type": "string"
        },
        {
         "name": "Department",
         "rawType": "object",
         "type": "string"
        },
        {
         "name": "Salary",
         "rawType": "float64",
         "type": "float"
        },
        {
         "name": "JoinDate",
         "rawType": "object",
         "type": "unknown"
        },
        {
         "name": "Status",
         "rawType": "object",
         "type": "string"
        },
        {
         "name": "Tax",
         "rawType": "float64",
         "type": "float"
        }
       ],
       "ref": "54dba154-4e0b-4982-9c04-a4acd2abd28d",
       "rows": [
        [
         "48",
         "Employee_49",
         "47.0",
         "Male",
         "Bangalore",
         "Human Resources",
         "36111.0",
         "2016-02-02 00:00:00",
         "Terminated",
         "3611.1000000000004"
        ],
        [
         "49",
         "Employee_50",
         "31.0",
         "Female",
         "Chennai",
         "IT",
         "62504.0",
         "2018-07-24 00:00:00",
         "Active",
         "6250.400000000001"
        ],
        [
         "50",
         "New_Employee",
         "30.0",
         "Male",
         "Pune",
         "IT",
         "55000.0",
         "2023-01-15",
         "Active",
         "5500.0"
        ]
       ],
       "shape": {
        "columns": 9,
        "rows": 3
       }
      },
      "text/html": [
       "<div>\n",
       "<style scoped>\n",
       "    .dataframe tbody tr th:only-of-type {\n",
       "        vertical-align: middle;\n",
       "    }\n",
       "\n",
       "    .dataframe tbody tr th {\n",
       "        vertical-align: top;\n",
       "    }\n",
       "\n",
       "    .dataframe thead th {\n",
       "        text-align: right;\n",
       "    }\n",
       "</style>\n",
       "<table border=\"1\" class=\"dataframe\">\n",
       "  <thead>\n",
       "    <tr style=\"text-align: right;\">\n",
       "      <th></th>\n",
       "      <th>Name</th>\n",
       "      <th>Age</th>\n",
       "      <th>Gender</th>\n",
       "      <th>City</th>\n",
       "      <th>Department</th>\n",
       "      <th>Salary</th>\n",
       "      <th>JoinDate</th>\n",
       "      <th>Status</th>\n",
       "      <th>Tax</th>\n",
       "    </tr>\n",
       "  </thead>\n",
       "  <tbody>\n",
       "    <tr>\n",
       "      <th>48</th>\n",
       "      <td>Employee_49</td>\n",
       "      <td>47.0</td>\n",
       "      <td>Male</td>\n",
       "      <td>Bangalore</td>\n",
       "      <td>Human Resources</td>\n",
       "      <td>36111.0</td>\n",
       "      <td>2016-02-02 00:00:00</td>\n",
       "      <td>Terminated</td>\n",
       "      <td>3611.1</td>\n",
       "    </tr>\n",
       "    <tr>\n",
       "      <th>49</th>\n",
       "      <td>Employee_50</td>\n",
       "      <td>31.0</td>\n",
       "      <td>Female</td>\n",
       "      <td>Chennai</td>\n",
       "      <td>IT</td>\n",
       "      <td>62504.0</td>\n",
       "      <td>2018-07-24 00:00:00</td>\n",
       "      <td>Active</td>\n",
       "      <td>6250.4</td>\n",
       "    </tr>\n",
       "    <tr>\n",
       "      <th>50</th>\n",
       "      <td>New_Employee</td>\n",
       "      <td>30.0</td>\n",
       "      <td>Male</td>\n",
       "      <td>Pune</td>\n",
       "      <td>IT</td>\n",
       "      <td>55000.0</td>\n",
       "      <td>2023-01-15</td>\n",
       "      <td>Active</td>\n",
       "      <td>5500.0</td>\n",
       "    </tr>\n",
       "  </tbody>\n",
       "</table>\n",
       "</div>"
      ],
      "text/plain": [
       "            Name   Age  Gender       City       Department   Salary  \\\n",
       "48   Employee_49  47.0    Male  Bangalore  Human Resources  36111.0   \n",
       "49   Employee_50  31.0  Female    Chennai               IT  62504.0   \n",
       "50  New_Employee  30.0    Male       Pune               IT  55000.0   \n",
       "\n",
       "               JoinDate      Status     Tax  \n",
       "48  2016-02-02 00:00:00  Terminated  3611.1  \n",
       "49  2018-07-24 00:00:00      Active  6250.4  \n",
       "50           2023-01-15      Active  5500.0  "
      ]
     },
     "execution_count": 19,
     "metadata": {},
     "output_type": "execute_result"
    }
   ],
   "source": [
    "new_row = {\n",
    "    'Name': 'New_Employee',\n",
    "    'Age': 30,\n",
    "    'Gender': 'Male',\n",
    "    'City': 'Pune',\n",
    "    'Department': 'IT',\n",
    "    'Salary': 55000,\n",
    "    'JoinDate': '2023-01-15',\n",
    "    'Status': 'Active',\n",
    "    'Tax': 5500\n",
    "}\n",
    "\n",
    "df = pd.concat([df, pd.DataFrame([new_row])], ignore_index=True)\n",
    "print(f\"New row added. DataFrame now has {len(df)} rows\")\n",
    "df.tail(3)"
   ]
  },
  {
   "cell_type": "markdown",
   "id": "be554a71",
   "metadata": {},
   "source": [
    "18. Drop the `Status` column from the DataFrame."
   ]
  },
  {
   "cell_type": "code",
   "execution_count": 20,
   "id": "fd85ee19",
   "metadata": {},
   "outputs": [
    {
     "name": "stdout",
     "output_type": "stream",
     "text": [
      "Status column dropped successfully!\n",
      "Remaining columns: ['Name', 'Age', 'Gender', 'City', 'Department', 'Salary', 'JoinDate', 'Tax']\n"
     ]
    },
    {
     "data": {
      "application/vnd.microsoft.datawrangler.viewer.v0+json": {
       "columns": [
        {
         "name": "index",
         "rawType": "int64",
         "type": "integer"
        },
        {
         "name": "Name",
         "rawType": "object",
         "type": "string"
        },
        {
         "name": "Age",
         "rawType": "float64",
         "type": "float"
        },
        {
         "name": "Gender",
         "rawType": "object",
         "type": "string"
        },
        {
         "name": "City",
         "rawType": "object",
         "type": "string"
        },
        {
         "name": "Department",
         "rawType": "object",
         "type": "unknown"
        },
        {
         "name": "Salary",
         "rawType": "float64",
         "type": "float"
        },
        {
         "name": "JoinDate",
         "rawType": "object",
         "type": "unknown"
        },
        {
         "name": "Tax",
         "rawType": "float64",
         "type": "float"
        }
       ],
       "ref": "09ff8a71-c7c1-4a26-8486-20ac29887c27",
       "rows": [
        [
         "0",
         "Employee_1",
         "50.0",
         "Female",
         "Delhi",
         "Finance",
         "83053.0",
         "2019-12-08 00:00:00",
         "8305.300000000001"
        ],
        [
         "1",
         "Employee_2",
         "36.0",
         "Female",
         "Mumbai",
         "Finance",
         "46959.0",
         "2021-11-25 00:00:00",
         "4695.900000000001"
        ],
        [
         "2",
         "Employee_3",
         "29.0",
         "Female",
         "Chennai",
         null,
         "30530.0",
         "2020-05-23 00:00:00",
         "3053.0"
        ],
        [
         "3",
         "Employee_4",
         "42.0",
         "Male",
         "Bangalore",
         "Human Resources",
         "28748.0",
         "2021-01-07 00:00:00",
         "2874.8"
        ],
        [
         "4",
         "Employee_5",
         "40.0",
         "Female",
         "Delhi",
         "IT",
         null,
         "2018-12-09 00:00:00",
         null
        ]
       ],
       "shape": {
        "columns": 8,
        "rows": 5
       }
      },
      "text/html": [
       "<div>\n",
       "<style scoped>\n",
       "    .dataframe tbody tr th:only-of-type {\n",
       "        vertical-align: middle;\n",
       "    }\n",
       "\n",
       "    .dataframe tbody tr th {\n",
       "        vertical-align: top;\n",
       "    }\n",
       "\n",
       "    .dataframe thead th {\n",
       "        text-align: right;\n",
       "    }\n",
       "</style>\n",
       "<table border=\"1\" class=\"dataframe\">\n",
       "  <thead>\n",
       "    <tr style=\"text-align: right;\">\n",
       "      <th></th>\n",
       "      <th>Name</th>\n",
       "      <th>Age</th>\n",
       "      <th>Gender</th>\n",
       "      <th>City</th>\n",
       "      <th>Department</th>\n",
       "      <th>Salary</th>\n",
       "      <th>JoinDate</th>\n",
       "      <th>Tax</th>\n",
       "    </tr>\n",
       "  </thead>\n",
       "  <tbody>\n",
       "    <tr>\n",
       "      <th>0</th>\n",
       "      <td>Employee_1</td>\n",
       "      <td>50.0</td>\n",
       "      <td>Female</td>\n",
       "      <td>Delhi</td>\n",
       "      <td>Finance</td>\n",
       "      <td>83053.0</td>\n",
       "      <td>2019-12-08 00:00:00</td>\n",
       "      <td>8305.3</td>\n",
       "    </tr>\n",
       "    <tr>\n",
       "      <th>1</th>\n",
       "      <td>Employee_2</td>\n",
       "      <td>36.0</td>\n",
       "      <td>Female</td>\n",
       "      <td>Mumbai</td>\n",
       "      <td>Finance</td>\n",
       "      <td>46959.0</td>\n",
       "      <td>2021-11-25 00:00:00</td>\n",
       "      <td>4695.9</td>\n",
       "    </tr>\n",
       "    <tr>\n",
       "      <th>2</th>\n",
       "      <td>Employee_3</td>\n",
       "      <td>29.0</td>\n",
       "      <td>Female</td>\n",
       "      <td>Chennai</td>\n",
       "      <td>NaN</td>\n",
       "      <td>30530.0</td>\n",
       "      <td>2020-05-23 00:00:00</td>\n",
       "      <td>3053.0</td>\n",
       "    </tr>\n",
       "    <tr>\n",
       "      <th>3</th>\n",
       "      <td>Employee_4</td>\n",
       "      <td>42.0</td>\n",
       "      <td>Male</td>\n",
       "      <td>Bangalore</td>\n",
       "      <td>Human Resources</td>\n",
       "      <td>28748.0</td>\n",
       "      <td>2021-01-07 00:00:00</td>\n",
       "      <td>2874.8</td>\n",
       "    </tr>\n",
       "    <tr>\n",
       "      <th>4</th>\n",
       "      <td>Employee_5</td>\n",
       "      <td>40.0</td>\n",
       "      <td>Female</td>\n",
       "      <td>Delhi</td>\n",
       "      <td>IT</td>\n",
       "      <td>NaN</td>\n",
       "      <td>2018-12-09 00:00:00</td>\n",
       "      <td>NaN</td>\n",
       "    </tr>\n",
       "  </tbody>\n",
       "</table>\n",
       "</div>"
      ],
      "text/plain": [
       "         Name   Age  Gender       City       Department   Salary  \\\n",
       "0  Employee_1  50.0  Female      Delhi          Finance  83053.0   \n",
       "1  Employee_2  36.0  Female     Mumbai          Finance  46959.0   \n",
       "2  Employee_3  29.0  Female    Chennai              NaN  30530.0   \n",
       "3  Employee_4  42.0    Male  Bangalore  Human Resources  28748.0   \n",
       "4  Employee_5  40.0  Female      Delhi               IT      NaN   \n",
       "\n",
       "              JoinDate     Tax  \n",
       "0  2019-12-08 00:00:00  8305.3  \n",
       "1  2021-11-25 00:00:00  4695.9  \n",
       "2  2020-05-23 00:00:00  3053.0  \n",
       "3  2021-01-07 00:00:00  2874.8  \n",
       "4  2018-12-09 00:00:00     NaN  "
      ]
     },
     "execution_count": 20,
     "metadata": {},
     "output_type": "execute_result"
    }
   ],
   "source": [
    "df = df.drop('Status', axis=1)\n",
    "print(\"Status column dropped successfully!\")\n",
    "print(f\"Remaining columns: {df.columns.tolist()}\")\n",
    "df.head()"
   ]
  },
  {
   "cell_type": "markdown",
   "id": "885cc3e8",
   "metadata": {},
   "source": [
    "19. Drop the row with index=5"
   ]
  },
  {
   "cell_type": "code",
   "execution_count": 21,
   "id": "c1708dff",
   "metadata": {},
   "outputs": [
    {
     "name": "stdout",
     "output_type": "stream",
     "text": [
      "Row with index 5 dropped successfully!\n",
      "DataFrame now has 50 rows\n"
     ]
    },
    {
     "data": {
      "application/vnd.microsoft.datawrangler.viewer.v0+json": {
       "columns": [
        {
         "name": "index",
         "rawType": "int64",
         "type": "integer"
        },
        {
         "name": "Name",
         "rawType": "object",
         "type": "string"
        },
        {
         "name": "Age",
         "rawType": "float64",
         "type": "float"
        },
        {
         "name": "Gender",
         "rawType": "object",
         "type": "string"
        },
        {
         "name": "City",
         "rawType": "object",
         "type": "string"
        },
        {
         "name": "Department",
         "rawType": "object",
         "type": "unknown"
        },
        {
         "name": "Salary",
         "rawType": "float64",
         "type": "float"
        },
        {
         "name": "JoinDate",
         "rawType": "object",
         "type": "unknown"
        },
        {
         "name": "Tax",
         "rawType": "float64",
         "type": "float"
        }
       ],
       "ref": "564a65fd-5aeb-4c47-9cd3-d9ecca248347",
       "rows": [
        [
         "0",
         "Employee_1",
         "50.0",
         "Female",
         "Delhi",
         "Finance",
         "83053.0",
         "2019-12-08 00:00:00",
         "8305.300000000001"
        ],
        [
         "1",
         "Employee_2",
         "36.0",
         "Female",
         "Mumbai",
         "Finance",
         "46959.0",
         "2021-11-25 00:00:00",
         "4695.900000000001"
        ],
        [
         "2",
         "Employee_3",
         "29.0",
         "Female",
         "Chennai",
         null,
         "30530.0",
         "2020-05-23 00:00:00",
         "3053.0"
        ],
        [
         "3",
         "Employee_4",
         "42.0",
         "Male",
         "Bangalore",
         "Human Resources",
         "28748.0",
         "2021-01-07 00:00:00",
         "2874.8"
        ],
        [
         "4",
         "Employee_5",
         "40.0",
         "Female",
         "Delhi",
         "IT",
         null,
         "2018-12-09 00:00:00",
         null
        ],
        [
         "6",
         "Employee_7",
         null,
         "Female",
         "Bangalore",
         "Human Resources",
         "59766.0",
         "2015-09-20 00:00:00",
         "5976.6"
        ],
        [
         "7",
         "Employee_8",
         "32.0",
         "Female",
         "Bangalore",
         "IT",
         "86087.0",
         "2019-11-23 00:00:00",
         "8608.7"
        ],
        [
         "8",
         "Employee_9",
         "45.0",
         "Male",
         "Mumbai",
         "IT",
         "93840.0",
         "2020-12-31 00:00:00",
         "9384.0"
        ],
        [
         "9",
         "Employee_10",
         "45.0",
         "Female",
         "Chennai",
         "Human Resources",
         "79384.0",
         "2021-07-21 00:00:00",
         "7938.400000000001"
        ],
        [
         "10",
         "Employee_11",
         "24.0",
         "Male",
         "Bangalore",
         "Finance",
         "76005.0",
         "2016-09-15 00:00:00",
         "7600.5"
        ]
       ],
       "shape": {
        "columns": 8,
        "rows": 10
       }
      },
      "text/html": [
       "<div>\n",
       "<style scoped>\n",
       "    .dataframe tbody tr th:only-of-type {\n",
       "        vertical-align: middle;\n",
       "    }\n",
       "\n",
       "    .dataframe tbody tr th {\n",
       "        vertical-align: top;\n",
       "    }\n",
       "\n",
       "    .dataframe thead th {\n",
       "        text-align: right;\n",
       "    }\n",
       "</style>\n",
       "<table border=\"1\" class=\"dataframe\">\n",
       "  <thead>\n",
       "    <tr style=\"text-align: right;\">\n",
       "      <th></th>\n",
       "      <th>Name</th>\n",
       "      <th>Age</th>\n",
       "      <th>Gender</th>\n",
       "      <th>City</th>\n",
       "      <th>Department</th>\n",
       "      <th>Salary</th>\n",
       "      <th>JoinDate</th>\n",
       "      <th>Tax</th>\n",
       "    </tr>\n",
       "  </thead>\n",
       "  <tbody>\n",
       "    <tr>\n",
       "      <th>0</th>\n",
       "      <td>Employee_1</td>\n",
       "      <td>50.0</td>\n",
       "      <td>Female</td>\n",
       "      <td>Delhi</td>\n",
       "      <td>Finance</td>\n",
       "      <td>83053.0</td>\n",
       "      <td>2019-12-08 00:00:00</td>\n",
       "      <td>8305.3</td>\n",
       "    </tr>\n",
       "    <tr>\n",
       "      <th>1</th>\n",
       "      <td>Employee_2</td>\n",
       "      <td>36.0</td>\n",
       "      <td>Female</td>\n",
       "      <td>Mumbai</td>\n",
       "      <td>Finance</td>\n",
       "      <td>46959.0</td>\n",
       "      <td>2021-11-25 00:00:00</td>\n",
       "      <td>4695.9</td>\n",
       "    </tr>\n",
       "    <tr>\n",
       "      <th>2</th>\n",
       "      <td>Employee_3</td>\n",
       "      <td>29.0</td>\n",
       "      <td>Female</td>\n",
       "      <td>Chennai</td>\n",
       "      <td>NaN</td>\n",
       "      <td>30530.0</td>\n",
       "      <td>2020-05-23 00:00:00</td>\n",
       "      <td>3053.0</td>\n",
       "    </tr>\n",
       "    <tr>\n",
       "      <th>3</th>\n",
       "      <td>Employee_4</td>\n",
       "      <td>42.0</td>\n",
       "      <td>Male</td>\n",
       "      <td>Bangalore</td>\n",
       "      <td>Human Resources</td>\n",
       "      <td>28748.0</td>\n",
       "      <td>2021-01-07 00:00:00</td>\n",
       "      <td>2874.8</td>\n",
       "    </tr>\n",
       "    <tr>\n",
       "      <th>4</th>\n",
       "      <td>Employee_5</td>\n",
       "      <td>40.0</td>\n",
       "      <td>Female</td>\n",
       "      <td>Delhi</td>\n",
       "      <td>IT</td>\n",
       "      <td>NaN</td>\n",
       "      <td>2018-12-09 00:00:00</td>\n",
       "      <td>NaN</td>\n",
       "    </tr>\n",
       "    <tr>\n",
       "      <th>6</th>\n",
       "      <td>Employee_7</td>\n",
       "      <td>NaN</td>\n",
       "      <td>Female</td>\n",
       "      <td>Bangalore</td>\n",
       "      <td>Human Resources</td>\n",
       "      <td>59766.0</td>\n",
       "      <td>2015-09-20 00:00:00</td>\n",
       "      <td>5976.6</td>\n",
       "    </tr>\n",
       "    <tr>\n",
       "      <th>7</th>\n",
       "      <td>Employee_8</td>\n",
       "      <td>32.0</td>\n",
       "      <td>Female</td>\n",
       "      <td>Bangalore</td>\n",
       "      <td>IT</td>\n",
       "      <td>86087.0</td>\n",
       "      <td>2019-11-23 00:00:00</td>\n",
       "      <td>8608.7</td>\n",
       "    </tr>\n",
       "    <tr>\n",
       "      <th>8</th>\n",
       "      <td>Employee_9</td>\n",
       "      <td>45.0</td>\n",
       "      <td>Male</td>\n",
       "      <td>Mumbai</td>\n",
       "      <td>IT</td>\n",
       "      <td>93840.0</td>\n",
       "      <td>2020-12-31 00:00:00</td>\n",
       "      <td>9384.0</td>\n",
       "    </tr>\n",
       "    <tr>\n",
       "      <th>9</th>\n",
       "      <td>Employee_10</td>\n",
       "      <td>45.0</td>\n",
       "      <td>Female</td>\n",
       "      <td>Chennai</td>\n",
       "      <td>Human Resources</td>\n",
       "      <td>79384.0</td>\n",
       "      <td>2021-07-21 00:00:00</td>\n",
       "      <td>7938.4</td>\n",
       "    </tr>\n",
       "    <tr>\n",
       "      <th>10</th>\n",
       "      <td>Employee_11</td>\n",
       "      <td>24.0</td>\n",
       "      <td>Male</td>\n",
       "      <td>Bangalore</td>\n",
       "      <td>Finance</td>\n",
       "      <td>76005.0</td>\n",
       "      <td>2016-09-15 00:00:00</td>\n",
       "      <td>7600.5</td>\n",
       "    </tr>\n",
       "  </tbody>\n",
       "</table>\n",
       "</div>"
      ],
      "text/plain": [
       "           Name   Age  Gender       City       Department   Salary  \\\n",
       "0    Employee_1  50.0  Female      Delhi          Finance  83053.0   \n",
       "1    Employee_2  36.0  Female     Mumbai          Finance  46959.0   \n",
       "2    Employee_3  29.0  Female    Chennai              NaN  30530.0   \n",
       "3    Employee_4  42.0    Male  Bangalore  Human Resources  28748.0   \n",
       "4    Employee_5  40.0  Female      Delhi               IT      NaN   \n",
       "6    Employee_7   NaN  Female  Bangalore  Human Resources  59766.0   \n",
       "7    Employee_8  32.0  Female  Bangalore               IT  86087.0   \n",
       "8    Employee_9  45.0    Male     Mumbai               IT  93840.0   \n",
       "9   Employee_10  45.0  Female    Chennai  Human Resources  79384.0   \n",
       "10  Employee_11  24.0    Male  Bangalore          Finance  76005.0   \n",
       "\n",
       "               JoinDate     Tax  \n",
       "0   2019-12-08 00:00:00  8305.3  \n",
       "1   2021-11-25 00:00:00  4695.9  \n",
       "2   2020-05-23 00:00:00  3053.0  \n",
       "3   2021-01-07 00:00:00  2874.8  \n",
       "4   2018-12-09 00:00:00     NaN  \n",
       "6   2015-09-20 00:00:00  5976.6  \n",
       "7   2019-11-23 00:00:00  8608.7  \n",
       "8   2020-12-31 00:00:00  9384.0  \n",
       "9   2021-07-21 00:00:00  7938.4  \n",
       "10  2016-09-15 00:00:00  7600.5  "
      ]
     },
     "execution_count": 21,
     "metadata": {},
     "output_type": "execute_result"
    }
   ],
   "source": [
    "df = df.drop(index=5)\n",
    "print(\"Row with index 5 dropped successfully!\")\n",
    "print(f\"DataFrame now has {len(df)} rows\")\n",
    "df.head(10)"
   ]
  },
  {
   "cell_type": "markdown",
   "id": "c09e9169",
   "metadata": {},
   "source": [
    "20. Reset the row-index"
   ]
  },
  {
   "cell_type": "code",
   "execution_count": 22,
   "id": "57a474af",
   "metadata": {},
   "outputs": [
    {
     "name": "stdout",
     "output_type": "stream",
     "text": [
      "Row index reset successfully!\n"
     ]
    },
    {
     "data": {
      "application/vnd.microsoft.datawrangler.viewer.v0+json": {
       "columns": [
        {
         "name": "index",
         "rawType": "int64",
         "type": "integer"
        },
        {
         "name": "Name",
         "rawType": "object",
         "type": "string"
        },
        {
         "name": "Age",
         "rawType": "float64",
         "type": "float"
        },
        {
         "name": "Gender",
         "rawType": "object",
         "type": "string"
        },
        {
         "name": "City",
         "rawType": "object",
         "type": "string"
        },
        {
         "name": "Department",
         "rawType": "object",
         "type": "unknown"
        },
        {
         "name": "Salary",
         "rawType": "float64",
         "type": "float"
        },
        {
         "name": "JoinDate",
         "rawType": "object",
         "type": "unknown"
        },
        {
         "name": "Tax",
         "rawType": "float64",
         "type": "float"
        }
       ],
       "ref": "a93f8b3c-f91a-423f-9cdf-a893a614e074",
       "rows": [
        [
         "0",
         "Employee_1",
         "50.0",
         "Female",
         "Delhi",
         "Finance",
         "83053.0",
         "2019-12-08 00:00:00",
         "8305.300000000001"
        ],
        [
         "1",
         "Employee_2",
         "36.0",
         "Female",
         "Mumbai",
         "Finance",
         "46959.0",
         "2021-11-25 00:00:00",
         "4695.900000000001"
        ],
        [
         "2",
         "Employee_3",
         "29.0",
         "Female",
         "Chennai",
         null,
         "30530.0",
         "2020-05-23 00:00:00",
         "3053.0"
        ],
        [
         "3",
         "Employee_4",
         "42.0",
         "Male",
         "Bangalore",
         "Human Resources",
         "28748.0",
         "2021-01-07 00:00:00",
         "2874.8"
        ],
        [
         "4",
         "Employee_5",
         "40.0",
         "Female",
         "Delhi",
         "IT",
         null,
         "2018-12-09 00:00:00",
         null
        ],
        [
         "5",
         "Employee_7",
         null,
         "Female",
         "Bangalore",
         "Human Resources",
         "59766.0",
         "2015-09-20 00:00:00",
         "5976.6"
        ],
        [
         "6",
         "Employee_8",
         "32.0",
         "Female",
         "Bangalore",
         "IT",
         "86087.0",
         "2019-11-23 00:00:00",
         "8608.7"
        ],
        [
         "7",
         "Employee_9",
         "45.0",
         "Male",
         "Mumbai",
         "IT",
         "93840.0",
         "2020-12-31 00:00:00",
         "9384.0"
        ],
        [
         "8",
         "Employee_10",
         "45.0",
         "Female",
         "Chennai",
         "Human Resources",
         "79384.0",
         "2021-07-21 00:00:00",
         "7938.400000000001"
        ],
        [
         "9",
         "Employee_11",
         "24.0",
         "Male",
         "Bangalore",
         "Finance",
         "76005.0",
         "2016-09-15 00:00:00",
         "7600.5"
        ]
       ],
       "shape": {
        "columns": 8,
        "rows": 10
       }
      },
      "text/html": [
       "<div>\n",
       "<style scoped>\n",
       "    .dataframe tbody tr th:only-of-type {\n",
       "        vertical-align: middle;\n",
       "    }\n",
       "\n",
       "    .dataframe tbody tr th {\n",
       "        vertical-align: top;\n",
       "    }\n",
       "\n",
       "    .dataframe thead th {\n",
       "        text-align: right;\n",
       "    }\n",
       "</style>\n",
       "<table border=\"1\" class=\"dataframe\">\n",
       "  <thead>\n",
       "    <tr style=\"text-align: right;\">\n",
       "      <th></th>\n",
       "      <th>Name</th>\n",
       "      <th>Age</th>\n",
       "      <th>Gender</th>\n",
       "      <th>City</th>\n",
       "      <th>Department</th>\n",
       "      <th>Salary</th>\n",
       "      <th>JoinDate</th>\n",
       "      <th>Tax</th>\n",
       "    </tr>\n",
       "  </thead>\n",
       "  <tbody>\n",
       "    <tr>\n",
       "      <th>0</th>\n",
       "      <td>Employee_1</td>\n",
       "      <td>50.0</td>\n",
       "      <td>Female</td>\n",
       "      <td>Delhi</td>\n",
       "      <td>Finance</td>\n",
       "      <td>83053.0</td>\n",
       "      <td>2019-12-08 00:00:00</td>\n",
       "      <td>8305.3</td>\n",
       "    </tr>\n",
       "    <tr>\n",
       "      <th>1</th>\n",
       "      <td>Employee_2</td>\n",
       "      <td>36.0</td>\n",
       "      <td>Female</td>\n",
       "      <td>Mumbai</td>\n",
       "      <td>Finance</td>\n",
       "      <td>46959.0</td>\n",
       "      <td>2021-11-25 00:00:00</td>\n",
       "      <td>4695.9</td>\n",
       "    </tr>\n",
       "    <tr>\n",
       "      <th>2</th>\n",
       "      <td>Employee_3</td>\n",
       "      <td>29.0</td>\n",
       "      <td>Female</td>\n",
       "      <td>Chennai</td>\n",
       "      <td>NaN</td>\n",
       "      <td>30530.0</td>\n",
       "      <td>2020-05-23 00:00:00</td>\n",
       "      <td>3053.0</td>\n",
       "    </tr>\n",
       "    <tr>\n",
       "      <th>3</th>\n",
       "      <td>Employee_4</td>\n",
       "      <td>42.0</td>\n",
       "      <td>Male</td>\n",
       "      <td>Bangalore</td>\n",
       "      <td>Human Resources</td>\n",
       "      <td>28748.0</td>\n",
       "      <td>2021-01-07 00:00:00</td>\n",
       "      <td>2874.8</td>\n",
       "    </tr>\n",
       "    <tr>\n",
       "      <th>4</th>\n",
       "      <td>Employee_5</td>\n",
       "      <td>40.0</td>\n",
       "      <td>Female</td>\n",
       "      <td>Delhi</td>\n",
       "      <td>IT</td>\n",
       "      <td>NaN</td>\n",
       "      <td>2018-12-09 00:00:00</td>\n",
       "      <td>NaN</td>\n",
       "    </tr>\n",
       "    <tr>\n",
       "      <th>5</th>\n",
       "      <td>Employee_7</td>\n",
       "      <td>NaN</td>\n",
       "      <td>Female</td>\n",
       "      <td>Bangalore</td>\n",
       "      <td>Human Resources</td>\n",
       "      <td>59766.0</td>\n",
       "      <td>2015-09-20 00:00:00</td>\n",
       "      <td>5976.6</td>\n",
       "    </tr>\n",
       "    <tr>\n",
       "      <th>6</th>\n",
       "      <td>Employee_8</td>\n",
       "      <td>32.0</td>\n",
       "      <td>Female</td>\n",
       "      <td>Bangalore</td>\n",
       "      <td>IT</td>\n",
       "      <td>86087.0</td>\n",
       "      <td>2019-11-23 00:00:00</td>\n",
       "      <td>8608.7</td>\n",
       "    </tr>\n",
       "    <tr>\n",
       "      <th>7</th>\n",
       "      <td>Employee_9</td>\n",
       "      <td>45.0</td>\n",
       "      <td>Male</td>\n",
       "      <td>Mumbai</td>\n",
       "      <td>IT</td>\n",
       "      <td>93840.0</td>\n",
       "      <td>2020-12-31 00:00:00</td>\n",
       "      <td>9384.0</td>\n",
       "    </tr>\n",
       "    <tr>\n",
       "      <th>8</th>\n",
       "      <td>Employee_10</td>\n",
       "      <td>45.0</td>\n",
       "      <td>Female</td>\n",
       "      <td>Chennai</td>\n",
       "      <td>Human Resources</td>\n",
       "      <td>79384.0</td>\n",
       "      <td>2021-07-21 00:00:00</td>\n",
       "      <td>7938.4</td>\n",
       "    </tr>\n",
       "    <tr>\n",
       "      <th>9</th>\n",
       "      <td>Employee_11</td>\n",
       "      <td>24.0</td>\n",
       "      <td>Male</td>\n",
       "      <td>Bangalore</td>\n",
       "      <td>Finance</td>\n",
       "      <td>76005.0</td>\n",
       "      <td>2016-09-15 00:00:00</td>\n",
       "      <td>7600.5</td>\n",
       "    </tr>\n",
       "  </tbody>\n",
       "</table>\n",
       "</div>"
      ],
      "text/plain": [
       "          Name   Age  Gender       City       Department   Salary  \\\n",
       "0   Employee_1  50.0  Female      Delhi          Finance  83053.0   \n",
       "1   Employee_2  36.0  Female     Mumbai          Finance  46959.0   \n",
       "2   Employee_3  29.0  Female    Chennai              NaN  30530.0   \n",
       "3   Employee_4  42.0    Male  Bangalore  Human Resources  28748.0   \n",
       "4   Employee_5  40.0  Female      Delhi               IT      NaN   \n",
       "5   Employee_7   NaN  Female  Bangalore  Human Resources  59766.0   \n",
       "6   Employee_8  32.0  Female  Bangalore               IT  86087.0   \n",
       "7   Employee_9  45.0    Male     Mumbai               IT  93840.0   \n",
       "8  Employee_10  45.0  Female    Chennai  Human Resources  79384.0   \n",
       "9  Employee_11  24.0    Male  Bangalore          Finance  76005.0   \n",
       "\n",
       "              JoinDate     Tax  \n",
       "0  2019-12-08 00:00:00  8305.3  \n",
       "1  2021-11-25 00:00:00  4695.9  \n",
       "2  2020-05-23 00:00:00  3053.0  \n",
       "3  2021-01-07 00:00:00  2874.8  \n",
       "4  2018-12-09 00:00:00     NaN  \n",
       "5  2015-09-20 00:00:00  5976.6  \n",
       "6  2019-11-23 00:00:00  8608.7  \n",
       "7  2020-12-31 00:00:00  9384.0  \n",
       "8  2021-07-21 00:00:00  7938.4  \n",
       "9  2016-09-15 00:00:00  7600.5  "
      ]
     },
     "execution_count": 22,
     "metadata": {},
     "output_type": "execute_result"
    }
   ],
   "source": [
    "df = df.reset_index(drop=True)\n",
    "print(\"Row index reset successfully!\")\n",
    "df.head(10)"
   ]
  },
  {
   "cell_type": "markdown",
   "id": "7f9b7d05",
   "metadata": {},
   "source": [
    "## 🟥 Section D: Handling Missing Values"
   ]
  },
  {
   "cell_type": "markdown",
   "id": "385617ab",
   "metadata": {},
   "source": [
    "21. Find the total number of missing values in each column."
   ]
  },
  {
   "cell_type": "code",
   "execution_count": 23,
   "id": "037fab17",
   "metadata": {},
   "outputs": [
    {
     "name": "stdout",
     "output_type": "stream",
     "text": [
      "Missing values per column:\n",
      "Name          0\n",
      "Age           3\n",
      "Gender        0\n",
      "City          0\n",
      "Department    4\n",
      "Salary        5\n",
      "JoinDate      0\n",
      "Tax           5\n",
      "dtype: int64\n",
      "\n",
      "Total missing values in dataset: 17\n"
     ]
    }
   ],
   "source": [
    "missing_values = df.isnull().sum()\n",
    "print(\"Missing values per column:\")\n",
    "print(missing_values)\n",
    "print(f\"\\nTotal missing values in dataset: {missing_values.sum()}\")"
   ]
  },
  {
   "cell_type": "markdown",
   "id": "1ba5a6cd",
   "metadata": {},
   "source": [
    "22. Display all rows where `Salary` is missing."
   ]
  },
  {
   "cell_type": "code",
   "execution_count": 24,
   "id": "9a0cc452",
   "metadata": {},
   "outputs": [
    {
     "name": "stdout",
     "output_type": "stream",
     "text": [
      "Number of rows with missing Salary: 5\n"
     ]
    },
    {
     "data": {
      "application/vnd.microsoft.datawrangler.viewer.v0+json": {
       "columns": [
        {
         "name": "index",
         "rawType": "int64",
         "type": "integer"
        },
        {
         "name": "Name",
         "rawType": "object",
         "type": "string"
        },
        {
         "name": "Age",
         "rawType": "float64",
         "type": "float"
        },
        {
         "name": "Gender",
         "rawType": "object",
         "type": "string"
        },
        {
         "name": "City",
         "rawType": "object",
         "type": "string"
        },
        {
         "name": "Department",
         "rawType": "object",
         "type": "string"
        },
        {
         "name": "Salary",
         "rawType": "float64",
         "type": "float"
        },
        {
         "name": "JoinDate",
         "rawType": "object",
         "type": "unknown"
        },
        {
         "name": "Tax",
         "rawType": "float64",
         "type": "float"
        }
       ],
       "ref": "fcd2f8a0-d25f-4aaa-a2cc-5c2e45ec20ec",
       "rows": [
        [
         "4",
         "Employee_5",
         "40.0",
         "Female",
         "Delhi",
         "IT",
         null,
         "2018-12-09 00:00:00",
         null
        ],
        [
         "17",
         "Employee_19",
         "33.0",
         "Male",
         "Bangalore",
         "Sales",
         null,
         "2020-08-18 00:00:00",
         null
        ],
        [
         "19",
         "Employee_21",
         "46.0",
         "Female",
         "Delhi",
         "Human Resources",
         null,
         "2022-11-03 00:00:00",
         null
        ],
        [
         "26",
         "Employee_28",
         "42.0",
         "Male",
         "Delhi",
         "Finance",
         null,
         "2016-09-19 00:00:00",
         null
        ],
        [
         "41",
         "Employee_43",
         "25.0",
         "Male",
         "Chennai",
         "Human Resources",
         null,
         "2022-11-09 00:00:00",
         null
        ]
       ],
       "shape": {
        "columns": 8,
        "rows": 5
       }
      },
      "text/html": [
       "<div>\n",
       "<style scoped>\n",
       "    .dataframe tbody tr th:only-of-type {\n",
       "        vertical-align: middle;\n",
       "    }\n",
       "\n",
       "    .dataframe tbody tr th {\n",
       "        vertical-align: top;\n",
       "    }\n",
       "\n",
       "    .dataframe thead th {\n",
       "        text-align: right;\n",
       "    }\n",
       "</style>\n",
       "<table border=\"1\" class=\"dataframe\">\n",
       "  <thead>\n",
       "    <tr style=\"text-align: right;\">\n",
       "      <th></th>\n",
       "      <th>Name</th>\n",
       "      <th>Age</th>\n",
       "      <th>Gender</th>\n",
       "      <th>City</th>\n",
       "      <th>Department</th>\n",
       "      <th>Salary</th>\n",
       "      <th>JoinDate</th>\n",
       "      <th>Tax</th>\n",
       "    </tr>\n",
       "  </thead>\n",
       "  <tbody>\n",
       "    <tr>\n",
       "      <th>4</th>\n",
       "      <td>Employee_5</td>\n",
       "      <td>40.0</td>\n",
       "      <td>Female</td>\n",
       "      <td>Delhi</td>\n",
       "      <td>IT</td>\n",
       "      <td>NaN</td>\n",
       "      <td>2018-12-09 00:00:00</td>\n",
       "      <td>NaN</td>\n",
       "    </tr>\n",
       "    <tr>\n",
       "      <th>17</th>\n",
       "      <td>Employee_19</td>\n",
       "      <td>33.0</td>\n",
       "      <td>Male</td>\n",
       "      <td>Bangalore</td>\n",
       "      <td>Sales</td>\n",
       "      <td>NaN</td>\n",
       "      <td>2020-08-18 00:00:00</td>\n",
       "      <td>NaN</td>\n",
       "    </tr>\n",
       "    <tr>\n",
       "      <th>19</th>\n",
       "      <td>Employee_21</td>\n",
       "      <td>46.0</td>\n",
       "      <td>Female</td>\n",
       "      <td>Delhi</td>\n",
       "      <td>Human Resources</td>\n",
       "      <td>NaN</td>\n",
       "      <td>2022-11-03 00:00:00</td>\n",
       "      <td>NaN</td>\n",
       "    </tr>\n",
       "    <tr>\n",
       "      <th>26</th>\n",
       "      <td>Employee_28</td>\n",
       "      <td>42.0</td>\n",
       "      <td>Male</td>\n",
       "      <td>Delhi</td>\n",
       "      <td>Finance</td>\n",
       "      <td>NaN</td>\n",
       "      <td>2016-09-19 00:00:00</td>\n",
       "      <td>NaN</td>\n",
       "    </tr>\n",
       "    <tr>\n",
       "      <th>41</th>\n",
       "      <td>Employee_43</td>\n",
       "      <td>25.0</td>\n",
       "      <td>Male</td>\n",
       "      <td>Chennai</td>\n",
       "      <td>Human Resources</td>\n",
       "      <td>NaN</td>\n",
       "      <td>2022-11-09 00:00:00</td>\n",
       "      <td>NaN</td>\n",
       "    </tr>\n",
       "  </tbody>\n",
       "</table>\n",
       "</div>"
      ],
      "text/plain": [
       "           Name   Age  Gender       City       Department  Salary  \\\n",
       "4    Employee_5  40.0  Female      Delhi               IT     NaN   \n",
       "17  Employee_19  33.0    Male  Bangalore            Sales     NaN   \n",
       "19  Employee_21  46.0  Female      Delhi  Human Resources     NaN   \n",
       "26  Employee_28  42.0    Male      Delhi          Finance     NaN   \n",
       "41  Employee_43  25.0    Male    Chennai  Human Resources     NaN   \n",
       "\n",
       "               JoinDate  Tax  \n",
       "4   2018-12-09 00:00:00  NaN  \n",
       "17  2020-08-18 00:00:00  NaN  \n",
       "19  2022-11-03 00:00:00  NaN  \n",
       "26  2016-09-19 00:00:00  NaN  \n",
       "41  2022-11-09 00:00:00  NaN  "
      ]
     },
     "execution_count": 24,
     "metadata": {},
     "output_type": "execute_result"
    }
   ],
   "source": [
    "salary_missing = df[df['Salary'].isnull()]\n",
    "print(f\"Number of rows with missing Salary: {len(salary_missing)}\")\n",
    "salary_missing"
   ]
  },
  {
   "cell_type": "markdown",
   "id": "244e1acb",
   "metadata": {},
   "source": [
    "23. Count values in each row."
   ]
  },
  {
   "cell_type": "code",
   "execution_count": 25,
   "id": "d12c938b",
   "metadata": {},
   "outputs": [
    {
     "name": "stdout",
     "output_type": "stream",
     "text": [
      "Non-null value count for each row:\n"
     ]
    },
    {
     "data": {
      "application/vnd.microsoft.datawrangler.viewer.v0+json": {
       "columns": [
        {
         "name": "index",
         "rawType": "int64",
         "type": "integer"
        },
        {
         "name": "Name",
         "rawType": "object",
         "type": "string"
        },
        {
         "name": "Non_Null_Count",
         "rawType": "int64",
         "type": "integer"
        }
       ],
       "ref": "b2c9c62f-4312-45d7-bd99-c41c59fb8848",
       "rows": [
        [
         "0",
         "Employee_1",
         "8"
        ],
        [
         "1",
         "Employee_2",
         "8"
        ],
        [
         "2",
         "Employee_3",
         "7"
        ],
        [
         "3",
         "Employee_4",
         "8"
        ],
        [
         "4",
         "Employee_5",
         "7"
        ],
        [
         "5",
         "Employee_6",
         "8"
        ],
        [
         "6",
         "Employee_7",
         "7"
        ],
        [
         "7",
         "Employee_8",
         "8"
        ],
        [
         "8",
         "Employee_9",
         "8"
        ],
        [
         "9",
         "Employee_10",
         "8"
        ]
       ],
       "shape": {
        "columns": 2,
        "rows": 10
       }
      },
      "text/html": [
       "<div>\n",
       "<style scoped>\n",
       "    .dataframe tbody tr th:only-of-type {\n",
       "        vertical-align: middle;\n",
       "    }\n",
       "\n",
       "    .dataframe tbody tr th {\n",
       "        vertical-align: top;\n",
       "    }\n",
       "\n",
       "    .dataframe thead th {\n",
       "        text-align: right;\n",
       "    }\n",
       "</style>\n",
       "<table border=\"1\" class=\"dataframe\">\n",
       "  <thead>\n",
       "    <tr style=\"text-align: right;\">\n",
       "      <th></th>\n",
       "      <th>Name</th>\n",
       "      <th>Non_Null_Count</th>\n",
       "    </tr>\n",
       "  </thead>\n",
       "  <tbody>\n",
       "    <tr>\n",
       "      <th>0</th>\n",
       "      <td>Employee_1</td>\n",
       "      <td>8</td>\n",
       "    </tr>\n",
       "    <tr>\n",
       "      <th>1</th>\n",
       "      <td>Employee_2</td>\n",
       "      <td>8</td>\n",
       "    </tr>\n",
       "    <tr>\n",
       "      <th>2</th>\n",
       "      <td>Employee_3</td>\n",
       "      <td>7</td>\n",
       "    </tr>\n",
       "    <tr>\n",
       "      <th>3</th>\n",
       "      <td>Employee_4</td>\n",
       "      <td>8</td>\n",
       "    </tr>\n",
       "    <tr>\n",
       "      <th>4</th>\n",
       "      <td>Employee_5</td>\n",
       "      <td>7</td>\n",
       "    </tr>\n",
       "    <tr>\n",
       "      <th>5</th>\n",
       "      <td>Employee_6</td>\n",
       "      <td>8</td>\n",
       "    </tr>\n",
       "    <tr>\n",
       "      <th>6</th>\n",
       "      <td>Employee_7</td>\n",
       "      <td>7</td>\n",
       "    </tr>\n",
       "    <tr>\n",
       "      <th>7</th>\n",
       "      <td>Employee_8</td>\n",
       "      <td>8</td>\n",
       "    </tr>\n",
       "    <tr>\n",
       "      <th>8</th>\n",
       "      <td>Employee_9</td>\n",
       "      <td>8</td>\n",
       "    </tr>\n",
       "    <tr>\n",
       "      <th>9</th>\n",
       "      <td>Employee_10</td>\n",
       "      <td>8</td>\n",
       "    </tr>\n",
       "  </tbody>\n",
       "</table>\n",
       "</div>"
      ],
      "text/plain": [
       "          Name  Non_Null_Count\n",
       "0   Employee_1               8\n",
       "1   Employee_2               8\n",
       "2   Employee_3               7\n",
       "3   Employee_4               8\n",
       "4   Employee_5               7\n",
       "5   Employee_6               8\n",
       "6   Employee_7               7\n",
       "7   Employee_8               8\n",
       "8   Employee_9               8\n",
       "9  Employee_10               8"
      ]
     },
     "execution_count": 25,
     "metadata": {},
     "output_type": "execute_result"
    }
   ],
   "source": [
    "df = pd.read_csv('employee_data_with_nulls.csv')\n",
    "df['Non_Null_Count'] = df.count(axis=1)\n",
    "print(\"Non-null value count for each row:\")\n",
    "df[['Name', 'Non_Null_Count']].head(10)"
   ]
  },
  {
   "cell_type": "markdown",
   "id": "830f1a5f",
   "metadata": {},
   "source": [
    "24. Drop all rows with any missing values."
   ]
  },
  {
   "cell_type": "code",
   "execution_count": 26,
   "id": "d7c7b0e6",
   "metadata": {},
   "outputs": [
    {
     "name": "stdout",
     "output_type": "stream",
     "text": [
      "Original DataFrame shape: (50, 9)\n",
      "DataFrame after dropping rows with missing values: (39, 9)\n",
      "Rows dropped: 11\n"
     ]
    },
    {
     "data": {
      "application/vnd.microsoft.datawrangler.viewer.v0+json": {
       "columns": [
        {
         "name": "index",
         "rawType": "int64",
         "type": "integer"
        },
        {
         "name": "Name",
         "rawType": "object",
         "type": "string"
        },
        {
         "name": "Age",
         "rawType": "float64",
         "type": "float"
        },
        {
         "name": "Gender",
         "rawType": "object",
         "type": "string"
        },
        {
         "name": "City",
         "rawType": "object",
         "type": "string"
        },
        {
         "name": "Department",
         "rawType": "object",
         "type": "string"
        },
        {
         "name": "Salary",
         "rawType": "float64",
         "type": "float"
        },
        {
         "name": "JoinDate",
         "rawType": "object",
         "type": "string"
        },
        {
         "name": "Status",
         "rawType": "object",
         "type": "string"
        },
        {
         "name": "Non_Null_Count",
         "rawType": "int64",
         "type": "integer"
        }
       ],
       "ref": "24b550d7-7f21-45e8-b68f-57fd3cb4af8c",
       "rows": [
        [
         "0",
         "Employee_1",
         "50.0",
         "Female",
         "Delhi",
         "Finance",
         "83053.0",
         "2019-12-08",
         "Terminated",
         "8"
        ],
        [
         "1",
         "Employee_2",
         "36.0",
         "Female",
         "Mumbai",
         "Finance",
         "46959.0",
         "2021-11-25",
         "Terminated",
         "8"
        ],
        [
         "3",
         "Employee_4",
         "42.0",
         "Male",
         "Bangalore",
         "HR",
         "28748.0",
         "2021-01-07",
         "Active",
         "8"
        ],
        [
         "5",
         "Employee_6",
         "44.0",
         "Male",
         "Chennai",
         "IT",
         "91199.0",
         "2019-06-23",
         "Terminated",
         "8"
        ],
        [
         "7",
         "Employee_8",
         "32.0",
         "Female",
         "Bangalore",
         "IT",
         "86087.0",
         "2019-11-23",
         "Terminated",
         "8"
        ]
       ],
       "shape": {
        "columns": 9,
        "rows": 5
       }
      },
      "text/html": [
       "<div>\n",
       "<style scoped>\n",
       "    .dataframe tbody tr th:only-of-type {\n",
       "        vertical-align: middle;\n",
       "    }\n",
       "\n",
       "    .dataframe tbody tr th {\n",
       "        vertical-align: top;\n",
       "    }\n",
       "\n",
       "    .dataframe thead th {\n",
       "        text-align: right;\n",
       "    }\n",
       "</style>\n",
       "<table border=\"1\" class=\"dataframe\">\n",
       "  <thead>\n",
       "    <tr style=\"text-align: right;\">\n",
       "      <th></th>\n",
       "      <th>Name</th>\n",
       "      <th>Age</th>\n",
       "      <th>Gender</th>\n",
       "      <th>City</th>\n",
       "      <th>Department</th>\n",
       "      <th>Salary</th>\n",
       "      <th>JoinDate</th>\n",
       "      <th>Status</th>\n",
       "      <th>Non_Null_Count</th>\n",
       "    </tr>\n",
       "  </thead>\n",
       "  <tbody>\n",
       "    <tr>\n",
       "      <th>0</th>\n",
       "      <td>Employee_1</td>\n",
       "      <td>50.0</td>\n",
       "      <td>Female</td>\n",
       "      <td>Delhi</td>\n",
       "      <td>Finance</td>\n",
       "      <td>83053.0</td>\n",
       "      <td>2019-12-08</td>\n",
       "      <td>Terminated</td>\n",
       "      <td>8</td>\n",
       "    </tr>\n",
       "    <tr>\n",
       "      <th>1</th>\n",
       "      <td>Employee_2</td>\n",
       "      <td>36.0</td>\n",
       "      <td>Female</td>\n",
       "      <td>Mumbai</td>\n",
       "      <td>Finance</td>\n",
       "      <td>46959.0</td>\n",
       "      <td>2021-11-25</td>\n",
       "      <td>Terminated</td>\n",
       "      <td>8</td>\n",
       "    </tr>\n",
       "    <tr>\n",
       "      <th>3</th>\n",
       "      <td>Employee_4</td>\n",
       "      <td>42.0</td>\n",
       "      <td>Male</td>\n",
       "      <td>Bangalore</td>\n",
       "      <td>HR</td>\n",
       "      <td>28748.0</td>\n",
       "      <td>2021-01-07</td>\n",
       "      <td>Active</td>\n",
       "      <td>8</td>\n",
       "    </tr>\n",
       "    <tr>\n",
       "      <th>5</th>\n",
       "      <td>Employee_6</td>\n",
       "      <td>44.0</td>\n",
       "      <td>Male</td>\n",
       "      <td>Chennai</td>\n",
       "      <td>IT</td>\n",
       "      <td>91199.0</td>\n",
       "      <td>2019-06-23</td>\n",
       "      <td>Terminated</td>\n",
       "      <td>8</td>\n",
       "    </tr>\n",
       "    <tr>\n",
       "      <th>7</th>\n",
       "      <td>Employee_8</td>\n",
       "      <td>32.0</td>\n",
       "      <td>Female</td>\n",
       "      <td>Bangalore</td>\n",
       "      <td>IT</td>\n",
       "      <td>86087.0</td>\n",
       "      <td>2019-11-23</td>\n",
       "      <td>Terminated</td>\n",
       "      <td>8</td>\n",
       "    </tr>\n",
       "  </tbody>\n",
       "</table>\n",
       "</div>"
      ],
      "text/plain": [
       "         Name   Age  Gender       City Department   Salary    JoinDate  \\\n",
       "0  Employee_1  50.0  Female      Delhi    Finance  83053.0  2019-12-08   \n",
       "1  Employee_2  36.0  Female     Mumbai    Finance  46959.0  2021-11-25   \n",
       "3  Employee_4  42.0    Male  Bangalore         HR  28748.0  2021-01-07   \n",
       "5  Employee_6  44.0    Male    Chennai         IT  91199.0  2019-06-23   \n",
       "7  Employee_8  32.0  Female  Bangalore         IT  86087.0  2019-11-23   \n",
       "\n",
       "       Status  Non_Null_Count  \n",
       "0  Terminated               8  \n",
       "1  Terminated               8  \n",
       "3      Active               8  \n",
       "5  Terminated               8  \n",
       "7  Terminated               8  "
      ]
     },
     "execution_count": 26,
     "metadata": {},
     "output_type": "execute_result"
    }
   ],
   "source": [
    "df_no_missing = df.dropna()\n",
    "print(f\"Original DataFrame shape: {df.shape}\")\n",
    "print(f\"DataFrame after dropping rows with missing values: {df_no_missing.shape}\")\n",
    "print(f\"Rows dropped: {df.shape[0] - df_no_missing.shape[0]}\")\n",
    "df_no_missing.head()"
   ]
  },
  {
   "cell_type": "markdown",
   "id": "c2ac8bf7",
   "metadata": {},
   "source": [
    "25. Drop coloumns where all values are missing."
   ]
  },
  {
   "cell_type": "code",
   "execution_count": 27,
   "id": "d5b6e050",
   "metadata": {},
   "outputs": [
    {
     "name": "stdout",
     "output_type": "stream",
     "text": [
      "Original DataFrame shape: (50, 8)\n",
      "DataFrame after dropping columns with all missing values: (50, 8)\n",
      "Remaining columns: ['Name', 'Age', 'Gender', 'City', 'Department', 'Salary', 'JoinDate', 'Status']\n"
     ]
    }
   ],
   "source": [
    "df = pd.read_csv('employee_data_with_nulls.csv')\n",
    "df_clean = df.dropna(axis=1, how='all')\n",
    "print(f\"Original DataFrame shape: {df.shape}\")\n",
    "print(f\"DataFrame after dropping columns with all missing values: {df_clean.shape}\")\n",
    "print(\"Remaining columns:\", df_clean.columns.tolist())"
   ]
  },
  {
   "cell_type": "markdown",
   "id": "266cf06c",
   "metadata": {},
   "source": [
    "26. Fill missing values in `Department` with 'Unknown'."
   ]
  },
  {
   "cell_type": "code",
   "execution_count": 28,
   "id": "541bf44b",
   "metadata": {},
   "outputs": [
    {
     "name": "stdout",
     "output_type": "stream",
     "text": [
      "Missing Department values filled with 'Unknown'\n",
      "Department value counts:\n",
      "Department\n",
      "HR         14\n",
      "Finance    13\n",
      "IT         11\n",
      "Sales       8\n",
      "Unknown     4\n",
      "Name: count, dtype: int64\n"
     ]
    }
   ],
   "source": [
    "df = pd.read_csv('employee_data_with_nulls.csv')\n",
    "df['Department'] = df['Department'].fillna('Unknown')\n",
    "print(\"Missing Department values filled with 'Unknown'\")\n",
    "print(\"Department value counts:\")\n",
    "print(df['Department'].value_counts())"
   ]
  },
  {
   "cell_type": "markdown",
   "id": "c8e83024",
   "metadata": {},
   "source": [
    "27. Replace missing `Salary` values with the mean of the column."
   ]
  },
  {
   "cell_type": "code",
   "execution_count": 29,
   "id": "13a6199b",
   "metadata": {},
   "outputs": [
    {
     "name": "stdout",
     "output_type": "stream",
     "text": [
      "Missing Salary values filled with mean: 63068.78\n",
      "Missing values in Salary column after filling: 0\n"
     ]
    },
    {
     "data": {
      "application/vnd.microsoft.datawrangler.viewer.v0+json": {
       "columns": [
        {
         "name": "index",
         "rawType": "int64",
         "type": "integer"
        },
        {
         "name": "Name",
         "rawType": "object",
         "type": "string"
        },
        {
         "name": "Salary",
         "rawType": "float64",
         "type": "float"
        }
       ],
       "ref": "53cd4757-844d-4b16-9031-728cd1de297f",
       "rows": [
        [
         "0",
         "Employee_1",
         "83053.0"
        ],
        [
         "1",
         "Employee_2",
         "46959.0"
        ],
        [
         "2",
         "Employee_3",
         "30530.0"
        ],
        [
         "3",
         "Employee_4",
         "28748.0"
        ],
        [
         "4",
         "Employee_5",
         "63068.77777777778"
        ],
        [
         "5",
         "Employee_6",
         "91199.0"
        ],
        [
         "6",
         "Employee_7",
         "59766.0"
        ],
        [
         "7",
         "Employee_8",
         "86087.0"
        ],
        [
         "8",
         "Employee_9",
         "93840.0"
        ],
        [
         "9",
         "Employee_10",
         "79384.0"
        ]
       ],
       "shape": {
        "columns": 2,
        "rows": 10
       }
      },
      "text/html": [
       "<div>\n",
       "<style scoped>\n",
       "    .dataframe tbody tr th:only-of-type {\n",
       "        vertical-align: middle;\n",
       "    }\n",
       "\n",
       "    .dataframe tbody tr th {\n",
       "        vertical-align: top;\n",
       "    }\n",
       "\n",
       "    .dataframe thead th {\n",
       "        text-align: right;\n",
       "    }\n",
       "</style>\n",
       "<table border=\"1\" class=\"dataframe\">\n",
       "  <thead>\n",
       "    <tr style=\"text-align: right;\">\n",
       "      <th></th>\n",
       "      <th>Name</th>\n",
       "      <th>Salary</th>\n",
       "    </tr>\n",
       "  </thead>\n",
       "  <tbody>\n",
       "    <tr>\n",
       "      <th>0</th>\n",
       "      <td>Employee_1</td>\n",
       "      <td>83053.000000</td>\n",
       "    </tr>\n",
       "    <tr>\n",
       "      <th>1</th>\n",
       "      <td>Employee_2</td>\n",
       "      <td>46959.000000</td>\n",
       "    </tr>\n",
       "    <tr>\n",
       "      <th>2</th>\n",
       "      <td>Employee_3</td>\n",
       "      <td>30530.000000</td>\n",
       "    </tr>\n",
       "    <tr>\n",
       "      <th>3</th>\n",
       "      <td>Employee_4</td>\n",
       "      <td>28748.000000</td>\n",
       "    </tr>\n",
       "    <tr>\n",
       "      <th>4</th>\n",
       "      <td>Employee_5</td>\n",
       "      <td>63068.777778</td>\n",
       "    </tr>\n",
       "    <tr>\n",
       "      <th>5</th>\n",
       "      <td>Employee_6</td>\n",
       "      <td>91199.000000</td>\n",
       "    </tr>\n",
       "    <tr>\n",
       "      <th>6</th>\n",
       "      <td>Employee_7</td>\n",
       "      <td>59766.000000</td>\n",
       "    </tr>\n",
       "    <tr>\n",
       "      <th>7</th>\n",
       "      <td>Employee_8</td>\n",
       "      <td>86087.000000</td>\n",
       "    </tr>\n",
       "    <tr>\n",
       "      <th>8</th>\n",
       "      <td>Employee_9</td>\n",
       "      <td>93840.000000</td>\n",
       "    </tr>\n",
       "    <tr>\n",
       "      <th>9</th>\n",
       "      <td>Employee_10</td>\n",
       "      <td>79384.000000</td>\n",
       "    </tr>\n",
       "  </tbody>\n",
       "</table>\n",
       "</div>"
      ],
      "text/plain": [
       "          Name        Salary\n",
       "0   Employee_1  83053.000000\n",
       "1   Employee_2  46959.000000\n",
       "2   Employee_3  30530.000000\n",
       "3   Employee_4  28748.000000\n",
       "4   Employee_5  63068.777778\n",
       "5   Employee_6  91199.000000\n",
       "6   Employee_7  59766.000000\n",
       "7   Employee_8  86087.000000\n",
       "8   Employee_9  93840.000000\n",
       "9  Employee_10  79384.000000"
      ]
     },
     "execution_count": 29,
     "metadata": {},
     "output_type": "execute_result"
    }
   ],
   "source": [
    "salary_mean = df['Salary'].mean()\n",
    "df['Salary'] = df['Salary'].fillna(salary_mean)\n",
    "print(f\"Missing Salary values filled with mean: {salary_mean:.2f}\")\n",
    "print(f\"Missing values in Salary column after filling: {df['Salary'].isnull().sum()}\")\n",
    "df[['Name', 'Salary']].head(10)"
   ]
  },
  {
   "cell_type": "markdown",
   "id": "4b3f5dde",
   "metadata": {},
   "source": [
    "28. Replace missing `Age` values with the median of the column."
   ]
  },
  {
   "cell_type": "code",
   "execution_count": 30,
   "id": "415039e6",
   "metadata": {},
   "outputs": [
    {
     "name": "stdout",
     "output_type": "stream",
     "text": [
      "Missing Age values filled with median: 39.0\n",
      "Missing values in Age column after filling: 0\n"
     ]
    },
    {
     "data": {
      "application/vnd.microsoft.datawrangler.viewer.v0+json": {
       "columns": [
        {
         "name": "index",
         "rawType": "int64",
         "type": "integer"
        },
        {
         "name": "Name",
         "rawType": "object",
         "type": "string"
        },
        {
         "name": "Age",
         "rawType": "float64",
         "type": "float"
        }
       ],
       "ref": "e58e8c5a-c62e-4718-9e3e-14e1ab323870",
       "rows": [
        [
         "0",
         "Employee_1",
         "50.0"
        ],
        [
         "1",
         "Employee_2",
         "36.0"
        ],
        [
         "2",
         "Employee_3",
         "29.0"
        ],
        [
         "3",
         "Employee_4",
         "42.0"
        ],
        [
         "4",
         "Employee_5",
         "40.0"
        ],
        [
         "5",
         "Employee_6",
         "44.0"
        ],
        [
         "6",
         "Employee_7",
         "39.0"
        ],
        [
         "7",
         "Employee_8",
         "32.0"
        ],
        [
         "8",
         "Employee_9",
         "45.0"
        ],
        [
         "9",
         "Employee_10",
         "45.0"
        ]
       ],
       "shape": {
        "columns": 2,
        "rows": 10
       }
      },
      "text/html": [
       "<div>\n",
       "<style scoped>\n",
       "    .dataframe tbody tr th:only-of-type {\n",
       "        vertical-align: middle;\n",
       "    }\n",
       "\n",
       "    .dataframe tbody tr th {\n",
       "        vertical-align: top;\n",
       "    }\n",
       "\n",
       "    .dataframe thead th {\n",
       "        text-align: right;\n",
       "    }\n",
       "</style>\n",
       "<table border=\"1\" class=\"dataframe\">\n",
       "  <thead>\n",
       "    <tr style=\"text-align: right;\">\n",
       "      <th></th>\n",
       "      <th>Name</th>\n",
       "      <th>Age</th>\n",
       "    </tr>\n",
       "  </thead>\n",
       "  <tbody>\n",
       "    <tr>\n",
       "      <th>0</th>\n",
       "      <td>Employee_1</td>\n",
       "      <td>50.0</td>\n",
       "    </tr>\n",
       "    <tr>\n",
       "      <th>1</th>\n",
       "      <td>Employee_2</td>\n",
       "      <td>36.0</td>\n",
       "    </tr>\n",
       "    <tr>\n",
       "      <th>2</th>\n",
       "      <td>Employee_3</td>\n",
       "      <td>29.0</td>\n",
       "    </tr>\n",
       "    <tr>\n",
       "      <th>3</th>\n",
       "      <td>Employee_4</td>\n",
       "      <td>42.0</td>\n",
       "    </tr>\n",
       "    <tr>\n",
       "      <th>4</th>\n",
       "      <td>Employee_5</td>\n",
       "      <td>40.0</td>\n",
       "    </tr>\n",
       "    <tr>\n",
       "      <th>5</th>\n",
       "      <td>Employee_6</td>\n",
       "      <td>44.0</td>\n",
       "    </tr>\n",
       "    <tr>\n",
       "      <th>6</th>\n",
       "      <td>Employee_7</td>\n",
       "      <td>39.0</td>\n",
       "    </tr>\n",
       "    <tr>\n",
       "      <th>7</th>\n",
       "      <td>Employee_8</td>\n",
       "      <td>32.0</td>\n",
       "    </tr>\n",
       "    <tr>\n",
       "      <th>8</th>\n",
       "      <td>Employee_9</td>\n",
       "      <td>45.0</td>\n",
       "    </tr>\n",
       "    <tr>\n",
       "      <th>9</th>\n",
       "      <td>Employee_10</td>\n",
       "      <td>45.0</td>\n",
       "    </tr>\n",
       "  </tbody>\n",
       "</table>\n",
       "</div>"
      ],
      "text/plain": [
       "          Name   Age\n",
       "0   Employee_1  50.0\n",
       "1   Employee_2  36.0\n",
       "2   Employee_3  29.0\n",
       "3   Employee_4  42.0\n",
       "4   Employee_5  40.0\n",
       "5   Employee_6  44.0\n",
       "6   Employee_7  39.0\n",
       "7   Employee_8  32.0\n",
       "8   Employee_9  45.0\n",
       "9  Employee_10  45.0"
      ]
     },
     "execution_count": 30,
     "metadata": {},
     "output_type": "execute_result"
    }
   ],
   "source": [
    "age_median = df['Age'].median()\n",
    "df['Age'] = df['Age'].fillna(age_median)\n",
    "print(f\"Missing Age values filled with median: {age_median}\")\n",
    "print(f\"Missing values in Age column after filling: {df['Age'].isnull().sum()}\")\n",
    "df[['Name', 'Age']].head(10)"
   ]
  },
  {
   "cell_type": "markdown",
   "id": "5bcad1ad",
   "metadata": {},
   "source": [
    "29. Display unique values from `Department`."
   ]
  },
  {
   "cell_type": "code",
   "execution_count": 31,
   "id": "ff4629ea",
   "metadata": {},
   "outputs": [
    {
     "name": "stdout",
     "output_type": "stream",
     "text": [
      "Unique departments:\n",
      "['Finance' 'Unknown' 'HR' 'IT' 'Sales']\n",
      "\n",
      "Number of unique departments: 5\n",
      "\n",
      "Department value counts:\n",
      "Department\n",
      "HR         14\n",
      "Finance    13\n",
      "IT         11\n",
      "Sales       8\n",
      "Unknown     4\n",
      "Name: count, dtype: int64\n"
     ]
    }
   ],
   "source": [
    "unique_departments = df['Department'].unique()\n",
    "print(\"Unique departments:\")\n",
    "print(unique_departments)\n",
    "print(f\"\\nNumber of unique departments: {len(unique_departments)}\")\n",
    "print(\"\\nDepartment value counts:\")\n",
    "print(df['Department'].value_counts())"
   ]
  },
  {
   "cell_type": "markdown",
   "id": "38d9cd5f",
   "metadata": {},
   "source": [
    "30. Convert uppercase for column 'City'."
   ]
  },
  {
   "cell_type": "code",
   "execution_count": 32,
   "id": "ac944bbe",
   "metadata": {},
   "outputs": [
    {
     "name": "stdout",
     "output_type": "stream",
     "text": [
      "City column converted to uppercase\n",
      "Unique cities after conversion:\n",
      "['DELHI' 'MUMBAI' 'CHENNAI' 'BANGALORE']\n"
     ]
    },
    {
     "data": {
      "application/vnd.microsoft.datawrangler.viewer.v0+json": {
       "columns": [
        {
         "name": "index",
         "rawType": "int64",
         "type": "integer"
        },
        {
         "name": "Name",
         "rawType": "object",
         "type": "string"
        },
        {
         "name": "City",
         "rawType": "object",
         "type": "string"
        }
       ],
       "ref": "c9ed4e90-87d1-44ca-927c-a9b999e17aab",
       "rows": [
        [
         "0",
         "Employee_1",
         "DELHI"
        ],
        [
         "1",
         "Employee_2",
         "MUMBAI"
        ],
        [
         "2",
         "Employee_3",
         "CHENNAI"
        ],
        [
         "3",
         "Employee_4",
         "BANGALORE"
        ],
        [
         "4",
         "Employee_5",
         "DELHI"
        ],
        [
         "5",
         "Employee_6",
         "CHENNAI"
        ],
        [
         "6",
         "Employee_7",
         "BANGALORE"
        ],
        [
         "7",
         "Employee_8",
         "BANGALORE"
        ],
        [
         "8",
         "Employee_9",
         "MUMBAI"
        ],
        [
         "9",
         "Employee_10",
         "CHENNAI"
        ]
       ],
       "shape": {
        "columns": 2,
        "rows": 10
       }
      },
      "text/html": [
       "<div>\n",
       "<style scoped>\n",
       "    .dataframe tbody tr th:only-of-type {\n",
       "        vertical-align: middle;\n",
       "    }\n",
       "\n",
       "    .dataframe tbody tr th {\n",
       "        vertical-align: top;\n",
       "    }\n",
       "\n",
       "    .dataframe thead th {\n",
       "        text-align: right;\n",
       "    }\n",
       "</style>\n",
       "<table border=\"1\" class=\"dataframe\">\n",
       "  <thead>\n",
       "    <tr style=\"text-align: right;\">\n",
       "      <th></th>\n",
       "      <th>Name</th>\n",
       "      <th>City</th>\n",
       "    </tr>\n",
       "  </thead>\n",
       "  <tbody>\n",
       "    <tr>\n",
       "      <th>0</th>\n",
       "      <td>Employee_1</td>\n",
       "      <td>DELHI</td>\n",
       "    </tr>\n",
       "    <tr>\n",
       "      <th>1</th>\n",
       "      <td>Employee_2</td>\n",
       "      <td>MUMBAI</td>\n",
       "    </tr>\n",
       "    <tr>\n",
       "      <th>2</th>\n",
       "      <td>Employee_3</td>\n",
       "      <td>CHENNAI</td>\n",
       "    </tr>\n",
       "    <tr>\n",
       "      <th>3</th>\n",
       "      <td>Employee_4</td>\n",
       "      <td>BANGALORE</td>\n",
       "    </tr>\n",
       "    <tr>\n",
       "      <th>4</th>\n",
       "      <td>Employee_5</td>\n",
       "      <td>DELHI</td>\n",
       "    </tr>\n",
       "    <tr>\n",
       "      <th>5</th>\n",
       "      <td>Employee_6</td>\n",
       "      <td>CHENNAI</td>\n",
       "    </tr>\n",
       "    <tr>\n",
       "      <th>6</th>\n",
       "      <td>Employee_7</td>\n",
       "      <td>BANGALORE</td>\n",
       "    </tr>\n",
       "    <tr>\n",
       "      <th>7</th>\n",
       "      <td>Employee_8</td>\n",
       "      <td>BANGALORE</td>\n",
       "    </tr>\n",
       "    <tr>\n",
       "      <th>8</th>\n",
       "      <td>Employee_9</td>\n",
       "      <td>MUMBAI</td>\n",
       "    </tr>\n",
       "    <tr>\n",
       "      <th>9</th>\n",
       "      <td>Employee_10</td>\n",
       "      <td>CHENNAI</td>\n",
       "    </tr>\n",
       "  </tbody>\n",
       "</table>\n",
       "</div>"
      ],
      "text/plain": [
       "          Name       City\n",
       "0   Employee_1      DELHI\n",
       "1   Employee_2     MUMBAI\n",
       "2   Employee_3    CHENNAI\n",
       "3   Employee_4  BANGALORE\n",
       "4   Employee_5      DELHI\n",
       "5   Employee_6    CHENNAI\n",
       "6   Employee_7  BANGALORE\n",
       "7   Employee_8  BANGALORE\n",
       "8   Employee_9     MUMBAI\n",
       "9  Employee_10    CHENNAI"
      ]
     },
     "execution_count": 32,
     "metadata": {},
     "output_type": "execute_result"
    }
   ],
   "source": [
    "df['City'] = df['City'].str.upper()\n",
    "print(\"City column converted to uppercase\")\n",
    "print(\"Unique cities after conversion:\")\n",
    "print(df['City'].unique())\n",
    "df[['Name', 'City']].head(10)"
   ]
  }
 ],
 "metadata": {
  "kernelspec": {
   "display_name": "Python 3",
   "language": "python",
   "name": "python3"
  },
  "language_info": {
   "codemirror_mode": {
    "name": "ipython",
    "version": 3
   },
   "file_extension": ".py",
   "mimetype": "text/x-python",
   "name": "python",
   "nbconvert_exporter": "python",
   "pygments_lexer": "ipython3",
   "version": "3.13.5"
  }
 },
 "nbformat": 4,
 "nbformat_minor": 5
}
