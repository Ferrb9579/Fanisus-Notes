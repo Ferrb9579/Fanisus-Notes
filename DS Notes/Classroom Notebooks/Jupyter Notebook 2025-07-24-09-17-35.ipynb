{
 "cells": [
  {
   "cell_type": "code",
   "execution_count": 1,
   "id": "33c09b56-f9d8-4f34-b621-a849aa7adb78",
   "metadata": {},
   "outputs": [
    {
     "name": "stdout",
     "output_type": "stream",
     "text": [
      "Energy Consumption Data (24 hours):\n",
      " [3.50420069 3.07106822 2.96110312 2.27799059 3.82199038 3.69238177\n",
      " 4.91522581 4.83682984 3.7467373  3.39342151 3.80585392 3.81674801\n",
      " 4.20078497 2.6422863  3.7902797  2.18102506 2.76612903 3.87099162\n",
      " 3.32234034 2.08835553 4.45622675 3.38909851 4.31145794 2.83951727]\n"
     ]
    }
   ],
   "source": [
    "import numpy as np\n",
    "\n",
    "energy_consumption = np.random.uniform(1.5, 5.0, 24)\n",
    "print(\"Energy Consumption Data (24 hours):\\n\", energy_consumption)"
   ]
  },
  {
   "cell_type": "code",
   "execution_count": 2,
   "id": "6b4782e3-7e23-429a-acab-54ab2a2ac307",
   "metadata": {},
   "outputs": [
    {
     "name": "stdout",
     "output_type": "stream",
     "text": [
      "\n",
      "Average Energy Consumption: 3.49 kWh\n",
      "Maximum Energy Consumption: 4.92 kWh\n",
      "Minimum Energy Consumption: 2.09 kWh\n",
      "\n",
      "Energy consumption at hour 3: 2.96 kWh\n",
      "\n",
      "Sorted Energy Consumption:\n",
      " [2.08835553 2.18102506 2.27799059 2.6422863  2.76612903 2.83951727\n",
      " 2.96110312 3.07106822 3.32234034 3.38909851 3.39342151 3.50420069\n",
      " 3.69238177 3.7467373  3.7902797  3.80585392 3.81674801 3.82199038\n",
      " 3.87099162 4.20078497 4.31145794 4.45622675 4.83682984 4.91522581]\n",
      "\n",
      "Energy usage greater than 3.0 kWh:\n",
      " [3.50420069 3.07106822 3.82199038 3.69238177 4.91522581 4.83682984\n",
      " 3.7467373  3.39342151 3.80585392 3.81674801 4.20078497 3.7902797\n",
      " 3.87099162 3.32234034 4.45622675 3.38909851 4.31145794]\n",
      "\n",
      "Number of hours with consumption between 2.5 and 4.0 kWh: 16\n",
      "\n",
      "Reshaped 6x4 Energy Consumption Array:\n",
      " [[3.50420069 3.07106822 2.96110312 2.27799059]\n",
      " [3.82199038 3.69238177 4.91522581 4.83682984]\n",
      " [3.7467373  3.39342151 3.80585392 3.81674801]\n",
      " [4.20078497 2.6422863  3.7902797  2.18102506]\n",
      " [2.76612903 3.87099162 3.32234034 2.08835553]\n",
      " [4.45622675 3.38909851 4.31145794 2.83951727]]\n",
      "\n",
      "Row-wise sums:\n",
      " [11.81436262 17.2664278  14.76276075 12.81437603 12.04781652 14.99630047]\n",
      "Column-wise sums:\n",
      " [22.49606913 20.05924793 23.10626083 18.0404663 ]\n"
     ]
    }
   ],
   "source": [
    "average_consumption = np.mean(energy_consumption)\n",
    "print(f\"\\nAverage Energy Consumption: {average_consumption:.2f} kWh\")\n",
    "\n",
    "max_consumption = np.max(energy_consumption)\n",
    "min_consumption = np.min(energy_consumption)\n",
    "print(f\"Maximum Energy Consumption: {max_consumption:.2f} kWh\")\n",
    "print(f\"Minimum Energy Consumption: {min_consumption:.2f} kWh\")\n",
    "\n",
    "hour_3_consumption = energy_consumption[2]\n",
    "print(f\"\\nEnergy consumption at hour 3: {hour_3_consumption:.2f} kWh\")\n",
    "\n",
    "sorted_consumption = np.sort(energy_consumption)\n",
    "print(\"\\nSorted Energy Consumption:\\n\", sorted_consumption)\n",
    "\n",
    "high_usage = energy_consumption[energy_consumption > 3.0]\n",
    "print(\"\\nEnergy usage greater than 3.0 kWh:\\n\", high_usage)\n",
    "\n",
    "specific_range_count = np.sum((energy_consumption >= 2.5) & (energy_consumption <= 4.0))\n",
    "print(f\"\\nNumber of hours with consumption between 2.5 and 4.0 kWh: {specific_range_count}\")\n",
    "\n",
    "reshaped_consumption = energy_consumption.reshape(6, 4)\n",
    "print(\"\\nReshaped 6x4 Energy Consumption Array:\\n\", reshaped_consumption)\n",
    "\n",
    "row_sums = np.sum(reshaped_consumption, axis=1)\n",
    "column_sums = np.sum(reshaped_consumption, axis=0)\n",
    "print(\"\\nRow-wise sums:\\n\", row_sums)\n",
    "print(\"Column-wise sums:\\n\", column_sums)"
   ]
  },
  {
   "cell_type": "code",
   "execution_count": 3,
   "id": "2a807c0e-01c7-4b5f-8d51-82f196375d83",
   "metadata": {},
   "outputs": [
    {
     "name": "stdout",
     "output_type": "stream",
     "text": [
      "\n",
      "Student Names with Roll Numbers:\n",
      " 101      Alice\n",
      "102        Bob\n",
      "103    Charlie\n",
      "104      David\n",
      "dtype: object\n"
     ]
    }
   ],
   "source": [
    "import pandas as pd\n",
    "\n",
    "student_names = ['Alice', 'Bob', 'Charlie', 'David']\n",
    "roll_numbers = [101, 102, 103, 104]\n",
    "\n",
    "student_series = pd.Series(student_names, index=roll_numbers)\n",
    "print(\"\\nStudent Names with Roll Numbers:\\n\", student_series)"
   ]
  },
  {
   "cell_type": "code",
   "execution_count": 4,
   "id": "7f722479-ff0d-4797-ba86-ccf7017ebe63",
   "metadata": {},
   "outputs": [
    {
     "name": "stdout",
     "output_type": "stream",
     "text": [
      "\n",
      "All Student Records:\n",
      "       Name  Age Department\n",
      "0    Alice   20        CSE\n",
      "1      Bob   21        ECE\n",
      "2  Charlie   20        CSE\n",
      "3    David   22       MECH\n",
      "4      Eve   21        ECE\n",
      "\n",
      "Records of Students in CSE Department:\n",
      "       Name  Age Department\n",
      "0    Alice   20        CSE\n",
      "2  Charlie   20        CSE\n"
     ]
    }
   ],
   "source": [
    "import pandas as pd\n",
    "\n",
    "names = ['Alice', 'Bob', 'Charlie', 'David', 'Eve']\n",
    "ages = [20, 21, 20, 22, 21]\n",
    "departments = ['CSE', 'ECE', 'CSE', 'MECH', 'ECE']\n",
    "\n",
    "student_data = {'Name': names, 'Age': ages, 'Department': departments}\n",
    "\n",
    "student_df = pd.DataFrame(student_data)\n",
    "print(\"\\nAll Student Records:\\n\", student_df)\n",
    "\n",
    "cse_students = student_df[student_df['Department'] == 'CSE']\n",
    "print(\"\\nRecords of Students in CSE Department:\\n\", cse_students)"
   ]
  },
  {
   "cell_type": "code",
   "execution_count": 5,
   "id": "e3a62b25-9975-45be-bd29-70955588c87c",
   "metadata": {},
   "outputs": [
    {
     "name": "stdout",
     "output_type": "stream",
     "text": [
      "\n",
      "All Employee Records:\n",
      "     Name  Salary  Years of Experience\n",
      "0   John   60000                    5\n",
      "1   Jane   45000                    2\n",
      "2  Peter   75000                    8\n",
      "3  Susan   48000                    3\n",
      "\n",
      "Employees with Salary > 50000:\n",
      "     Name  Salary  Years of Experience\n",
      "0   John   60000                    5\n",
      "2  Peter   75000                    8\n"
     ]
    }
   ],
   "source": [
    "import pandas as pd\n",
    "\n",
    "employee_data = {\n",
    "    'Name': ['John', 'Jane', 'Peter', 'Susan'],\n",
    "    'Salary': [60000, 45000, 75000, 48000],\n",
    "    'Years of Experience': [5, 2, 8, 3]\n",
    "}\n",
    "\n",
    "employee_df = pd.DataFrame(employee_data)\n",
    "print(\"\\nAll Employee Records:\\n\", employee_df)\n",
    "\n",
    "high_salary_employees = employee_df[employee_df['Salary'] > 50000]\n",
    "print(\"\\nEmployees with Salary > 50000:\\n\", high_salary_employees)"
   ]
  }
 ],
 "metadata": {
  "kernelspec": {
   "display_name": "Python 3 (ipykernel)",
   "language": "python",
   "name": "python3"
  },
  "language_info": {
   "codemirror_mode": {
    "name": "ipython",
    "version": 3
   },
   "file_extension": ".py",
   "mimetype": "text/x-python",
   "name": "python",
   "nbconvert_exporter": "python",
   "pygments_lexer": "ipython3",
   "version": "3.13.5"
  }
 },
 "nbformat": 4,
 "nbformat_minor": 5
}
